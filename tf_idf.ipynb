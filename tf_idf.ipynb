{
  "nbformat": 4,
  "nbformat_minor": 0,
  "metadata": {
    "colab": {
      "provenance": []
    },
    "kernelspec": {
      "name": "python3",
      "display_name": "Python 3"
    },
    "language_info": {
      "name": "python"
    }
  },
  "cells": [
    {
      "cell_type": "markdown",
      "source": [
        "# Pembobotan menggunakan TF-IDF"
      ],
      "metadata": {
        "id": "498VBcqqM4ZX"
      }
    },
    {
      "cell_type": "code",
      "source": [
        "import nltk\n",
        "from google.colab import drive\n",
        "from nltk.corpus import stopwords\n",
        "from nltk.stem import WordNetLemmatizer\n",
        "import re\n",
        "import os\n",
        "import math\n",
        "\n",
        "nltk.download('stopwords')\n",
        "nltk.download('wordnet')"
      ],
      "metadata": {
        "colab": {
          "base_uri": "https://localhost:8080/"
        },
        "id": "S2r6DpAMdlQI",
        "outputId": "64138aca-e876-4c2e-dbd1-731f085854e4"
      },
      "execution_count": 1,
      "outputs": [
        {
          "output_type": "stream",
          "name": "stderr",
          "text": [
            "[nltk_data] Downloading package stopwords to /root/nltk_data...\n",
            "[nltk_data]   Package stopwords is already up-to-date!\n",
            "[nltk_data] Downloading package wordnet to /root/nltk_data...\n",
            "[nltk_data]   Package wordnet is already up-to-date!\n"
          ]
        },
        {
          "output_type": "execute_result",
          "data": {
            "text/plain": [
              "True"
            ]
          },
          "metadata": {},
          "execution_count": 1
        }
      ]
    },
    {
      "cell_type": "code",
      "source": [
        "drive.mount('/gdrive')\n",
        "%cd /gdrive"
      ],
      "metadata": {
        "colab": {
          "base_uri": "https://localhost:8080/"
        },
        "id": "PXHI_FXbYmwK",
        "outputId": "265e6960-7101-46f6-98c5-2b38b3e6b6aa"
      },
      "execution_count": 2,
      "outputs": [
        {
          "output_type": "stream",
          "name": "stdout",
          "text": [
            "Drive already mounted at /gdrive; to attempt to forcibly remount, call drive.mount(\"/gdrive\", force_remount=True).\n",
            "/gdrive\n"
          ]
        }
      ]
    },
    {
      "cell_type": "markdown",
      "source": [
        "## Memuat dokumen\n",
        "\n",
        "Setiap dokumen berasal dari file `.txt` yang berisi teks data berita dalam bahas Inggris. `docs` menampung semua dokumen yang telah dimuat."
      ],
      "metadata": {
        "id": "OmWzBskOMypV"
      }
    },
    {
      "cell_type": "code",
      "execution_count": 3,
      "metadata": {
        "id": "lDfbArrNYKaC"
      },
      "outputs": [],
      "source": [
        "folder = '/gdrive/My Drive/Colab Notebooks/dataset/txt'\n",
        "filenames = [\n",
        "    'Ukraine ammunition depot reportedly hit in wave of Russian missile attacks.txt',\n",
        "    'More than 20,000 Russian soldiers killed in five months in Ukraine, US says.txt',\n",
        "    'Dutch police arrest fake ‘Boris Johnson’ for suspected drink-driving.txt'\n",
        "]\n",
        "\n",
        "docs = []\n",
        "for name in filenames:\n",
        "    src = os.path.join(folder, name)\n",
        "    file = open(src, 'r')\n",
        "    docs.append(file.read())\n",
        "    file.close()"
      ]
    },
    {
      "cell_type": "code",
      "source": [
        "print('docs:')\n",
        "for d in docs:\n",
        "    print(repr(d))"
      ],
      "metadata": {
        "colab": {
          "base_uri": "https://localhost:8080/"
        },
        "id": "n4AbKSQOEQIo",
        "outputId": "a215468c-0754-4372-87bf-7e375aef1624"
      },
      "execution_count": 4,
      "outputs": [
        {
          "output_type": "stream",
          "name": "stdout",
          "text": [
            "docs:\n",
            "'Ukraine ammunition depot reportedly hit in wave of Russian missile attacks\\n\\nRussian missile strikes have injured 34 civilians and apparently damaged railway infrastructure and an ammunition depot in south-eastern Ukraine, hours before an explosion inside Russia derailed a freight train.\\n\\nThe attacks on both sides of the border on Monday apparently aimed to disrupt military logistics before a significant Ukrainian counteroffensive against occupying Russian troops, expected to start shortly in the south or the east.\\n\\nThe Russian strike in the Ukrainian city of Pavlohrad was part of the second wave of missile attacks in just three days; on Friday, 23 people were killed when a missile hit an apartment block in central Uman city, and a woman and her daughter died in Dnipro.\\n\\nWith Kyiv’s allies saying that equipment and newly trained troops promised for the next Ukrainian campaign are in place, Moscow has revived its winter tactics of attempting to orchestrate bombing campaigns far behind Ukrainian frontlines.\\n\\nIt launched 18 cruise missiles in the early hours of Monday morning, although 15 were intercepted by air defences, including the ones aimed at Kyiv. Support from western allies has helped Ukraine improve protection for its cities and the main military sites.\\n\\nAt Pavlohrad, video posted on social media showed a missile strike had caused a significant blaze and secondary detonations.\\n\\nAmong the buildings damaged or destroyed were an industrial zone, 19 apartment buildings and 25 homes, according to Mykola Lukashuk, the head of the Dnipro regional council. Two women were seriously injured.\\n\\nRussian officials and the Tass state news agency claimed Moscow had hit an ammunition depot and railway infrastructure, hampering military preparations.\\n\\n“The objectives of the strike were achieved,” the defence ministry said in a statement. “The work of enterprises making ammunition, weapons and military equipment for Ukrainian troops has been disrupted.”\\n\\nUkrainian sources said one location hit was a plant that produced solid fuel for Soviet-era rocket motors and had a number of expired solid fuel motors awaiting decommissioning, although that claim could not be immediately verified.\\n\\nLocal residents carry the caskets of two children who officials said were killed by a Russian missile strike in the town of Uman.\\nWhen Russia targets ordinary homes: the attacks that mean no one is safe in Ukraine\\nRead more\\nThe size of the fire in Pavlohrad suggests Russia may have hit an important arms depot, and the incident comes after Ukraine’s recent attack on an oil storage facility in Sevastopol, Crimea.\\n\\n“Around 2.30am, the Russian invaders attacked Ukraine from strategic aviation planes,” said a post on the Telegram channel of Valerii Zaluzhnyi, the commander in chief of Ukraine’s armed forces.\\n\\nAir defence systems were called into action to shield the Kyiv region from Russian missiles, officials said. Ukrainian media reported blasts in the Dnipropetrovsk and Sumy regions.\\n\\nSenior Ukrainian officials have suggested in recent days that the counteroffensive may be imminent. It will be a critical test of whether Russia can be dislodged from land it seized in 2014 and last year – nearly one-fifth of Ukrainian territory.\\n\\n“If in a global sense, in a high-percentage mode, we are ready,” Ukraine’s defence minister, Oleksii Reznikov, said during a press conference in Kyiv on Friday. “Then the question [about when to launch] is for the general staff, for the command. As soon as there is God’s will, the weather, and the decision of the commanders – we will do it.”\\n\\nOn Monday an explosion in the Russian region of Bryansk, which borders Ukraine, derailed a freight train, the local governor said in a social media post.\\n\\n“An unidentified explosive device went off, as a result of which a locomotive of a freight train derailed,” Alexander Bogomaz said on Telegram, adding that there were no casualties reported.\\n\\nLocal authorities said the train was transporting fuel and building materials. Images shared on social media showed several tank carriages laying on their side and smoke rising into the air.\\n\\nIt was not immediately clear who was responsible for the attack, which happened less than 40 miles from the border with Ukraine.\\n\\nThere has been an increase in rail incidents in Russia in the 14 months since Vladimir Putin ordered the full-scale invasion of Ukraine. The authorities in Russia have arrested at least 66 Russians on suspicion of railway sabotage since last autumn, according to the independent Russian website Mediazona.\\n\\nSeparately, the governor of Russia’s Leningrad region near St Petersburg said a power line had been blown up overnight and an explosive device found near a second line.\\n'\n",
            "\"More than 20,000 Russian soldiers killed in five months in Ukraine, US says\\n\\nMore than 20,000 Russian soldiers have been killed and more than 80,000 injured in just five months of fighting in Ukraine, an acceleration in already heavy losses for Moscow, US intelligence officials estimate.\\n\\nMost of the troops were killed in brutal trench warfare for the small eastern city of Bakhmut, which Russia has repeatedly claimed it was on the brink of capturing, White House national security council spokesperson John Kirby said when he revealed the new estimate on Monday.\\n\\nPeople are seen at the site of a residential area hit by a Russian military strike, amid Russia's attack on Ukraine, in the town of Pavlohrod\\nUkraine ammunition depot reportedly hit in wave of Russian missile attacks\\nRead more\\n“Russia’s attempt at an offensive in the Donbas, largely through Bakhmut, has failed … Russia has been unable to seize any really strategically significant territory,” Kirby said.\\n\\nThe losses are an acceleration in Russian casualties even from the bloody first days of the war, and overshadow some of the bloodiest allied battles of the second world war, Kirby added. That includes the Guadalcanal campaign, the first major Allied offensive against Japan, which also lasted five months.\\n\\n“It’s three times the number of killed in action that the United States faced on the Guadalcanal campaign in World War II,” the AP quoted Kirby saying.\\n\\nKirby did not detail how the US calculated the deaths, but said about half were fighting under the Wagner mercenary group, rather than with the Russian military. They were being sent into battle without proper training or leadership, he added.\\n\\nFounded by a close Putin aide, the group has recruited heavily in prisons, offering convicts who survive six months on the bloody frontlines an amnesty. The US figures underline what a deadly gamble those who accept are making.\\n\\nUkrainian forces are still holding out in a corner of Bakhmut. Col Gen Oleksandr Syrskyi, the commander of ground forces, said on Monday “the situation is quite difficult”, but Ukrainian forces are still counterattacking against Russians.\\n\\nThe two sides are fighting for control of a road west out of the city. It serves as the last vital supply line for Ukrainian troops fighting on the ground there.\\n\\nIf Bakhmut does finally fall, it might give Russia a route towards bigger towns to the west, including Kramatorsk. But after months of heavy losses, Moscow’s bitter push for the shelled-out ruins of this provincial town feels more symbolic than strategic.\\n\\n“This attempted effort, particularly in Bakhmut, has come at a terribly, terribly high cost. Russia has exhausted its military stockpiles and its armed forces,” Kirby said.\\n\\nAfter Russian troops retreated from Kyiv, and were pushed out of southern Kherson city and away from eastern Kharkiv, Bakhmut became a focus of the Russian military effort.\\n\\nThe mounting losses, and intense propaganda campaign about Russian military advances, will only have given political impetus to Putin’s drive to seize it.\\n\\nIn November US officials estimated Russian casualties for the first eight months of the war were at a similar level to that reached between December and April, with more than 100,000 dead and injured.\\n\\nThe US has declined to estimate Ukrainian casualties publicly, saying it is sensitive military information that could undermine an ally. Leaked secret briefing documents estimated the toll in February had reached between 15,500 and 17,500 killed, and more than 100,000 injured.\\n\"\n",
            "'Dutch police arrest fake ‘Boris Johnson’ for suspected drink-driving\\n\\nDutch police who arrested a man in connection with a drink-driving incident were surprised to find that the name on his driving licence was Boris Johnson.\\n\\nThe Ukrainian driver’s fake licence, complete with the former British prime minister’s picture and correct birthdate, was purportedly issued in 2019 and valid until the end of the year 3000.\\n\\nA police spokesperson, Thijs Damstra, said officers investigated an incident shortly after midnight on Sunday when a car crashed into a pole near the Emma Bridge in the northern city of Groningen. The car was abandoned but police were later told that the driver was standing on the bridge.\\n\\n“The person could not identify himself and refused to undertake a breathalyser test,” Damstra said on Monday. The 35-year-old man, from the small town of Zuidhorn, west of Groningen, was arrested and police searched the car. “Inside, police found a fake driver’s licence belonging to Boris Johnson,” Damstra said.\\n\\nGroningen police said on their Instagram account: “Unfortunately for this person, we did not fall for his forgery.”\\n\\nPolice could not say where the forged document was made, but Kysia Hekster, a former Russia correspondent for the public broadcaster NOS, said in a tweet published by the NOS that fake driving licences could easily be bought in tourist shops in Ukraine.\\n\\nDamstra added: “As far as I’m aware, the real Mr Boris Johnson was not in the Netherlands at the time.”\\n'\n"
          ]
        }
      ]
    },
    {
      "cell_type": "markdown",
      "source": [
        "## Mengubah teks menjadi token\n",
        "\n",
        "Semua teks yang terkandung di dalam dokumen akan diubah menjadi token. Token diperoleh dari pemotongan teks berdasarkan karakter spasi, dengan demikian satu token mewakili satu kata di dalam teks. Adapun metode lemmatization yang diterapkan kepada token-token tersebut untuk mengubah bentuk kata ke kata dasar agar lebih relevan."
      ],
      "metadata": {
        "id": "i8Id99kNNtsQ"
      }
    },
    {
      "cell_type": "code",
      "source": [
        "lemmatizer = WordNetLemmatizer()\n",
        "\n",
        "def tokenize(text):\n",
        "    sentences = text.split('.')\n",
        "    sentences = [re.sub(r\"[^a-zA-Z ]\", ' ', s) for s in sentences]\n",
        "    tokens = [t for t in ' '.join(sentences).split(' ') if len(t) > 0]\n",
        "    tokens = [t for t in tokens if t not in stopwords.words('english')]\n",
        "    tokens = [lemmatizer.lemmatize(t) for t in tokens]\n",
        "    tokens = [t.lower() for t in tokens]\n",
        "    return tokens"
      ],
      "metadata": {
        "id": "tIBV5_wto45v"
      },
      "execution_count": 5,
      "outputs": []
    },
    {
      "cell_type": "code",
      "source": [
        "def vocab_from_tokenized_docs(docs):\n",
        "    vocab = []\n",
        "    for d in docs:\n",
        "        vocab.extend(d)\n",
        "    return list(dict.fromkeys(vocab))"
      ],
      "metadata": {
        "id": "eHRSxgHMuj2I"
      },
      "execution_count": 6,
      "outputs": []
    },
    {
      "cell_type": "code",
      "source": [
        "docs = [tokenize(d) for d in docs]"
      ],
      "metadata": {
        "id": "1KpyZ1XwqVlr"
      },
      "execution_count": 7,
      "outputs": []
    },
    {
      "cell_type": "code",
      "source": [
        "print('docs:')\n",
        "for d in docs:\n",
        "    print(d)"
      ],
      "metadata": {
        "colab": {
          "base_uri": "https://localhost:8080/"
        },
        "id": "-3x2gNKz7HfZ",
        "outputId": "b853da3f-77bb-4c0e-8481-fa526ca9caf5"
      },
      "execution_count": 8,
      "outputs": [
        {
          "output_type": "stream",
          "name": "stdout",
          "text": [
            "docs:\n",
            "['ukraine', 'ammunition', 'depot', 'reportedly', 'hit', 'wave', 'russian', 'missile', 'attack', 'russian', 'missile', 'strike', 'injured', 'civilian', 'apparently', 'damaged', 'railway', 'infrastructure', 'ammunition', 'depot', 'south', 'eastern', 'ukraine', 'hour', 'explosion', 'inside', 'russia', 'derailed', 'freight', 'train', 'the', 'attack', 'side', 'border', 'monday', 'apparently', 'aimed', 'disrupt', 'military', 'logistics', 'significant', 'ukrainian', 'counteroffensive', 'occupying', 'russian', 'troop', 'expected', 'start', 'shortly', 'south', 'east', 'the', 'russian', 'strike', 'ukrainian', 'city', 'pavlohrad', 'part', 'second', 'wave', 'missile', 'attack', 'three', 'day', 'friday', 'people', 'killed', 'missile', 'hit', 'apartment', 'block', 'central', 'uman', 'city', 'woman', 'daughter', 'died', 'dnipro', 'with', 'kyiv', 'ally', 'saying', 'equipment', 'newly', 'trained', 'troop', 'promised', 'next', 'ukrainian', 'campaign', 'place', 'moscow', 'revived', 'winter', 'tactic', 'attempting', 'orchestrate', 'bombing', 'campaign', 'far', 'behind', 'ukrainian', 'frontlines', 'it', 'launched', 'cruise', 'missile', 'early', 'hour', 'monday', 'morning', 'although', 'intercepted', 'air', 'defence', 'including', 'one', 'aimed', 'kyiv', 'support', 'western', 'ally', 'helped', 'ukraine', 'improve', 'protection', 'city', 'main', 'military', 'site', 'at', 'pavlohrad', 'video', 'posted', 'social', 'medium', 'showed', 'missile', 'strike', 'caused', 'significant', 'blaze', 'secondary', 'detonation', 'among', 'building', 'damaged', 'destroyed', 'industrial', 'zone', 'apartment', 'building', 'home', 'according', 'mykola', 'lukashuk', 'head', 'dnipro', 'regional', 'council', 'two', 'woman', 'seriously', 'injured', 'russian', 'official', 'tass', 'state', 'news', 'agency', 'claimed', 'moscow', 'hit', 'ammunition', 'depot', 'railway', 'infrastructure', 'hampering', 'military', 'preparation', 'the', 'objective', 'strike', 'achieved', 'defence', 'ministry', 'said', 'statement', 'the', 'work', 'enterprise', 'making', 'ammunition', 'weapon', 'military', 'equipment', 'ukrainian', 'troop', 'disrupted', 'ukrainian', 'source', 'said', 'one', 'location', 'hit', 'plant', 'produced', 'solid', 'fuel', 'soviet', 'era', 'rocket', 'motor', 'number', 'expired', 'solid', 'fuel', 'motor', 'awaiting', 'decommissioning', 'although', 'claim', 'could', 'immediately', 'verified', 'local', 'resident', 'carry', 'casket', 'two', 'child', 'official', 'said', 'killed', 'russian', 'missile', 'strike', 'town', 'uman', 'when', 'russia', 'target', 'ordinary', 'home', 'attack', 'mean', 'one', 'safe', 'ukraine', 'read', 'the', 'size', 'fire', 'pavlohrad', 'suggests', 'russia', 'may', 'hit', 'important', 'arm', 'depot', 'incident', 'come', 'ukraine', 'recent', 'attack', 'oil', 'storage', 'facility', 'sevastopol', 'crimea', 'around', 'russian', 'invader', 'attacked', 'ukraine', 'strategic', 'aviation', 'plane', 'said', 'post', 'telegram', 'channel', 'valerii', 'zaluzhnyi', 'commander', 'chief', 'ukraine', 'armed', 'force', 'air', 'defence', 'system', 'called', 'action', 'shield', 'kyiv', 'region', 'russian', 'missile', 'official', 'said', 'ukrainian', 'medium', 'reported', 'blast', 'dnipropetrovsk', 'sumy', 'region', 'senior', 'ukrainian', 'official', 'suggested', 'recent', 'day', 'counteroffensive', 'may', 'imminent', 'it', 'critical', 'test', 'whether', 'russia', 'dislodged', 'land', 'seized', 'last', 'year', 'nearly', 'one', 'fifth', 'ukrainian', 'territory', 'if', 'global', 'sense', 'high', 'percentage', 'mode', 'ready', 'ukraine', 'defence', 'minister', 'oleksii', 'reznikov', 'said', 'press', 'conference', 'kyiv', 'friday', 'then', 'question', 'launch', 'general', 'staff', 'command', 'as', 'soon', 'god', 'weather', 'decision', 'commander', 'on', 'monday', 'explosion', 'russian', 'region', 'bryansk', 'border', 'ukraine', 'derailed', 'freight', 'train', 'local', 'governor', 'said', 'social', 'medium', 'post', 'an', 'unidentified', 'explosive', 'device', 'went', 'result', 'locomotive', 'freight', 'train', 'derailed', 'alexander', 'bogomaz', 'said', 'telegram', 'adding', 'casualty', 'reported', 'local', 'authority', 'said', 'train', 'transporting', 'fuel', 'building', 'material', 'images', 'shared', 'social', 'medium', 'showed', 'several', 'tank', 'carriage', 'laying', 'side', 'smoke', 'rising', 'air', 'it', 'immediately', 'clear', 'responsible', 'attack', 'happened', 'le', 'mile', 'border', 'ukraine', 'there', 'increase', 'rail', 'incident', 'russia', 'month', 'since', 'vladimir', 'putin', 'ordered', 'full', 'scale', 'invasion', 'ukraine', 'the', 'authority', 'russia', 'arrested', 'least', 'russians', 'suspicion', 'railway', 'sabotage', 'since', 'last', 'autumn', 'according', 'independent', 'russian', 'website', 'mediazona', 'separately', 'governor', 'russia', 'leningrad', 'region', 'near', 'st', 'petersburg', 'said', 'power', 'line', 'blown', 'overnight', 'explosive', 'device', 'found', 'near', 'second', 'line']\n",
            "['more', 'russian', 'soldier', 'killed', 'five', 'month', 'ukraine', 'us', 'say', 'more', 'russian', 'soldier', 'killed', 'injured', 'five', 'month', 'fighting', 'ukraine', 'acceleration', 'already', 'heavy', 'loss', 'moscow', 'us', 'intelligence', 'official', 'estimate', 'most', 'troop', 'killed', 'brutal', 'trench', 'warfare', 'small', 'eastern', 'city', 'bakhmut', 'russia', 'repeatedly', 'claimed', 'brink', 'capturing', 'white', 'house', 'national', 'security', 'council', 'spokesperson', 'john', 'kirby', 'said', 'revealed', 'new', 'estimate', 'monday', 'people', 'seen', 'site', 'residential', 'area', 'hit', 'russian', 'military', 'strike', 'amid', 'russia', 'attack', 'ukraine', 'town', 'pavlohrod', 'ukraine', 'ammunition', 'depot', 'reportedly', 'hit', 'wave', 'russian', 'missile', 'attack', 'read', 'russia', 'attempt', 'offensive', 'donbas', 'largely', 'bakhmut', 'failed', 'russia', 'unable', 'seize', 'really', 'strategically', 'significant', 'territory', 'kirby', 'said', 'the', 'loss', 'acceleration', 'russian', 'casualty', 'even', 'bloody', 'first', 'day', 'war', 'overshadow', 'bloodiest', 'allied', 'battle', 'second', 'world', 'war', 'kirby', 'added', 'that', 'includes', 'guadalcanal', 'campaign', 'first', 'major', 'allied', 'offensive', 'japan', 'also', 'lasted', 'five', 'month', 'it', 'three', 'time', 'number', 'killed', 'action', 'united', 'states', 'faced', 'guadalcanal', 'campaign', 'world', 'war', 'ii', 'ap', 'quoted', 'kirby', 'saying', 'kirby', 'detail', 'us', 'calculated', 'death', 'said', 'half', 'fighting', 'wagner', 'mercenary', 'group', 'rather', 'russian', 'military', 'they', 'sent', 'battle', 'without', 'proper', 'training', 'leadership', 'added', 'founded', 'close', 'putin', 'aide', 'group', 'recruited', 'heavily', 'prison', 'offering', 'convict', 'survive', 'six', 'month', 'bloody', 'frontlines', 'amnesty', 'the', 'us', 'figure', 'underline', 'deadly', 'gamble', 'accept', 'making', 'ukrainian', 'force', 'still', 'holding', 'corner', 'bakhmut', 'col', 'gen', 'oleksandr', 'syrskyi', 'commander', 'ground', 'force', 'said', 'monday', 'situation', 'quite', 'difficult', 'ukrainian', 'force', 'still', 'counterattacking', 'russians', 'the', 'two', 'side', 'fighting', 'control', 'road', 'west', 'city', 'it', 'serf', 'last', 'vital', 'supply', 'line', 'ukrainian', 'troop', 'fighting', 'ground', 'if', 'bakhmut', 'finally', 'fall', 'might', 'give', 'russia', 'route', 'towards', 'bigger', 'town', 'west', 'including', 'kramatorsk', 'but', 'month', 'heavy', 'loss', 'moscow', 'bitter', 'push', 'shelled', 'ruin', 'provincial', 'town', 'feel', 'symbolic', 'strategic', 'this', 'attempted', 'effort', 'particularly', 'bakhmut', 'come', 'terribly', 'terribly', 'high', 'cost', 'russia', 'exhausted', 'military', 'stockpile', 'armed', 'force', 'kirby', 'said', 'after', 'russian', 'troop', 'retreated', 'kyiv', 'pushed', 'southern', 'kherson', 'city', 'away', 'eastern', 'kharkiv', 'bakhmut', 'became', 'focus', 'russian', 'military', 'effort', 'the', 'mounting', 'loss', 'intense', 'propaganda', 'campaign', 'russian', 'military', 'advance', 'given', 'political', 'impetus', 'putin', 'drive', 'seize', 'in', 'november', 'us', 'official', 'estimated', 'russian', 'casualty', 'first', 'eight', 'month', 'war', 'similar', 'level', 'reached', 'december', 'april', 'dead', 'injured', 'the', 'us', 'declined', 'estimate', 'ukrainian', 'casualty', 'publicly', 'saying', 'sensitive', 'military', 'information', 'could', 'undermine', 'ally', 'leaked', 'secret', 'briefing', 'document', 'estimated', 'toll', 'february', 'reached', 'killed', 'injured']\n",
            "['dutch', 'police', 'arrest', 'fake', 'boris', 'johnson', 'suspected', 'drink', 'driving', 'dutch', 'police', 'arrested', 'man', 'connection', 'drink', 'driving', 'incident', 'surprised', 'find', 'name', 'driving', 'licence', 'boris', 'johnson', 'the', 'ukrainian', 'driver', 'fake', 'licence', 'complete', 'former', 'british', 'prime', 'minister', 'picture', 'correct', 'birthdate', 'purportedly', 'issued', 'valid', 'end', 'year', 'a', 'police', 'spokesperson', 'thijs', 'damstra', 'said', 'officer', 'investigated', 'incident', 'shortly', 'midnight', 'sunday', 'car', 'crashed', 'pole', 'near', 'emma', 'bridge', 'northern', 'city', 'groningen', 'the', 'car', 'abandoned', 'police', 'later', 'told', 'driver', 'standing', 'bridge', 'the', 'person', 'could', 'identify', 'refused', 'undertake', 'breathalyser', 'test', 'damstra', 'said', 'monday', 'the', 'year', 'old', 'man', 'small', 'town', 'zuidhorn', 'west', 'groningen', 'arrested', 'police', 'searched', 'car', 'inside', 'police', 'found', 'fake', 'driver', 'licence', 'belonging', 'boris', 'johnson', 'damstra', 'said', 'groningen', 'police', 'said', 'instagram', 'account', 'unfortunately', 'person', 'fall', 'forgery', 'police', 'could', 'say', 'forged', 'document', 'made', 'kysia', 'hekster', 'former', 'russia', 'correspondent', 'public', 'broadcaster', 'nos', 'said', 'tweet', 'published', 'nos', 'fake', 'driving', 'licence', 'could', 'easily', 'bought', 'tourist', 'shop', 'ukraine', 'damstra', 'added', 'as', 'far', 'i', 'aware', 'real', 'mr', 'boris', 'johnson', 'netherlands', 'time']\n"
          ]
        }
      ]
    },
    {
      "cell_type": "markdown",
      "source": [
        "## Implementasi TF-IDF\n",
        "\n",
        "Berikut ini implementasi TF-IDF untuk memberikan bobot terhadap token yang telah diperoleh."
      ],
      "metadata": {
        "id": "Of9laj0kPd7o"
      }
    },
    {
      "cell_type": "markdown",
      "source": [
        "### Term frequence"
      ],
      "metadata": {
        "id": "RVFWEHoKPzyT"
      }
    },
    {
      "cell_type": "markdown",
      "source": [
        "\\begin{align}\n",
        "    w_{t,d} = tf_{t,d}\n",
        "\\end{align}\n",
        "\n",
        "Di mana $tf_{t,d} = $ jumlah kemunculan $t$ di dalam $d$."
      ],
      "metadata": {
        "id": "kK07pFCKJYgL"
      }
    },
    {
      "cell_type": "code",
      "source": [
        "def term_freq(terms, docs):\n",
        "    freq = {}\n",
        "    for t in vocab_from_tokenized_docs(docs):\n",
        "        freq[t] = 0\n",
        "    for t in terms:\n",
        "        freq[t] += 1\n",
        "    return freq"
      ],
      "metadata": {
        "id": "HcFyN8wZt45l"
      },
      "execution_count": 9,
      "outputs": []
    },
    {
      "cell_type": "code",
      "source": [
        "w_td = [term_freq(d, docs) for d in docs]"
      ],
      "metadata": {
        "id": "TfZjLRSXw3kC"
      },
      "execution_count": 10,
      "outputs": []
    },
    {
      "cell_type": "code",
      "source": [
        "print('w_td:')\n",
        "for tf in w_td:\n",
        "    print(tf)"
      ],
      "metadata": {
        "colab": {
          "base_uri": "https://localhost:8080/"
        },
        "id": "tuwa1WxZxWKI",
        "outputId": "3bfe3369-af90-4a03-ed53-16194481bb14"
      },
      "execution_count": 11,
      "outputs": [
        {
          "output_type": "stream",
          "name": "stdout",
          "text": [
            "w_td:\n",
            "{'ukraine': 11, 'ammunition': 4, 'depot': 4, 'reportedly': 1, 'hit': 5, 'wave': 2, 'russian': 10, 'missile': 8, 'attack': 6, 'strike': 5, 'injured': 2, 'civilian': 1, 'apparently': 2, 'damaged': 2, 'railway': 3, 'infrastructure': 2, 'south': 2, 'eastern': 1, 'hour': 2, 'explosion': 2, 'inside': 1, 'russia': 7, 'derailed': 3, 'freight': 3, 'train': 4, 'the': 6, 'side': 2, 'border': 3, 'monday': 3, 'aimed': 2, 'disrupt': 1, 'military': 4, 'logistics': 1, 'significant': 2, 'ukrainian': 9, 'counteroffensive': 2, 'occupying': 1, 'troop': 3, 'expected': 1, 'start': 1, 'shortly': 1, 'east': 1, 'city': 3, 'pavlohrad': 3, 'part': 1, 'second': 2, 'three': 1, 'day': 2, 'friday': 2, 'people': 1, 'killed': 2, 'apartment': 2, 'block': 1, 'central': 1, 'uman': 2, 'woman': 2, 'daughter': 1, 'died': 1, 'dnipro': 2, 'with': 1, 'kyiv': 4, 'ally': 2, 'saying': 1, 'equipment': 2, 'newly': 1, 'trained': 1, 'promised': 1, 'next': 1, 'campaign': 2, 'place': 1, 'moscow': 2, 'revived': 1, 'winter': 1, 'tactic': 1, 'attempting': 1, 'orchestrate': 1, 'bombing': 1, 'far': 1, 'behind': 1, 'frontlines': 1, 'it': 3, 'launched': 1, 'cruise': 1, 'early': 1, 'morning': 1, 'although': 2, 'intercepted': 1, 'air': 3, 'defence': 4, 'including': 1, 'one': 4, 'support': 1, 'western': 1, 'helped': 1, 'improve': 1, 'protection': 1, 'main': 1, 'site': 1, 'at': 1, 'video': 1, 'posted': 1, 'social': 3, 'medium': 4, 'showed': 2, 'caused': 1, 'blaze': 1, 'secondary': 1, 'detonation': 1, 'among': 1, 'building': 3, 'destroyed': 1, 'industrial': 1, 'zone': 1, 'home': 2, 'according': 2, 'mykola': 1, 'lukashuk': 1, 'head': 1, 'regional': 1, 'council': 1, 'two': 2, 'seriously': 1, 'official': 4, 'tass': 1, 'state': 1, 'news': 1, 'agency': 1, 'claimed': 1, 'hampering': 1, 'preparation': 1, 'objective': 1, 'achieved': 1, 'ministry': 1, 'said': 10, 'statement': 1, 'work': 1, 'enterprise': 1, 'making': 1, 'weapon': 1, 'disrupted': 1, 'source': 1, 'location': 1, 'plant': 1, 'produced': 1, 'solid': 2, 'fuel': 3, 'soviet': 1, 'era': 1, 'rocket': 1, 'motor': 2, 'number': 1, 'expired': 1, 'awaiting': 1, 'decommissioning': 1, 'claim': 1, 'could': 1, 'immediately': 2, 'verified': 1, 'local': 3, 'resident': 1, 'carry': 1, 'casket': 1, 'child': 1, 'town': 1, 'when': 1, 'target': 1, 'ordinary': 1, 'mean': 1, 'safe': 1, 'read': 1, 'size': 1, 'fire': 1, 'suggests': 1, 'may': 2, 'important': 1, 'arm': 1, 'incident': 2, 'come': 1, 'recent': 2, 'oil': 1, 'storage': 1, 'facility': 1, 'sevastopol': 1, 'crimea': 1, 'around': 1, 'invader': 1, 'attacked': 1, 'strategic': 1, 'aviation': 1, 'plane': 1, 'post': 2, 'telegram': 2, 'channel': 1, 'valerii': 1, 'zaluzhnyi': 1, 'commander': 2, 'chief': 1, 'armed': 1, 'force': 1, 'system': 1, 'called': 1, 'action': 1, 'shield': 1, 'region': 4, 'reported': 2, 'blast': 1, 'dnipropetrovsk': 1, 'sumy': 1, 'senior': 1, 'suggested': 1, 'imminent': 1, 'critical': 1, 'test': 1, 'whether': 1, 'dislodged': 1, 'land': 1, 'seized': 1, 'last': 2, 'year': 1, 'nearly': 1, 'fifth': 1, 'territory': 1, 'if': 1, 'global': 1, 'sense': 1, 'high': 1, 'percentage': 1, 'mode': 1, 'ready': 1, 'minister': 1, 'oleksii': 1, 'reznikov': 1, 'press': 1, 'conference': 1, 'then': 1, 'question': 1, 'launch': 1, 'general': 1, 'staff': 1, 'command': 1, 'as': 1, 'soon': 1, 'god': 1, 'weather': 1, 'decision': 1, 'on': 1, 'bryansk': 1, 'governor': 2, 'an': 1, 'unidentified': 1, 'explosive': 2, 'device': 2, 'went': 1, 'result': 1, 'locomotive': 1, 'alexander': 1, 'bogomaz': 1, 'adding': 1, 'casualty': 1, 'authority': 2, 'transporting': 1, 'material': 1, 'images': 1, 'shared': 1, 'several': 1, 'tank': 1, 'carriage': 1, 'laying': 1, 'smoke': 1, 'rising': 1, 'clear': 1, 'responsible': 1, 'happened': 1, 'le': 1, 'mile': 1, 'there': 1, 'increase': 1, 'rail': 1, 'month': 1, 'since': 2, 'vladimir': 1, 'putin': 1, 'ordered': 1, 'full': 1, 'scale': 1, 'invasion': 1, 'arrested': 1, 'least': 1, 'russians': 1, 'suspicion': 1, 'sabotage': 1, 'autumn': 1, 'independent': 1, 'website': 1, 'mediazona': 1, 'separately': 1, 'leningrad': 1, 'near': 2, 'st': 1, 'petersburg': 1, 'power': 1, 'line': 2, 'blown': 1, 'overnight': 1, 'found': 1, 'more': 0, 'soldier': 0, 'five': 0, 'us': 0, 'say': 0, 'fighting': 0, 'acceleration': 0, 'already': 0, 'heavy': 0, 'loss': 0, 'intelligence': 0, 'estimate': 0, 'most': 0, 'brutal': 0, 'trench': 0, 'warfare': 0, 'small': 0, 'bakhmut': 0, 'repeatedly': 0, 'brink': 0, 'capturing': 0, 'white': 0, 'house': 0, 'national': 0, 'security': 0, 'spokesperson': 0, 'john': 0, 'kirby': 0, 'revealed': 0, 'new': 0, 'seen': 0, 'residential': 0, 'area': 0, 'amid': 0, 'pavlohrod': 0, 'attempt': 0, 'offensive': 0, 'donbas': 0, 'largely': 0, 'failed': 0, 'unable': 0, 'seize': 0, 'really': 0, 'strategically': 0, 'even': 0, 'bloody': 0, 'first': 0, 'war': 0, 'overshadow': 0, 'bloodiest': 0, 'allied': 0, 'battle': 0, 'world': 0, 'added': 0, 'that': 0, 'includes': 0, 'guadalcanal': 0, 'major': 0, 'japan': 0, 'also': 0, 'lasted': 0, 'time': 0, 'united': 0, 'states': 0, 'faced': 0, 'ii': 0, 'ap': 0, 'quoted': 0, 'detail': 0, 'calculated': 0, 'death': 0, 'half': 0, 'wagner': 0, 'mercenary': 0, 'group': 0, 'rather': 0, 'they': 0, 'sent': 0, 'without': 0, 'proper': 0, 'training': 0, 'leadership': 0, 'founded': 0, 'close': 0, 'aide': 0, 'recruited': 0, 'heavily': 0, 'prison': 0, 'offering': 0, 'convict': 0, 'survive': 0, 'six': 0, 'amnesty': 0, 'figure': 0, 'underline': 0, 'deadly': 0, 'gamble': 0, 'accept': 0, 'still': 0, 'holding': 0, 'corner': 0, 'col': 0, 'gen': 0, 'oleksandr': 0, 'syrskyi': 0, 'ground': 0, 'situation': 0, 'quite': 0, 'difficult': 0, 'counterattacking': 0, 'control': 0, 'road': 0, 'west': 0, 'serf': 0, 'vital': 0, 'supply': 0, 'finally': 0, 'fall': 0, 'might': 0, 'give': 0, 'route': 0, 'towards': 0, 'bigger': 0, 'kramatorsk': 0, 'but': 0, 'bitter': 0, 'push': 0, 'shelled': 0, 'ruin': 0, 'provincial': 0, 'feel': 0, 'symbolic': 0, 'this': 0, 'attempted': 0, 'effort': 0, 'particularly': 0, 'terribly': 0, 'cost': 0, 'exhausted': 0, 'stockpile': 0, 'after': 0, 'retreated': 0, 'pushed': 0, 'southern': 0, 'kherson': 0, 'away': 0, 'kharkiv': 0, 'became': 0, 'focus': 0, 'mounting': 0, 'intense': 0, 'propaganda': 0, 'advance': 0, 'given': 0, 'political': 0, 'impetus': 0, 'drive': 0, 'in': 0, 'november': 0, 'estimated': 0, 'eight': 0, 'similar': 0, 'level': 0, 'reached': 0, 'december': 0, 'april': 0, 'dead': 0, 'declined': 0, 'publicly': 0, 'sensitive': 0, 'information': 0, 'undermine': 0, 'leaked': 0, 'secret': 0, 'briefing': 0, 'document': 0, 'toll': 0, 'february': 0, 'dutch': 0, 'police': 0, 'arrest': 0, 'fake': 0, 'boris': 0, 'johnson': 0, 'suspected': 0, 'drink': 0, 'driving': 0, 'man': 0, 'connection': 0, 'surprised': 0, 'find': 0, 'name': 0, 'licence': 0, 'driver': 0, 'complete': 0, 'former': 0, 'british': 0, 'prime': 0, 'picture': 0, 'correct': 0, 'birthdate': 0, 'purportedly': 0, 'issued': 0, 'valid': 0, 'end': 0, 'a': 0, 'thijs': 0, 'damstra': 0, 'officer': 0, 'investigated': 0, 'midnight': 0, 'sunday': 0, 'car': 0, 'crashed': 0, 'pole': 0, 'emma': 0, 'bridge': 0, 'northern': 0, 'groningen': 0, 'abandoned': 0, 'later': 0, 'told': 0, 'standing': 0, 'person': 0, 'identify': 0, 'refused': 0, 'undertake': 0, 'breathalyser': 0, 'old': 0, 'zuidhorn': 0, 'searched': 0, 'belonging': 0, 'instagram': 0, 'account': 0, 'unfortunately': 0, 'forgery': 0, 'forged': 0, 'made': 0, 'kysia': 0, 'hekster': 0, 'correspondent': 0, 'public': 0, 'broadcaster': 0, 'nos': 0, 'tweet': 0, 'published': 0, 'easily': 0, 'bought': 0, 'tourist': 0, 'shop': 0, 'i': 0, 'aware': 0, 'real': 0, 'mr': 0, 'netherlands': 0}\n",
            "{'ukraine': 4, 'ammunition': 1, 'depot': 1, 'reportedly': 1, 'hit': 2, 'wave': 1, 'russian': 10, 'missile': 1, 'attack': 2, 'strike': 1, 'injured': 3, 'civilian': 0, 'apparently': 0, 'damaged': 0, 'railway': 0, 'infrastructure': 0, 'south': 0, 'eastern': 2, 'hour': 0, 'explosion': 0, 'inside': 0, 'russia': 6, 'derailed': 0, 'freight': 0, 'train': 0, 'the': 5, 'side': 1, 'border': 0, 'monday': 2, 'aimed': 0, 'disrupt': 0, 'military': 6, 'logistics': 0, 'significant': 1, 'ukrainian': 4, 'counteroffensive': 0, 'occupying': 0, 'troop': 3, 'expected': 0, 'start': 0, 'shortly': 0, 'east': 0, 'city': 3, 'pavlohrad': 0, 'part': 0, 'second': 1, 'three': 1, 'day': 1, 'friday': 0, 'people': 1, 'killed': 5, 'apartment': 0, 'block': 0, 'central': 0, 'uman': 0, 'woman': 0, 'daughter': 0, 'died': 0, 'dnipro': 0, 'with': 0, 'kyiv': 1, 'ally': 1, 'saying': 2, 'equipment': 0, 'newly': 0, 'trained': 0, 'promised': 0, 'next': 0, 'campaign': 3, 'place': 0, 'moscow': 2, 'revived': 0, 'winter': 0, 'tactic': 0, 'attempting': 0, 'orchestrate': 0, 'bombing': 0, 'far': 0, 'behind': 0, 'frontlines': 1, 'it': 2, 'launched': 0, 'cruise': 0, 'early': 0, 'morning': 0, 'although': 0, 'intercepted': 0, 'air': 0, 'defence': 0, 'including': 1, 'one': 0, 'support': 0, 'western': 0, 'helped': 0, 'improve': 0, 'protection': 0, 'main': 0, 'site': 1, 'at': 0, 'video': 0, 'posted': 0, 'social': 0, 'medium': 0, 'showed': 0, 'caused': 0, 'blaze': 0, 'secondary': 0, 'detonation': 0, 'among': 0, 'building': 0, 'destroyed': 0, 'industrial': 0, 'zone': 0, 'home': 0, 'according': 0, 'mykola': 0, 'lukashuk': 0, 'head': 0, 'regional': 0, 'council': 1, 'two': 1, 'seriously': 0, 'official': 2, 'tass': 0, 'state': 0, 'news': 0, 'agency': 0, 'claimed': 1, 'hampering': 0, 'preparation': 0, 'objective': 0, 'achieved': 0, 'ministry': 0, 'said': 5, 'statement': 0, 'work': 0, 'enterprise': 0, 'making': 1, 'weapon': 0, 'disrupted': 0, 'source': 0, 'location': 0, 'plant': 0, 'produced': 0, 'solid': 0, 'fuel': 0, 'soviet': 0, 'era': 0, 'rocket': 0, 'motor': 0, 'number': 1, 'expired': 0, 'awaiting': 0, 'decommissioning': 0, 'claim': 0, 'could': 1, 'immediately': 0, 'verified': 0, 'local': 0, 'resident': 0, 'carry': 0, 'casket': 0, 'child': 0, 'town': 3, 'when': 0, 'target': 0, 'ordinary': 0, 'mean': 0, 'safe': 0, 'read': 1, 'size': 0, 'fire': 0, 'suggests': 0, 'may': 0, 'important': 0, 'arm': 0, 'incident': 0, 'come': 1, 'recent': 0, 'oil': 0, 'storage': 0, 'facility': 0, 'sevastopol': 0, 'crimea': 0, 'around': 0, 'invader': 0, 'attacked': 0, 'strategic': 1, 'aviation': 0, 'plane': 0, 'post': 0, 'telegram': 0, 'channel': 0, 'valerii': 0, 'zaluzhnyi': 0, 'commander': 1, 'chief': 0, 'armed': 1, 'force': 4, 'system': 0, 'called': 0, 'action': 1, 'shield': 0, 'region': 0, 'reported': 0, 'blast': 0, 'dnipropetrovsk': 0, 'sumy': 0, 'senior': 0, 'suggested': 0, 'imminent': 0, 'critical': 0, 'test': 0, 'whether': 0, 'dislodged': 0, 'land': 0, 'seized': 0, 'last': 1, 'year': 0, 'nearly': 0, 'fifth': 0, 'territory': 1, 'if': 1, 'global': 0, 'sense': 0, 'high': 1, 'percentage': 0, 'mode': 0, 'ready': 0, 'minister': 0, 'oleksii': 0, 'reznikov': 0, 'press': 0, 'conference': 0, 'then': 0, 'question': 0, 'launch': 0, 'general': 0, 'staff': 0, 'command': 0, 'as': 0, 'soon': 0, 'god': 0, 'weather': 0, 'decision': 0, 'on': 0, 'bryansk': 0, 'governor': 0, 'an': 0, 'unidentified': 0, 'explosive': 0, 'device': 0, 'went': 0, 'result': 0, 'locomotive': 0, 'alexander': 0, 'bogomaz': 0, 'adding': 0, 'casualty': 3, 'authority': 0, 'transporting': 0, 'material': 0, 'images': 0, 'shared': 0, 'several': 0, 'tank': 0, 'carriage': 0, 'laying': 0, 'smoke': 0, 'rising': 0, 'clear': 0, 'responsible': 0, 'happened': 0, 'le': 0, 'mile': 0, 'there': 0, 'increase': 0, 'rail': 0, 'month': 6, 'since': 0, 'vladimir': 0, 'putin': 2, 'ordered': 0, 'full': 0, 'scale': 0, 'invasion': 0, 'arrested': 0, 'least': 0, 'russians': 1, 'suspicion': 0, 'sabotage': 0, 'autumn': 0, 'independent': 0, 'website': 0, 'mediazona': 0, 'separately': 0, 'leningrad': 0, 'near': 0, 'st': 0, 'petersburg': 0, 'power': 0, 'line': 1, 'blown': 0, 'overnight': 0, 'found': 0, 'more': 2, 'soldier': 2, 'five': 3, 'us': 6, 'say': 1, 'fighting': 4, 'acceleration': 2, 'already': 1, 'heavy': 2, 'loss': 4, 'intelligence': 1, 'estimate': 3, 'most': 1, 'brutal': 1, 'trench': 1, 'warfare': 1, 'small': 1, 'bakhmut': 6, 'repeatedly': 1, 'brink': 1, 'capturing': 1, 'white': 1, 'house': 1, 'national': 1, 'security': 1, 'spokesperson': 1, 'john': 1, 'kirby': 6, 'revealed': 1, 'new': 1, 'seen': 1, 'residential': 1, 'area': 1, 'amid': 1, 'pavlohrod': 1, 'attempt': 1, 'offensive': 2, 'donbas': 1, 'largely': 1, 'failed': 1, 'unable': 1, 'seize': 2, 'really': 1, 'strategically': 1, 'even': 1, 'bloody': 2, 'first': 3, 'war': 4, 'overshadow': 1, 'bloodiest': 1, 'allied': 2, 'battle': 2, 'world': 2, 'added': 2, 'that': 1, 'includes': 1, 'guadalcanal': 2, 'major': 1, 'japan': 1, 'also': 1, 'lasted': 1, 'time': 1, 'united': 1, 'states': 1, 'faced': 1, 'ii': 1, 'ap': 1, 'quoted': 1, 'detail': 1, 'calculated': 1, 'death': 1, 'half': 1, 'wagner': 1, 'mercenary': 1, 'group': 2, 'rather': 1, 'they': 1, 'sent': 1, 'without': 1, 'proper': 1, 'training': 1, 'leadership': 1, 'founded': 1, 'close': 1, 'aide': 1, 'recruited': 1, 'heavily': 1, 'prison': 1, 'offering': 1, 'convict': 1, 'survive': 1, 'six': 1, 'amnesty': 1, 'figure': 1, 'underline': 1, 'deadly': 1, 'gamble': 1, 'accept': 1, 'still': 2, 'holding': 1, 'corner': 1, 'col': 1, 'gen': 1, 'oleksandr': 1, 'syrskyi': 1, 'ground': 2, 'situation': 1, 'quite': 1, 'difficult': 1, 'counterattacking': 1, 'control': 1, 'road': 1, 'west': 2, 'serf': 1, 'vital': 1, 'supply': 1, 'finally': 1, 'fall': 1, 'might': 1, 'give': 1, 'route': 1, 'towards': 1, 'bigger': 1, 'kramatorsk': 1, 'but': 1, 'bitter': 1, 'push': 1, 'shelled': 1, 'ruin': 1, 'provincial': 1, 'feel': 1, 'symbolic': 1, 'this': 1, 'attempted': 1, 'effort': 2, 'particularly': 1, 'terribly': 2, 'cost': 1, 'exhausted': 1, 'stockpile': 1, 'after': 1, 'retreated': 1, 'pushed': 1, 'southern': 1, 'kherson': 1, 'away': 1, 'kharkiv': 1, 'became': 1, 'focus': 1, 'mounting': 1, 'intense': 1, 'propaganda': 1, 'advance': 1, 'given': 1, 'political': 1, 'impetus': 1, 'drive': 1, 'in': 1, 'november': 1, 'estimated': 2, 'eight': 1, 'similar': 1, 'level': 1, 'reached': 2, 'december': 1, 'april': 1, 'dead': 1, 'declined': 1, 'publicly': 1, 'sensitive': 1, 'information': 1, 'undermine': 1, 'leaked': 1, 'secret': 1, 'briefing': 1, 'document': 1, 'toll': 1, 'february': 1, 'dutch': 0, 'police': 0, 'arrest': 0, 'fake': 0, 'boris': 0, 'johnson': 0, 'suspected': 0, 'drink': 0, 'driving': 0, 'man': 0, 'connection': 0, 'surprised': 0, 'find': 0, 'name': 0, 'licence': 0, 'driver': 0, 'complete': 0, 'former': 0, 'british': 0, 'prime': 0, 'picture': 0, 'correct': 0, 'birthdate': 0, 'purportedly': 0, 'issued': 0, 'valid': 0, 'end': 0, 'a': 0, 'thijs': 0, 'damstra': 0, 'officer': 0, 'investigated': 0, 'midnight': 0, 'sunday': 0, 'car': 0, 'crashed': 0, 'pole': 0, 'emma': 0, 'bridge': 0, 'northern': 0, 'groningen': 0, 'abandoned': 0, 'later': 0, 'told': 0, 'standing': 0, 'person': 0, 'identify': 0, 'refused': 0, 'undertake': 0, 'breathalyser': 0, 'old': 0, 'zuidhorn': 0, 'searched': 0, 'belonging': 0, 'instagram': 0, 'account': 0, 'unfortunately': 0, 'forgery': 0, 'forged': 0, 'made': 0, 'kysia': 0, 'hekster': 0, 'correspondent': 0, 'public': 0, 'broadcaster': 0, 'nos': 0, 'tweet': 0, 'published': 0, 'easily': 0, 'bought': 0, 'tourist': 0, 'shop': 0, 'i': 0, 'aware': 0, 'real': 0, 'mr': 0, 'netherlands': 0}\n",
            "{'ukraine': 1, 'ammunition': 0, 'depot': 0, 'reportedly': 0, 'hit': 0, 'wave': 0, 'russian': 0, 'missile': 0, 'attack': 0, 'strike': 0, 'injured': 0, 'civilian': 0, 'apparently': 0, 'damaged': 0, 'railway': 0, 'infrastructure': 0, 'south': 0, 'eastern': 0, 'hour': 0, 'explosion': 0, 'inside': 1, 'russia': 1, 'derailed': 0, 'freight': 0, 'train': 0, 'the': 4, 'side': 0, 'border': 0, 'monday': 1, 'aimed': 0, 'disrupt': 0, 'military': 0, 'logistics': 0, 'significant': 0, 'ukrainian': 1, 'counteroffensive': 0, 'occupying': 0, 'troop': 0, 'expected': 0, 'start': 0, 'shortly': 1, 'east': 0, 'city': 1, 'pavlohrad': 0, 'part': 0, 'second': 0, 'three': 0, 'day': 0, 'friday': 0, 'people': 0, 'killed': 0, 'apartment': 0, 'block': 0, 'central': 0, 'uman': 0, 'woman': 0, 'daughter': 0, 'died': 0, 'dnipro': 0, 'with': 0, 'kyiv': 0, 'ally': 0, 'saying': 0, 'equipment': 0, 'newly': 0, 'trained': 0, 'promised': 0, 'next': 0, 'campaign': 0, 'place': 0, 'moscow': 0, 'revived': 0, 'winter': 0, 'tactic': 0, 'attempting': 0, 'orchestrate': 0, 'bombing': 0, 'far': 1, 'behind': 0, 'frontlines': 0, 'it': 0, 'launched': 0, 'cruise': 0, 'early': 0, 'morning': 0, 'although': 0, 'intercepted': 0, 'air': 0, 'defence': 0, 'including': 0, 'one': 0, 'support': 0, 'western': 0, 'helped': 0, 'improve': 0, 'protection': 0, 'main': 0, 'site': 0, 'at': 0, 'video': 0, 'posted': 0, 'social': 0, 'medium': 0, 'showed': 0, 'caused': 0, 'blaze': 0, 'secondary': 0, 'detonation': 0, 'among': 0, 'building': 0, 'destroyed': 0, 'industrial': 0, 'zone': 0, 'home': 0, 'according': 0, 'mykola': 0, 'lukashuk': 0, 'head': 0, 'regional': 0, 'council': 0, 'two': 0, 'seriously': 0, 'official': 0, 'tass': 0, 'state': 0, 'news': 0, 'agency': 0, 'claimed': 0, 'hampering': 0, 'preparation': 0, 'objective': 0, 'achieved': 0, 'ministry': 0, 'said': 5, 'statement': 0, 'work': 0, 'enterprise': 0, 'making': 0, 'weapon': 0, 'disrupted': 0, 'source': 0, 'location': 0, 'plant': 0, 'produced': 0, 'solid': 0, 'fuel': 0, 'soviet': 0, 'era': 0, 'rocket': 0, 'motor': 0, 'number': 0, 'expired': 0, 'awaiting': 0, 'decommissioning': 0, 'claim': 0, 'could': 3, 'immediately': 0, 'verified': 0, 'local': 0, 'resident': 0, 'carry': 0, 'casket': 0, 'child': 0, 'town': 1, 'when': 0, 'target': 0, 'ordinary': 0, 'mean': 0, 'safe': 0, 'read': 0, 'size': 0, 'fire': 0, 'suggests': 0, 'may': 0, 'important': 0, 'arm': 0, 'incident': 2, 'come': 0, 'recent': 0, 'oil': 0, 'storage': 0, 'facility': 0, 'sevastopol': 0, 'crimea': 0, 'around': 0, 'invader': 0, 'attacked': 0, 'strategic': 0, 'aviation': 0, 'plane': 0, 'post': 0, 'telegram': 0, 'channel': 0, 'valerii': 0, 'zaluzhnyi': 0, 'commander': 0, 'chief': 0, 'armed': 0, 'force': 0, 'system': 0, 'called': 0, 'action': 0, 'shield': 0, 'region': 0, 'reported': 0, 'blast': 0, 'dnipropetrovsk': 0, 'sumy': 0, 'senior': 0, 'suggested': 0, 'imminent': 0, 'critical': 0, 'test': 1, 'whether': 0, 'dislodged': 0, 'land': 0, 'seized': 0, 'last': 0, 'year': 2, 'nearly': 0, 'fifth': 0, 'territory': 0, 'if': 0, 'global': 0, 'sense': 0, 'high': 0, 'percentage': 0, 'mode': 0, 'ready': 0, 'minister': 1, 'oleksii': 0, 'reznikov': 0, 'press': 0, 'conference': 0, 'then': 0, 'question': 0, 'launch': 0, 'general': 0, 'staff': 0, 'command': 0, 'as': 1, 'soon': 0, 'god': 0, 'weather': 0, 'decision': 0, 'on': 0, 'bryansk': 0, 'governor': 0, 'an': 0, 'unidentified': 0, 'explosive': 0, 'device': 0, 'went': 0, 'result': 0, 'locomotive': 0, 'alexander': 0, 'bogomaz': 0, 'adding': 0, 'casualty': 0, 'authority': 0, 'transporting': 0, 'material': 0, 'images': 0, 'shared': 0, 'several': 0, 'tank': 0, 'carriage': 0, 'laying': 0, 'smoke': 0, 'rising': 0, 'clear': 0, 'responsible': 0, 'happened': 0, 'le': 0, 'mile': 0, 'there': 0, 'increase': 0, 'rail': 0, 'month': 0, 'since': 0, 'vladimir': 0, 'putin': 0, 'ordered': 0, 'full': 0, 'scale': 0, 'invasion': 0, 'arrested': 2, 'least': 0, 'russians': 0, 'suspicion': 0, 'sabotage': 0, 'autumn': 0, 'independent': 0, 'website': 0, 'mediazona': 0, 'separately': 0, 'leningrad': 0, 'near': 1, 'st': 0, 'petersburg': 0, 'power': 0, 'line': 0, 'blown': 0, 'overnight': 0, 'found': 1, 'more': 0, 'soldier': 0, 'five': 0, 'us': 0, 'say': 1, 'fighting': 0, 'acceleration': 0, 'already': 0, 'heavy': 0, 'loss': 0, 'intelligence': 0, 'estimate': 0, 'most': 0, 'brutal': 0, 'trench': 0, 'warfare': 0, 'small': 1, 'bakhmut': 0, 'repeatedly': 0, 'brink': 0, 'capturing': 0, 'white': 0, 'house': 0, 'national': 0, 'security': 0, 'spokesperson': 1, 'john': 0, 'kirby': 0, 'revealed': 0, 'new': 0, 'seen': 0, 'residential': 0, 'area': 0, 'amid': 0, 'pavlohrod': 0, 'attempt': 0, 'offensive': 0, 'donbas': 0, 'largely': 0, 'failed': 0, 'unable': 0, 'seize': 0, 'really': 0, 'strategically': 0, 'even': 0, 'bloody': 0, 'first': 0, 'war': 0, 'overshadow': 0, 'bloodiest': 0, 'allied': 0, 'battle': 0, 'world': 0, 'added': 1, 'that': 0, 'includes': 0, 'guadalcanal': 0, 'major': 0, 'japan': 0, 'also': 0, 'lasted': 0, 'time': 1, 'united': 0, 'states': 0, 'faced': 0, 'ii': 0, 'ap': 0, 'quoted': 0, 'detail': 0, 'calculated': 0, 'death': 0, 'half': 0, 'wagner': 0, 'mercenary': 0, 'group': 0, 'rather': 0, 'they': 0, 'sent': 0, 'without': 0, 'proper': 0, 'training': 0, 'leadership': 0, 'founded': 0, 'close': 0, 'aide': 0, 'recruited': 0, 'heavily': 0, 'prison': 0, 'offering': 0, 'convict': 0, 'survive': 0, 'six': 0, 'amnesty': 0, 'figure': 0, 'underline': 0, 'deadly': 0, 'gamble': 0, 'accept': 0, 'still': 0, 'holding': 0, 'corner': 0, 'col': 0, 'gen': 0, 'oleksandr': 0, 'syrskyi': 0, 'ground': 0, 'situation': 0, 'quite': 0, 'difficult': 0, 'counterattacking': 0, 'control': 0, 'road': 0, 'west': 1, 'serf': 0, 'vital': 0, 'supply': 0, 'finally': 0, 'fall': 1, 'might': 0, 'give': 0, 'route': 0, 'towards': 0, 'bigger': 0, 'kramatorsk': 0, 'but': 0, 'bitter': 0, 'push': 0, 'shelled': 0, 'ruin': 0, 'provincial': 0, 'feel': 0, 'symbolic': 0, 'this': 0, 'attempted': 0, 'effort': 0, 'particularly': 0, 'terribly': 0, 'cost': 0, 'exhausted': 0, 'stockpile': 0, 'after': 0, 'retreated': 0, 'pushed': 0, 'southern': 0, 'kherson': 0, 'away': 0, 'kharkiv': 0, 'became': 0, 'focus': 0, 'mounting': 0, 'intense': 0, 'propaganda': 0, 'advance': 0, 'given': 0, 'political': 0, 'impetus': 0, 'drive': 0, 'in': 0, 'november': 0, 'estimated': 0, 'eight': 0, 'similar': 0, 'level': 0, 'reached': 0, 'december': 0, 'april': 0, 'dead': 0, 'declined': 0, 'publicly': 0, 'sensitive': 0, 'information': 0, 'undermine': 0, 'leaked': 0, 'secret': 0, 'briefing': 0, 'document': 1, 'toll': 0, 'february': 0, 'dutch': 2, 'police': 8, 'arrest': 1, 'fake': 4, 'boris': 4, 'johnson': 4, 'suspected': 1, 'drink': 2, 'driving': 4, 'man': 2, 'connection': 1, 'surprised': 1, 'find': 1, 'name': 1, 'licence': 4, 'driver': 3, 'complete': 1, 'former': 2, 'british': 1, 'prime': 1, 'picture': 1, 'correct': 1, 'birthdate': 1, 'purportedly': 1, 'issued': 1, 'valid': 1, 'end': 1, 'a': 1, 'thijs': 1, 'damstra': 4, 'officer': 1, 'investigated': 1, 'midnight': 1, 'sunday': 1, 'car': 3, 'crashed': 1, 'pole': 1, 'emma': 1, 'bridge': 2, 'northern': 1, 'groningen': 3, 'abandoned': 1, 'later': 1, 'told': 1, 'standing': 1, 'person': 2, 'identify': 1, 'refused': 1, 'undertake': 1, 'breathalyser': 1, 'old': 1, 'zuidhorn': 1, 'searched': 1, 'belonging': 1, 'instagram': 1, 'account': 1, 'unfortunately': 1, 'forgery': 1, 'forged': 1, 'made': 1, 'kysia': 1, 'hekster': 1, 'correspondent': 1, 'public': 1, 'broadcaster': 1, 'nos': 2, 'tweet': 1, 'published': 1, 'easily': 1, 'bought': 1, 'tourist': 1, 'shop': 1, 'i': 1, 'aware': 1, 'real': 1, 'mr': 1, 'netherlands': 1}\n"
          ]
        }
      ]
    },
    {
      "cell_type": "markdown",
      "source": [
        "### Log frequency"
      ],
      "metadata": {
        "id": "hrUTl9f7P3TP"
      }
    },
    {
      "cell_type": "markdown",
      "source": [
        "\\begin{align}\n",
        "w_{t,d} = \\left\\{\n",
        "\\begin{array}{cl}\n",
        "1 + log(tf_{t,d}) & tf_{t,d} > 0 \\\\\n",
        "0\n",
        "\\end{array}\n",
        "\\right.\n",
        "\\end{align}"
      ],
      "metadata": {
        "id": "NuU5t5HkMBzv"
      }
    },
    {
      "cell_type": "code",
      "source": [
        "def log_freq(tf):\n",
        "    freq = {}\n",
        "    for t,f in tf.items():\n",
        "        if f > 0:\n",
        "            freq[t] = 1 + math.log(f, 10)\n",
        "        else:\n",
        "            freq[t] = 0\n",
        "    return freq"
      ],
      "metadata": {
        "id": "wBEA0Xi19VdM"
      },
      "execution_count": 12,
      "outputs": []
    },
    {
      "cell_type": "code",
      "source": [
        "w_td = [log_freq(tf) for tf in w_td]"
      ],
      "metadata": {
        "id": "eZHCpW1Kx5v2"
      },
      "execution_count": 13,
      "outputs": []
    },
    {
      "cell_type": "code",
      "source": [
        "print('w_td:')\n",
        "for tf in w_td:\n",
        "    print(tf)"
      ],
      "metadata": {
        "colab": {
          "base_uri": "https://localhost:8080/"
        },
        "id": "o46VRf2vyZgU",
        "outputId": "220af5ad-bed4-472a-aeca-f7c5f8ed9bf5"
      },
      "execution_count": 14,
      "outputs": [
        {
          "output_type": "stream",
          "name": "stdout",
          "text": [
            "w_td:\n",
            "{'ukraine': 2.041392685158225, 'ammunition': 1.6020599913279623, 'depot': 1.6020599913279623, 'reportedly': 1.0, 'hit': 1.6989700043360187, 'wave': 1.3010299956639813, 'russian': 2.0, 'missile': 1.9030899869919433, 'attack': 1.7781512503836434, 'strike': 1.6989700043360187, 'injured': 1.3010299956639813, 'civilian': 1.0, 'apparently': 1.3010299956639813, 'damaged': 1.3010299956639813, 'railway': 1.4771212547196624, 'infrastructure': 1.3010299956639813, 'south': 1.3010299956639813, 'eastern': 1.0, 'hour': 1.3010299956639813, 'explosion': 1.3010299956639813, 'inside': 1.0, 'russia': 1.8450980400142567, 'derailed': 1.4771212547196624, 'freight': 1.4771212547196624, 'train': 1.6020599913279623, 'the': 1.7781512503836434, 'side': 1.3010299956639813, 'border': 1.4771212547196624, 'monday': 1.4771212547196624, 'aimed': 1.3010299956639813, 'disrupt': 1.0, 'military': 1.6020599913279623, 'logistics': 1.0, 'significant': 1.3010299956639813, 'ukrainian': 1.9542425094393248, 'counteroffensive': 1.3010299956639813, 'occupying': 1.0, 'troop': 1.4771212547196624, 'expected': 1.0, 'start': 1.0, 'shortly': 1.0, 'east': 1.0, 'city': 1.4771212547196624, 'pavlohrad': 1.4771212547196624, 'part': 1.0, 'second': 1.3010299956639813, 'three': 1.0, 'day': 1.3010299956639813, 'friday': 1.3010299956639813, 'people': 1.0, 'killed': 1.3010299956639813, 'apartment': 1.3010299956639813, 'block': 1.0, 'central': 1.0, 'uman': 1.3010299956639813, 'woman': 1.3010299956639813, 'daughter': 1.0, 'died': 1.0, 'dnipro': 1.3010299956639813, 'with': 1.0, 'kyiv': 1.6020599913279623, 'ally': 1.3010299956639813, 'saying': 1.0, 'equipment': 1.3010299956639813, 'newly': 1.0, 'trained': 1.0, 'promised': 1.0, 'next': 1.0, 'campaign': 1.3010299956639813, 'place': 1.0, 'moscow': 1.3010299956639813, 'revived': 1.0, 'winter': 1.0, 'tactic': 1.0, 'attempting': 1.0, 'orchestrate': 1.0, 'bombing': 1.0, 'far': 1.0, 'behind': 1.0, 'frontlines': 1.0, 'it': 1.4771212547196624, 'launched': 1.0, 'cruise': 1.0, 'early': 1.0, 'morning': 1.0, 'although': 1.3010299956639813, 'intercepted': 1.0, 'air': 1.4771212547196624, 'defence': 1.6020599913279623, 'including': 1.0, 'one': 1.6020599913279623, 'support': 1.0, 'western': 1.0, 'helped': 1.0, 'improve': 1.0, 'protection': 1.0, 'main': 1.0, 'site': 1.0, 'at': 1.0, 'video': 1.0, 'posted': 1.0, 'social': 1.4771212547196624, 'medium': 1.6020599913279623, 'showed': 1.3010299956639813, 'caused': 1.0, 'blaze': 1.0, 'secondary': 1.0, 'detonation': 1.0, 'among': 1.0, 'building': 1.4771212547196624, 'destroyed': 1.0, 'industrial': 1.0, 'zone': 1.0, 'home': 1.3010299956639813, 'according': 1.3010299956639813, 'mykola': 1.0, 'lukashuk': 1.0, 'head': 1.0, 'regional': 1.0, 'council': 1.0, 'two': 1.3010299956639813, 'seriously': 1.0, 'official': 1.6020599913279623, 'tass': 1.0, 'state': 1.0, 'news': 1.0, 'agency': 1.0, 'claimed': 1.0, 'hampering': 1.0, 'preparation': 1.0, 'objective': 1.0, 'achieved': 1.0, 'ministry': 1.0, 'said': 2.0, 'statement': 1.0, 'work': 1.0, 'enterprise': 1.0, 'making': 1.0, 'weapon': 1.0, 'disrupted': 1.0, 'source': 1.0, 'location': 1.0, 'plant': 1.0, 'produced': 1.0, 'solid': 1.3010299956639813, 'fuel': 1.4771212547196624, 'soviet': 1.0, 'era': 1.0, 'rocket': 1.0, 'motor': 1.3010299956639813, 'number': 1.0, 'expired': 1.0, 'awaiting': 1.0, 'decommissioning': 1.0, 'claim': 1.0, 'could': 1.0, 'immediately': 1.3010299956639813, 'verified': 1.0, 'local': 1.4771212547196624, 'resident': 1.0, 'carry': 1.0, 'casket': 1.0, 'child': 1.0, 'town': 1.0, 'when': 1.0, 'target': 1.0, 'ordinary': 1.0, 'mean': 1.0, 'safe': 1.0, 'read': 1.0, 'size': 1.0, 'fire': 1.0, 'suggests': 1.0, 'may': 1.3010299956639813, 'important': 1.0, 'arm': 1.0, 'incident': 1.3010299956639813, 'come': 1.0, 'recent': 1.3010299956639813, 'oil': 1.0, 'storage': 1.0, 'facility': 1.0, 'sevastopol': 1.0, 'crimea': 1.0, 'around': 1.0, 'invader': 1.0, 'attacked': 1.0, 'strategic': 1.0, 'aviation': 1.0, 'plane': 1.0, 'post': 1.3010299956639813, 'telegram': 1.3010299956639813, 'channel': 1.0, 'valerii': 1.0, 'zaluzhnyi': 1.0, 'commander': 1.3010299956639813, 'chief': 1.0, 'armed': 1.0, 'force': 1.0, 'system': 1.0, 'called': 1.0, 'action': 1.0, 'shield': 1.0, 'region': 1.6020599913279623, 'reported': 1.3010299956639813, 'blast': 1.0, 'dnipropetrovsk': 1.0, 'sumy': 1.0, 'senior': 1.0, 'suggested': 1.0, 'imminent': 1.0, 'critical': 1.0, 'test': 1.0, 'whether': 1.0, 'dislodged': 1.0, 'land': 1.0, 'seized': 1.0, 'last': 1.3010299956639813, 'year': 1.0, 'nearly': 1.0, 'fifth': 1.0, 'territory': 1.0, 'if': 1.0, 'global': 1.0, 'sense': 1.0, 'high': 1.0, 'percentage': 1.0, 'mode': 1.0, 'ready': 1.0, 'minister': 1.0, 'oleksii': 1.0, 'reznikov': 1.0, 'press': 1.0, 'conference': 1.0, 'then': 1.0, 'question': 1.0, 'launch': 1.0, 'general': 1.0, 'staff': 1.0, 'command': 1.0, 'as': 1.0, 'soon': 1.0, 'god': 1.0, 'weather': 1.0, 'decision': 1.0, 'on': 1.0, 'bryansk': 1.0, 'governor': 1.3010299956639813, 'an': 1.0, 'unidentified': 1.0, 'explosive': 1.3010299956639813, 'device': 1.3010299956639813, 'went': 1.0, 'result': 1.0, 'locomotive': 1.0, 'alexander': 1.0, 'bogomaz': 1.0, 'adding': 1.0, 'casualty': 1.0, 'authority': 1.3010299956639813, 'transporting': 1.0, 'material': 1.0, 'images': 1.0, 'shared': 1.0, 'several': 1.0, 'tank': 1.0, 'carriage': 1.0, 'laying': 1.0, 'smoke': 1.0, 'rising': 1.0, 'clear': 1.0, 'responsible': 1.0, 'happened': 1.0, 'le': 1.0, 'mile': 1.0, 'there': 1.0, 'increase': 1.0, 'rail': 1.0, 'month': 1.0, 'since': 1.3010299956639813, 'vladimir': 1.0, 'putin': 1.0, 'ordered': 1.0, 'full': 1.0, 'scale': 1.0, 'invasion': 1.0, 'arrested': 1.0, 'least': 1.0, 'russians': 1.0, 'suspicion': 1.0, 'sabotage': 1.0, 'autumn': 1.0, 'independent': 1.0, 'website': 1.0, 'mediazona': 1.0, 'separately': 1.0, 'leningrad': 1.0, 'near': 1.3010299956639813, 'st': 1.0, 'petersburg': 1.0, 'power': 1.0, 'line': 1.3010299956639813, 'blown': 1.0, 'overnight': 1.0, 'found': 1.0, 'more': 0, 'soldier': 0, 'five': 0, 'us': 0, 'say': 0, 'fighting': 0, 'acceleration': 0, 'already': 0, 'heavy': 0, 'loss': 0, 'intelligence': 0, 'estimate': 0, 'most': 0, 'brutal': 0, 'trench': 0, 'warfare': 0, 'small': 0, 'bakhmut': 0, 'repeatedly': 0, 'brink': 0, 'capturing': 0, 'white': 0, 'house': 0, 'national': 0, 'security': 0, 'spokesperson': 0, 'john': 0, 'kirby': 0, 'revealed': 0, 'new': 0, 'seen': 0, 'residential': 0, 'area': 0, 'amid': 0, 'pavlohrod': 0, 'attempt': 0, 'offensive': 0, 'donbas': 0, 'largely': 0, 'failed': 0, 'unable': 0, 'seize': 0, 'really': 0, 'strategically': 0, 'even': 0, 'bloody': 0, 'first': 0, 'war': 0, 'overshadow': 0, 'bloodiest': 0, 'allied': 0, 'battle': 0, 'world': 0, 'added': 0, 'that': 0, 'includes': 0, 'guadalcanal': 0, 'major': 0, 'japan': 0, 'also': 0, 'lasted': 0, 'time': 0, 'united': 0, 'states': 0, 'faced': 0, 'ii': 0, 'ap': 0, 'quoted': 0, 'detail': 0, 'calculated': 0, 'death': 0, 'half': 0, 'wagner': 0, 'mercenary': 0, 'group': 0, 'rather': 0, 'they': 0, 'sent': 0, 'without': 0, 'proper': 0, 'training': 0, 'leadership': 0, 'founded': 0, 'close': 0, 'aide': 0, 'recruited': 0, 'heavily': 0, 'prison': 0, 'offering': 0, 'convict': 0, 'survive': 0, 'six': 0, 'amnesty': 0, 'figure': 0, 'underline': 0, 'deadly': 0, 'gamble': 0, 'accept': 0, 'still': 0, 'holding': 0, 'corner': 0, 'col': 0, 'gen': 0, 'oleksandr': 0, 'syrskyi': 0, 'ground': 0, 'situation': 0, 'quite': 0, 'difficult': 0, 'counterattacking': 0, 'control': 0, 'road': 0, 'west': 0, 'serf': 0, 'vital': 0, 'supply': 0, 'finally': 0, 'fall': 0, 'might': 0, 'give': 0, 'route': 0, 'towards': 0, 'bigger': 0, 'kramatorsk': 0, 'but': 0, 'bitter': 0, 'push': 0, 'shelled': 0, 'ruin': 0, 'provincial': 0, 'feel': 0, 'symbolic': 0, 'this': 0, 'attempted': 0, 'effort': 0, 'particularly': 0, 'terribly': 0, 'cost': 0, 'exhausted': 0, 'stockpile': 0, 'after': 0, 'retreated': 0, 'pushed': 0, 'southern': 0, 'kherson': 0, 'away': 0, 'kharkiv': 0, 'became': 0, 'focus': 0, 'mounting': 0, 'intense': 0, 'propaganda': 0, 'advance': 0, 'given': 0, 'political': 0, 'impetus': 0, 'drive': 0, 'in': 0, 'november': 0, 'estimated': 0, 'eight': 0, 'similar': 0, 'level': 0, 'reached': 0, 'december': 0, 'april': 0, 'dead': 0, 'declined': 0, 'publicly': 0, 'sensitive': 0, 'information': 0, 'undermine': 0, 'leaked': 0, 'secret': 0, 'briefing': 0, 'document': 0, 'toll': 0, 'february': 0, 'dutch': 0, 'police': 0, 'arrest': 0, 'fake': 0, 'boris': 0, 'johnson': 0, 'suspected': 0, 'drink': 0, 'driving': 0, 'man': 0, 'connection': 0, 'surprised': 0, 'find': 0, 'name': 0, 'licence': 0, 'driver': 0, 'complete': 0, 'former': 0, 'british': 0, 'prime': 0, 'picture': 0, 'correct': 0, 'birthdate': 0, 'purportedly': 0, 'issued': 0, 'valid': 0, 'end': 0, 'a': 0, 'thijs': 0, 'damstra': 0, 'officer': 0, 'investigated': 0, 'midnight': 0, 'sunday': 0, 'car': 0, 'crashed': 0, 'pole': 0, 'emma': 0, 'bridge': 0, 'northern': 0, 'groningen': 0, 'abandoned': 0, 'later': 0, 'told': 0, 'standing': 0, 'person': 0, 'identify': 0, 'refused': 0, 'undertake': 0, 'breathalyser': 0, 'old': 0, 'zuidhorn': 0, 'searched': 0, 'belonging': 0, 'instagram': 0, 'account': 0, 'unfortunately': 0, 'forgery': 0, 'forged': 0, 'made': 0, 'kysia': 0, 'hekster': 0, 'correspondent': 0, 'public': 0, 'broadcaster': 0, 'nos': 0, 'tweet': 0, 'published': 0, 'easily': 0, 'bought': 0, 'tourist': 0, 'shop': 0, 'i': 0, 'aware': 0, 'real': 0, 'mr': 0, 'netherlands': 0}\n",
            "{'ukraine': 1.6020599913279623, 'ammunition': 1.0, 'depot': 1.0, 'reportedly': 1.0, 'hit': 1.3010299956639813, 'wave': 1.0, 'russian': 2.0, 'missile': 1.0, 'attack': 1.3010299956639813, 'strike': 1.0, 'injured': 1.4771212547196624, 'civilian': 0, 'apparently': 0, 'damaged': 0, 'railway': 0, 'infrastructure': 0, 'south': 0, 'eastern': 1.3010299956639813, 'hour': 0, 'explosion': 0, 'inside': 0, 'russia': 1.7781512503836434, 'derailed': 0, 'freight': 0, 'train': 0, 'the': 1.6989700043360187, 'side': 1.0, 'border': 0, 'monday': 1.3010299956639813, 'aimed': 0, 'disrupt': 0, 'military': 1.7781512503836434, 'logistics': 0, 'significant': 1.0, 'ukrainian': 1.6020599913279623, 'counteroffensive': 0, 'occupying': 0, 'troop': 1.4771212547196624, 'expected': 0, 'start': 0, 'shortly': 0, 'east': 0, 'city': 1.4771212547196624, 'pavlohrad': 0, 'part': 0, 'second': 1.0, 'three': 1.0, 'day': 1.0, 'friday': 0, 'people': 1.0, 'killed': 1.6989700043360187, 'apartment': 0, 'block': 0, 'central': 0, 'uman': 0, 'woman': 0, 'daughter': 0, 'died': 0, 'dnipro': 0, 'with': 0, 'kyiv': 1.0, 'ally': 1.0, 'saying': 1.3010299956639813, 'equipment': 0, 'newly': 0, 'trained': 0, 'promised': 0, 'next': 0, 'campaign': 1.4771212547196624, 'place': 0, 'moscow': 1.3010299956639813, 'revived': 0, 'winter': 0, 'tactic': 0, 'attempting': 0, 'orchestrate': 0, 'bombing': 0, 'far': 0, 'behind': 0, 'frontlines': 1.0, 'it': 1.3010299956639813, 'launched': 0, 'cruise': 0, 'early': 0, 'morning': 0, 'although': 0, 'intercepted': 0, 'air': 0, 'defence': 0, 'including': 1.0, 'one': 0, 'support': 0, 'western': 0, 'helped': 0, 'improve': 0, 'protection': 0, 'main': 0, 'site': 1.0, 'at': 0, 'video': 0, 'posted': 0, 'social': 0, 'medium': 0, 'showed': 0, 'caused': 0, 'blaze': 0, 'secondary': 0, 'detonation': 0, 'among': 0, 'building': 0, 'destroyed': 0, 'industrial': 0, 'zone': 0, 'home': 0, 'according': 0, 'mykola': 0, 'lukashuk': 0, 'head': 0, 'regional': 0, 'council': 1.0, 'two': 1.0, 'seriously': 0, 'official': 1.3010299956639813, 'tass': 0, 'state': 0, 'news': 0, 'agency': 0, 'claimed': 1.0, 'hampering': 0, 'preparation': 0, 'objective': 0, 'achieved': 0, 'ministry': 0, 'said': 1.6989700043360187, 'statement': 0, 'work': 0, 'enterprise': 0, 'making': 1.0, 'weapon': 0, 'disrupted': 0, 'source': 0, 'location': 0, 'plant': 0, 'produced': 0, 'solid': 0, 'fuel': 0, 'soviet': 0, 'era': 0, 'rocket': 0, 'motor': 0, 'number': 1.0, 'expired': 0, 'awaiting': 0, 'decommissioning': 0, 'claim': 0, 'could': 1.0, 'immediately': 0, 'verified': 0, 'local': 0, 'resident': 0, 'carry': 0, 'casket': 0, 'child': 0, 'town': 1.4771212547196624, 'when': 0, 'target': 0, 'ordinary': 0, 'mean': 0, 'safe': 0, 'read': 1.0, 'size': 0, 'fire': 0, 'suggests': 0, 'may': 0, 'important': 0, 'arm': 0, 'incident': 0, 'come': 1.0, 'recent': 0, 'oil': 0, 'storage': 0, 'facility': 0, 'sevastopol': 0, 'crimea': 0, 'around': 0, 'invader': 0, 'attacked': 0, 'strategic': 1.0, 'aviation': 0, 'plane': 0, 'post': 0, 'telegram': 0, 'channel': 0, 'valerii': 0, 'zaluzhnyi': 0, 'commander': 1.0, 'chief': 0, 'armed': 1.0, 'force': 1.6020599913279623, 'system': 0, 'called': 0, 'action': 1.0, 'shield': 0, 'region': 0, 'reported': 0, 'blast': 0, 'dnipropetrovsk': 0, 'sumy': 0, 'senior': 0, 'suggested': 0, 'imminent': 0, 'critical': 0, 'test': 0, 'whether': 0, 'dislodged': 0, 'land': 0, 'seized': 0, 'last': 1.0, 'year': 0, 'nearly': 0, 'fifth': 0, 'territory': 1.0, 'if': 1.0, 'global': 0, 'sense': 0, 'high': 1.0, 'percentage': 0, 'mode': 0, 'ready': 0, 'minister': 0, 'oleksii': 0, 'reznikov': 0, 'press': 0, 'conference': 0, 'then': 0, 'question': 0, 'launch': 0, 'general': 0, 'staff': 0, 'command': 0, 'as': 0, 'soon': 0, 'god': 0, 'weather': 0, 'decision': 0, 'on': 0, 'bryansk': 0, 'governor': 0, 'an': 0, 'unidentified': 0, 'explosive': 0, 'device': 0, 'went': 0, 'result': 0, 'locomotive': 0, 'alexander': 0, 'bogomaz': 0, 'adding': 0, 'casualty': 1.4771212547196624, 'authority': 0, 'transporting': 0, 'material': 0, 'images': 0, 'shared': 0, 'several': 0, 'tank': 0, 'carriage': 0, 'laying': 0, 'smoke': 0, 'rising': 0, 'clear': 0, 'responsible': 0, 'happened': 0, 'le': 0, 'mile': 0, 'there': 0, 'increase': 0, 'rail': 0, 'month': 1.7781512503836434, 'since': 0, 'vladimir': 0, 'putin': 1.3010299956639813, 'ordered': 0, 'full': 0, 'scale': 0, 'invasion': 0, 'arrested': 0, 'least': 0, 'russians': 1.0, 'suspicion': 0, 'sabotage': 0, 'autumn': 0, 'independent': 0, 'website': 0, 'mediazona': 0, 'separately': 0, 'leningrad': 0, 'near': 0, 'st': 0, 'petersburg': 0, 'power': 0, 'line': 1.0, 'blown': 0, 'overnight': 0, 'found': 0, 'more': 1.3010299956639813, 'soldier': 1.3010299956639813, 'five': 1.4771212547196624, 'us': 1.7781512503836434, 'say': 1.0, 'fighting': 1.6020599913279623, 'acceleration': 1.3010299956639813, 'already': 1.0, 'heavy': 1.3010299956639813, 'loss': 1.6020599913279623, 'intelligence': 1.0, 'estimate': 1.4771212547196624, 'most': 1.0, 'brutal': 1.0, 'trench': 1.0, 'warfare': 1.0, 'small': 1.0, 'bakhmut': 1.7781512503836434, 'repeatedly': 1.0, 'brink': 1.0, 'capturing': 1.0, 'white': 1.0, 'house': 1.0, 'national': 1.0, 'security': 1.0, 'spokesperson': 1.0, 'john': 1.0, 'kirby': 1.7781512503836434, 'revealed': 1.0, 'new': 1.0, 'seen': 1.0, 'residential': 1.0, 'area': 1.0, 'amid': 1.0, 'pavlohrod': 1.0, 'attempt': 1.0, 'offensive': 1.3010299956639813, 'donbas': 1.0, 'largely': 1.0, 'failed': 1.0, 'unable': 1.0, 'seize': 1.3010299956639813, 'really': 1.0, 'strategically': 1.0, 'even': 1.0, 'bloody': 1.3010299956639813, 'first': 1.4771212547196624, 'war': 1.6020599913279623, 'overshadow': 1.0, 'bloodiest': 1.0, 'allied': 1.3010299956639813, 'battle': 1.3010299956639813, 'world': 1.3010299956639813, 'added': 1.3010299956639813, 'that': 1.0, 'includes': 1.0, 'guadalcanal': 1.3010299956639813, 'major': 1.0, 'japan': 1.0, 'also': 1.0, 'lasted': 1.0, 'time': 1.0, 'united': 1.0, 'states': 1.0, 'faced': 1.0, 'ii': 1.0, 'ap': 1.0, 'quoted': 1.0, 'detail': 1.0, 'calculated': 1.0, 'death': 1.0, 'half': 1.0, 'wagner': 1.0, 'mercenary': 1.0, 'group': 1.3010299956639813, 'rather': 1.0, 'they': 1.0, 'sent': 1.0, 'without': 1.0, 'proper': 1.0, 'training': 1.0, 'leadership': 1.0, 'founded': 1.0, 'close': 1.0, 'aide': 1.0, 'recruited': 1.0, 'heavily': 1.0, 'prison': 1.0, 'offering': 1.0, 'convict': 1.0, 'survive': 1.0, 'six': 1.0, 'amnesty': 1.0, 'figure': 1.0, 'underline': 1.0, 'deadly': 1.0, 'gamble': 1.0, 'accept': 1.0, 'still': 1.3010299956639813, 'holding': 1.0, 'corner': 1.0, 'col': 1.0, 'gen': 1.0, 'oleksandr': 1.0, 'syrskyi': 1.0, 'ground': 1.3010299956639813, 'situation': 1.0, 'quite': 1.0, 'difficult': 1.0, 'counterattacking': 1.0, 'control': 1.0, 'road': 1.0, 'west': 1.3010299956639813, 'serf': 1.0, 'vital': 1.0, 'supply': 1.0, 'finally': 1.0, 'fall': 1.0, 'might': 1.0, 'give': 1.0, 'route': 1.0, 'towards': 1.0, 'bigger': 1.0, 'kramatorsk': 1.0, 'but': 1.0, 'bitter': 1.0, 'push': 1.0, 'shelled': 1.0, 'ruin': 1.0, 'provincial': 1.0, 'feel': 1.0, 'symbolic': 1.0, 'this': 1.0, 'attempted': 1.0, 'effort': 1.3010299956639813, 'particularly': 1.0, 'terribly': 1.3010299956639813, 'cost': 1.0, 'exhausted': 1.0, 'stockpile': 1.0, 'after': 1.0, 'retreated': 1.0, 'pushed': 1.0, 'southern': 1.0, 'kherson': 1.0, 'away': 1.0, 'kharkiv': 1.0, 'became': 1.0, 'focus': 1.0, 'mounting': 1.0, 'intense': 1.0, 'propaganda': 1.0, 'advance': 1.0, 'given': 1.0, 'political': 1.0, 'impetus': 1.0, 'drive': 1.0, 'in': 1.0, 'november': 1.0, 'estimated': 1.3010299956639813, 'eight': 1.0, 'similar': 1.0, 'level': 1.0, 'reached': 1.3010299956639813, 'december': 1.0, 'april': 1.0, 'dead': 1.0, 'declined': 1.0, 'publicly': 1.0, 'sensitive': 1.0, 'information': 1.0, 'undermine': 1.0, 'leaked': 1.0, 'secret': 1.0, 'briefing': 1.0, 'document': 1.0, 'toll': 1.0, 'february': 1.0, 'dutch': 0, 'police': 0, 'arrest': 0, 'fake': 0, 'boris': 0, 'johnson': 0, 'suspected': 0, 'drink': 0, 'driving': 0, 'man': 0, 'connection': 0, 'surprised': 0, 'find': 0, 'name': 0, 'licence': 0, 'driver': 0, 'complete': 0, 'former': 0, 'british': 0, 'prime': 0, 'picture': 0, 'correct': 0, 'birthdate': 0, 'purportedly': 0, 'issued': 0, 'valid': 0, 'end': 0, 'a': 0, 'thijs': 0, 'damstra': 0, 'officer': 0, 'investigated': 0, 'midnight': 0, 'sunday': 0, 'car': 0, 'crashed': 0, 'pole': 0, 'emma': 0, 'bridge': 0, 'northern': 0, 'groningen': 0, 'abandoned': 0, 'later': 0, 'told': 0, 'standing': 0, 'person': 0, 'identify': 0, 'refused': 0, 'undertake': 0, 'breathalyser': 0, 'old': 0, 'zuidhorn': 0, 'searched': 0, 'belonging': 0, 'instagram': 0, 'account': 0, 'unfortunately': 0, 'forgery': 0, 'forged': 0, 'made': 0, 'kysia': 0, 'hekster': 0, 'correspondent': 0, 'public': 0, 'broadcaster': 0, 'nos': 0, 'tweet': 0, 'published': 0, 'easily': 0, 'bought': 0, 'tourist': 0, 'shop': 0, 'i': 0, 'aware': 0, 'real': 0, 'mr': 0, 'netherlands': 0}\n",
            "{'ukraine': 1.0, 'ammunition': 0, 'depot': 0, 'reportedly': 0, 'hit': 0, 'wave': 0, 'russian': 0, 'missile': 0, 'attack': 0, 'strike': 0, 'injured': 0, 'civilian': 0, 'apparently': 0, 'damaged': 0, 'railway': 0, 'infrastructure': 0, 'south': 0, 'eastern': 0, 'hour': 0, 'explosion': 0, 'inside': 1.0, 'russia': 1.0, 'derailed': 0, 'freight': 0, 'train': 0, 'the': 1.6020599913279623, 'side': 0, 'border': 0, 'monday': 1.0, 'aimed': 0, 'disrupt': 0, 'military': 0, 'logistics': 0, 'significant': 0, 'ukrainian': 1.0, 'counteroffensive': 0, 'occupying': 0, 'troop': 0, 'expected': 0, 'start': 0, 'shortly': 1.0, 'east': 0, 'city': 1.0, 'pavlohrad': 0, 'part': 0, 'second': 0, 'three': 0, 'day': 0, 'friday': 0, 'people': 0, 'killed': 0, 'apartment': 0, 'block': 0, 'central': 0, 'uman': 0, 'woman': 0, 'daughter': 0, 'died': 0, 'dnipro': 0, 'with': 0, 'kyiv': 0, 'ally': 0, 'saying': 0, 'equipment': 0, 'newly': 0, 'trained': 0, 'promised': 0, 'next': 0, 'campaign': 0, 'place': 0, 'moscow': 0, 'revived': 0, 'winter': 0, 'tactic': 0, 'attempting': 0, 'orchestrate': 0, 'bombing': 0, 'far': 1.0, 'behind': 0, 'frontlines': 0, 'it': 0, 'launched': 0, 'cruise': 0, 'early': 0, 'morning': 0, 'although': 0, 'intercepted': 0, 'air': 0, 'defence': 0, 'including': 0, 'one': 0, 'support': 0, 'western': 0, 'helped': 0, 'improve': 0, 'protection': 0, 'main': 0, 'site': 0, 'at': 0, 'video': 0, 'posted': 0, 'social': 0, 'medium': 0, 'showed': 0, 'caused': 0, 'blaze': 0, 'secondary': 0, 'detonation': 0, 'among': 0, 'building': 0, 'destroyed': 0, 'industrial': 0, 'zone': 0, 'home': 0, 'according': 0, 'mykola': 0, 'lukashuk': 0, 'head': 0, 'regional': 0, 'council': 0, 'two': 0, 'seriously': 0, 'official': 0, 'tass': 0, 'state': 0, 'news': 0, 'agency': 0, 'claimed': 0, 'hampering': 0, 'preparation': 0, 'objective': 0, 'achieved': 0, 'ministry': 0, 'said': 1.6989700043360187, 'statement': 0, 'work': 0, 'enterprise': 0, 'making': 0, 'weapon': 0, 'disrupted': 0, 'source': 0, 'location': 0, 'plant': 0, 'produced': 0, 'solid': 0, 'fuel': 0, 'soviet': 0, 'era': 0, 'rocket': 0, 'motor': 0, 'number': 0, 'expired': 0, 'awaiting': 0, 'decommissioning': 0, 'claim': 0, 'could': 1.4771212547196624, 'immediately': 0, 'verified': 0, 'local': 0, 'resident': 0, 'carry': 0, 'casket': 0, 'child': 0, 'town': 1.0, 'when': 0, 'target': 0, 'ordinary': 0, 'mean': 0, 'safe': 0, 'read': 0, 'size': 0, 'fire': 0, 'suggests': 0, 'may': 0, 'important': 0, 'arm': 0, 'incident': 1.3010299956639813, 'come': 0, 'recent': 0, 'oil': 0, 'storage': 0, 'facility': 0, 'sevastopol': 0, 'crimea': 0, 'around': 0, 'invader': 0, 'attacked': 0, 'strategic': 0, 'aviation': 0, 'plane': 0, 'post': 0, 'telegram': 0, 'channel': 0, 'valerii': 0, 'zaluzhnyi': 0, 'commander': 0, 'chief': 0, 'armed': 0, 'force': 0, 'system': 0, 'called': 0, 'action': 0, 'shield': 0, 'region': 0, 'reported': 0, 'blast': 0, 'dnipropetrovsk': 0, 'sumy': 0, 'senior': 0, 'suggested': 0, 'imminent': 0, 'critical': 0, 'test': 1.0, 'whether': 0, 'dislodged': 0, 'land': 0, 'seized': 0, 'last': 0, 'year': 1.3010299956639813, 'nearly': 0, 'fifth': 0, 'territory': 0, 'if': 0, 'global': 0, 'sense': 0, 'high': 0, 'percentage': 0, 'mode': 0, 'ready': 0, 'minister': 1.0, 'oleksii': 0, 'reznikov': 0, 'press': 0, 'conference': 0, 'then': 0, 'question': 0, 'launch': 0, 'general': 0, 'staff': 0, 'command': 0, 'as': 1.0, 'soon': 0, 'god': 0, 'weather': 0, 'decision': 0, 'on': 0, 'bryansk': 0, 'governor': 0, 'an': 0, 'unidentified': 0, 'explosive': 0, 'device': 0, 'went': 0, 'result': 0, 'locomotive': 0, 'alexander': 0, 'bogomaz': 0, 'adding': 0, 'casualty': 0, 'authority': 0, 'transporting': 0, 'material': 0, 'images': 0, 'shared': 0, 'several': 0, 'tank': 0, 'carriage': 0, 'laying': 0, 'smoke': 0, 'rising': 0, 'clear': 0, 'responsible': 0, 'happened': 0, 'le': 0, 'mile': 0, 'there': 0, 'increase': 0, 'rail': 0, 'month': 0, 'since': 0, 'vladimir': 0, 'putin': 0, 'ordered': 0, 'full': 0, 'scale': 0, 'invasion': 0, 'arrested': 1.3010299956639813, 'least': 0, 'russians': 0, 'suspicion': 0, 'sabotage': 0, 'autumn': 0, 'independent': 0, 'website': 0, 'mediazona': 0, 'separately': 0, 'leningrad': 0, 'near': 1.0, 'st': 0, 'petersburg': 0, 'power': 0, 'line': 0, 'blown': 0, 'overnight': 0, 'found': 1.0, 'more': 0, 'soldier': 0, 'five': 0, 'us': 0, 'say': 1.0, 'fighting': 0, 'acceleration': 0, 'already': 0, 'heavy': 0, 'loss': 0, 'intelligence': 0, 'estimate': 0, 'most': 0, 'brutal': 0, 'trench': 0, 'warfare': 0, 'small': 1.0, 'bakhmut': 0, 'repeatedly': 0, 'brink': 0, 'capturing': 0, 'white': 0, 'house': 0, 'national': 0, 'security': 0, 'spokesperson': 1.0, 'john': 0, 'kirby': 0, 'revealed': 0, 'new': 0, 'seen': 0, 'residential': 0, 'area': 0, 'amid': 0, 'pavlohrod': 0, 'attempt': 0, 'offensive': 0, 'donbas': 0, 'largely': 0, 'failed': 0, 'unable': 0, 'seize': 0, 'really': 0, 'strategically': 0, 'even': 0, 'bloody': 0, 'first': 0, 'war': 0, 'overshadow': 0, 'bloodiest': 0, 'allied': 0, 'battle': 0, 'world': 0, 'added': 1.0, 'that': 0, 'includes': 0, 'guadalcanal': 0, 'major': 0, 'japan': 0, 'also': 0, 'lasted': 0, 'time': 1.0, 'united': 0, 'states': 0, 'faced': 0, 'ii': 0, 'ap': 0, 'quoted': 0, 'detail': 0, 'calculated': 0, 'death': 0, 'half': 0, 'wagner': 0, 'mercenary': 0, 'group': 0, 'rather': 0, 'they': 0, 'sent': 0, 'without': 0, 'proper': 0, 'training': 0, 'leadership': 0, 'founded': 0, 'close': 0, 'aide': 0, 'recruited': 0, 'heavily': 0, 'prison': 0, 'offering': 0, 'convict': 0, 'survive': 0, 'six': 0, 'amnesty': 0, 'figure': 0, 'underline': 0, 'deadly': 0, 'gamble': 0, 'accept': 0, 'still': 0, 'holding': 0, 'corner': 0, 'col': 0, 'gen': 0, 'oleksandr': 0, 'syrskyi': 0, 'ground': 0, 'situation': 0, 'quite': 0, 'difficult': 0, 'counterattacking': 0, 'control': 0, 'road': 0, 'west': 1.0, 'serf': 0, 'vital': 0, 'supply': 0, 'finally': 0, 'fall': 1.0, 'might': 0, 'give': 0, 'route': 0, 'towards': 0, 'bigger': 0, 'kramatorsk': 0, 'but': 0, 'bitter': 0, 'push': 0, 'shelled': 0, 'ruin': 0, 'provincial': 0, 'feel': 0, 'symbolic': 0, 'this': 0, 'attempted': 0, 'effort': 0, 'particularly': 0, 'terribly': 0, 'cost': 0, 'exhausted': 0, 'stockpile': 0, 'after': 0, 'retreated': 0, 'pushed': 0, 'southern': 0, 'kherson': 0, 'away': 0, 'kharkiv': 0, 'became': 0, 'focus': 0, 'mounting': 0, 'intense': 0, 'propaganda': 0, 'advance': 0, 'given': 0, 'political': 0, 'impetus': 0, 'drive': 0, 'in': 0, 'november': 0, 'estimated': 0, 'eight': 0, 'similar': 0, 'level': 0, 'reached': 0, 'december': 0, 'april': 0, 'dead': 0, 'declined': 0, 'publicly': 0, 'sensitive': 0, 'information': 0, 'undermine': 0, 'leaked': 0, 'secret': 0, 'briefing': 0, 'document': 1.0, 'toll': 0, 'february': 0, 'dutch': 1.3010299956639813, 'police': 1.9030899869919433, 'arrest': 1.0, 'fake': 1.6020599913279623, 'boris': 1.6020599913279623, 'johnson': 1.6020599913279623, 'suspected': 1.0, 'drink': 1.3010299956639813, 'driving': 1.6020599913279623, 'man': 1.3010299956639813, 'connection': 1.0, 'surprised': 1.0, 'find': 1.0, 'name': 1.0, 'licence': 1.6020599913279623, 'driver': 1.4771212547196624, 'complete': 1.0, 'former': 1.3010299956639813, 'british': 1.0, 'prime': 1.0, 'picture': 1.0, 'correct': 1.0, 'birthdate': 1.0, 'purportedly': 1.0, 'issued': 1.0, 'valid': 1.0, 'end': 1.0, 'a': 1.0, 'thijs': 1.0, 'damstra': 1.6020599913279623, 'officer': 1.0, 'investigated': 1.0, 'midnight': 1.0, 'sunday': 1.0, 'car': 1.4771212547196624, 'crashed': 1.0, 'pole': 1.0, 'emma': 1.0, 'bridge': 1.3010299956639813, 'northern': 1.0, 'groningen': 1.4771212547196624, 'abandoned': 1.0, 'later': 1.0, 'told': 1.0, 'standing': 1.0, 'person': 1.3010299956639813, 'identify': 1.0, 'refused': 1.0, 'undertake': 1.0, 'breathalyser': 1.0, 'old': 1.0, 'zuidhorn': 1.0, 'searched': 1.0, 'belonging': 1.0, 'instagram': 1.0, 'account': 1.0, 'unfortunately': 1.0, 'forgery': 1.0, 'forged': 1.0, 'made': 1.0, 'kysia': 1.0, 'hekster': 1.0, 'correspondent': 1.0, 'public': 1.0, 'broadcaster': 1.0, 'nos': 1.3010299956639813, 'tweet': 1.0, 'published': 1.0, 'easily': 1.0, 'bought': 1.0, 'tourist': 1.0, 'shop': 1.0, 'i': 1.0, 'aware': 1.0, 'real': 1.0, 'mr': 1.0, 'netherlands': 1.0}\n"
          ]
        }
      ]
    },
    {
      "cell_type": "markdown",
      "source": [
        "### Document frequency"
      ],
      "metadata": {
        "id": "CQUSxVIUzKJQ"
      }
    },
    {
      "cell_type": "code",
      "source": [
        "def doc_freq(w_td):\n",
        "    freq = {}\n",
        "    for t in w_td[0]:\n",
        "        freq[t] = 0\n",
        "    for tf in w_td:\n",
        "        for t,f in tf.items():\n",
        "            if f > 0:\n",
        "                freq[t] += 1\n",
        "    return freq"
      ],
      "metadata": {
        "id": "GeMSa45DzP4i"
      },
      "execution_count": 15,
      "outputs": []
    },
    {
      "cell_type": "code",
      "source": [
        "df = doc_freq(w_td)"
      ],
      "metadata": {
        "id": "TNTlRD0F1ZDh"
      },
      "execution_count": 16,
      "outputs": []
    },
    {
      "cell_type": "code",
      "source": [
        "print('df:', df)"
      ],
      "metadata": {
        "colab": {
          "base_uri": "https://localhost:8080/"
        },
        "id": "5q0FtLH11qk4",
        "outputId": "b6a86f8c-182f-4e43-d090-78e36d68dd62"
      },
      "execution_count": 17,
      "outputs": [
        {
          "output_type": "stream",
          "name": "stdout",
          "text": [
            "df: {'ukraine': 3, 'ammunition': 2, 'depot': 2, 'reportedly': 2, 'hit': 2, 'wave': 2, 'russian': 2, 'missile': 2, 'attack': 2, 'strike': 2, 'injured': 2, 'civilian': 1, 'apparently': 1, 'damaged': 1, 'railway': 1, 'infrastructure': 1, 'south': 1, 'eastern': 2, 'hour': 1, 'explosion': 1, 'inside': 2, 'russia': 3, 'derailed': 1, 'freight': 1, 'train': 1, 'the': 3, 'side': 2, 'border': 1, 'monday': 3, 'aimed': 1, 'disrupt': 1, 'military': 2, 'logistics': 1, 'significant': 2, 'ukrainian': 3, 'counteroffensive': 1, 'occupying': 1, 'troop': 2, 'expected': 1, 'start': 1, 'shortly': 2, 'east': 1, 'city': 3, 'pavlohrad': 1, 'part': 1, 'second': 2, 'three': 2, 'day': 2, 'friday': 1, 'people': 2, 'killed': 2, 'apartment': 1, 'block': 1, 'central': 1, 'uman': 1, 'woman': 1, 'daughter': 1, 'died': 1, 'dnipro': 1, 'with': 1, 'kyiv': 2, 'ally': 2, 'saying': 2, 'equipment': 1, 'newly': 1, 'trained': 1, 'promised': 1, 'next': 1, 'campaign': 2, 'place': 1, 'moscow': 2, 'revived': 1, 'winter': 1, 'tactic': 1, 'attempting': 1, 'orchestrate': 1, 'bombing': 1, 'far': 2, 'behind': 1, 'frontlines': 2, 'it': 2, 'launched': 1, 'cruise': 1, 'early': 1, 'morning': 1, 'although': 1, 'intercepted': 1, 'air': 1, 'defence': 1, 'including': 2, 'one': 1, 'support': 1, 'western': 1, 'helped': 1, 'improve': 1, 'protection': 1, 'main': 1, 'site': 2, 'at': 1, 'video': 1, 'posted': 1, 'social': 1, 'medium': 1, 'showed': 1, 'caused': 1, 'blaze': 1, 'secondary': 1, 'detonation': 1, 'among': 1, 'building': 1, 'destroyed': 1, 'industrial': 1, 'zone': 1, 'home': 1, 'according': 1, 'mykola': 1, 'lukashuk': 1, 'head': 1, 'regional': 1, 'council': 2, 'two': 2, 'seriously': 1, 'official': 2, 'tass': 1, 'state': 1, 'news': 1, 'agency': 1, 'claimed': 2, 'hampering': 1, 'preparation': 1, 'objective': 1, 'achieved': 1, 'ministry': 1, 'said': 3, 'statement': 1, 'work': 1, 'enterprise': 1, 'making': 2, 'weapon': 1, 'disrupted': 1, 'source': 1, 'location': 1, 'plant': 1, 'produced': 1, 'solid': 1, 'fuel': 1, 'soviet': 1, 'era': 1, 'rocket': 1, 'motor': 1, 'number': 2, 'expired': 1, 'awaiting': 1, 'decommissioning': 1, 'claim': 1, 'could': 3, 'immediately': 1, 'verified': 1, 'local': 1, 'resident': 1, 'carry': 1, 'casket': 1, 'child': 1, 'town': 3, 'when': 1, 'target': 1, 'ordinary': 1, 'mean': 1, 'safe': 1, 'read': 2, 'size': 1, 'fire': 1, 'suggests': 1, 'may': 1, 'important': 1, 'arm': 1, 'incident': 2, 'come': 2, 'recent': 1, 'oil': 1, 'storage': 1, 'facility': 1, 'sevastopol': 1, 'crimea': 1, 'around': 1, 'invader': 1, 'attacked': 1, 'strategic': 2, 'aviation': 1, 'plane': 1, 'post': 1, 'telegram': 1, 'channel': 1, 'valerii': 1, 'zaluzhnyi': 1, 'commander': 2, 'chief': 1, 'armed': 2, 'force': 2, 'system': 1, 'called': 1, 'action': 2, 'shield': 1, 'region': 1, 'reported': 1, 'blast': 1, 'dnipropetrovsk': 1, 'sumy': 1, 'senior': 1, 'suggested': 1, 'imminent': 1, 'critical': 1, 'test': 2, 'whether': 1, 'dislodged': 1, 'land': 1, 'seized': 1, 'last': 2, 'year': 2, 'nearly': 1, 'fifth': 1, 'territory': 2, 'if': 2, 'global': 1, 'sense': 1, 'high': 2, 'percentage': 1, 'mode': 1, 'ready': 1, 'minister': 2, 'oleksii': 1, 'reznikov': 1, 'press': 1, 'conference': 1, 'then': 1, 'question': 1, 'launch': 1, 'general': 1, 'staff': 1, 'command': 1, 'as': 2, 'soon': 1, 'god': 1, 'weather': 1, 'decision': 1, 'on': 1, 'bryansk': 1, 'governor': 1, 'an': 1, 'unidentified': 1, 'explosive': 1, 'device': 1, 'went': 1, 'result': 1, 'locomotive': 1, 'alexander': 1, 'bogomaz': 1, 'adding': 1, 'casualty': 2, 'authority': 1, 'transporting': 1, 'material': 1, 'images': 1, 'shared': 1, 'several': 1, 'tank': 1, 'carriage': 1, 'laying': 1, 'smoke': 1, 'rising': 1, 'clear': 1, 'responsible': 1, 'happened': 1, 'le': 1, 'mile': 1, 'there': 1, 'increase': 1, 'rail': 1, 'month': 2, 'since': 1, 'vladimir': 1, 'putin': 2, 'ordered': 1, 'full': 1, 'scale': 1, 'invasion': 1, 'arrested': 2, 'least': 1, 'russians': 2, 'suspicion': 1, 'sabotage': 1, 'autumn': 1, 'independent': 1, 'website': 1, 'mediazona': 1, 'separately': 1, 'leningrad': 1, 'near': 2, 'st': 1, 'petersburg': 1, 'power': 1, 'line': 2, 'blown': 1, 'overnight': 1, 'found': 2, 'more': 1, 'soldier': 1, 'five': 1, 'us': 1, 'say': 2, 'fighting': 1, 'acceleration': 1, 'already': 1, 'heavy': 1, 'loss': 1, 'intelligence': 1, 'estimate': 1, 'most': 1, 'brutal': 1, 'trench': 1, 'warfare': 1, 'small': 2, 'bakhmut': 1, 'repeatedly': 1, 'brink': 1, 'capturing': 1, 'white': 1, 'house': 1, 'national': 1, 'security': 1, 'spokesperson': 2, 'john': 1, 'kirby': 1, 'revealed': 1, 'new': 1, 'seen': 1, 'residential': 1, 'area': 1, 'amid': 1, 'pavlohrod': 1, 'attempt': 1, 'offensive': 1, 'donbas': 1, 'largely': 1, 'failed': 1, 'unable': 1, 'seize': 1, 'really': 1, 'strategically': 1, 'even': 1, 'bloody': 1, 'first': 1, 'war': 1, 'overshadow': 1, 'bloodiest': 1, 'allied': 1, 'battle': 1, 'world': 1, 'added': 2, 'that': 1, 'includes': 1, 'guadalcanal': 1, 'major': 1, 'japan': 1, 'also': 1, 'lasted': 1, 'time': 2, 'united': 1, 'states': 1, 'faced': 1, 'ii': 1, 'ap': 1, 'quoted': 1, 'detail': 1, 'calculated': 1, 'death': 1, 'half': 1, 'wagner': 1, 'mercenary': 1, 'group': 1, 'rather': 1, 'they': 1, 'sent': 1, 'without': 1, 'proper': 1, 'training': 1, 'leadership': 1, 'founded': 1, 'close': 1, 'aide': 1, 'recruited': 1, 'heavily': 1, 'prison': 1, 'offering': 1, 'convict': 1, 'survive': 1, 'six': 1, 'amnesty': 1, 'figure': 1, 'underline': 1, 'deadly': 1, 'gamble': 1, 'accept': 1, 'still': 1, 'holding': 1, 'corner': 1, 'col': 1, 'gen': 1, 'oleksandr': 1, 'syrskyi': 1, 'ground': 1, 'situation': 1, 'quite': 1, 'difficult': 1, 'counterattacking': 1, 'control': 1, 'road': 1, 'west': 2, 'serf': 1, 'vital': 1, 'supply': 1, 'finally': 1, 'fall': 2, 'might': 1, 'give': 1, 'route': 1, 'towards': 1, 'bigger': 1, 'kramatorsk': 1, 'but': 1, 'bitter': 1, 'push': 1, 'shelled': 1, 'ruin': 1, 'provincial': 1, 'feel': 1, 'symbolic': 1, 'this': 1, 'attempted': 1, 'effort': 1, 'particularly': 1, 'terribly': 1, 'cost': 1, 'exhausted': 1, 'stockpile': 1, 'after': 1, 'retreated': 1, 'pushed': 1, 'southern': 1, 'kherson': 1, 'away': 1, 'kharkiv': 1, 'became': 1, 'focus': 1, 'mounting': 1, 'intense': 1, 'propaganda': 1, 'advance': 1, 'given': 1, 'political': 1, 'impetus': 1, 'drive': 1, 'in': 1, 'november': 1, 'estimated': 1, 'eight': 1, 'similar': 1, 'level': 1, 'reached': 1, 'december': 1, 'april': 1, 'dead': 1, 'declined': 1, 'publicly': 1, 'sensitive': 1, 'information': 1, 'undermine': 1, 'leaked': 1, 'secret': 1, 'briefing': 1, 'document': 2, 'toll': 1, 'february': 1, 'dutch': 1, 'police': 1, 'arrest': 1, 'fake': 1, 'boris': 1, 'johnson': 1, 'suspected': 1, 'drink': 1, 'driving': 1, 'man': 1, 'connection': 1, 'surprised': 1, 'find': 1, 'name': 1, 'licence': 1, 'driver': 1, 'complete': 1, 'former': 1, 'british': 1, 'prime': 1, 'picture': 1, 'correct': 1, 'birthdate': 1, 'purportedly': 1, 'issued': 1, 'valid': 1, 'end': 1, 'a': 1, 'thijs': 1, 'damstra': 1, 'officer': 1, 'investigated': 1, 'midnight': 1, 'sunday': 1, 'car': 1, 'crashed': 1, 'pole': 1, 'emma': 1, 'bridge': 1, 'northern': 1, 'groningen': 1, 'abandoned': 1, 'later': 1, 'told': 1, 'standing': 1, 'person': 1, 'identify': 1, 'refused': 1, 'undertake': 1, 'breathalyser': 1, 'old': 1, 'zuidhorn': 1, 'searched': 1, 'belonging': 1, 'instagram': 1, 'account': 1, 'unfortunately': 1, 'forgery': 1, 'forged': 1, 'made': 1, 'kysia': 1, 'hekster': 1, 'correspondent': 1, 'public': 1, 'broadcaster': 1, 'nos': 1, 'tweet': 1, 'published': 1, 'easily': 1, 'bought': 1, 'tourist': 1, 'shop': 1, 'i': 1, 'aware': 1, 'real': 1, 'mr': 1, 'netherlands': 1}\n"
          ]
        }
      ]
    },
    {
      "cell_type": "markdown",
      "source": [
        "### Inverse document frequency"
      ],
      "metadata": {
        "id": "B90IdoNCQdT5"
      }
    },
    {
      "cell_type": "markdown",
      "source": [
        "\\begin{align}\n",
        "    idf = log\\left(\\frac{N}{df}\\right)\n",
        "\\end{align}"
      ],
      "metadata": {
        "id": "Rq-YqbBQ83QD"
      }
    },
    {
      "cell_type": "code",
      "source": [
        "def inverse_doc_freq(df, N):\n",
        "    freq = {}\n",
        "    for t,f in df.items():\n",
        "        freq[t] = math.log(N/f, 10)\n",
        "    return freq"
      ],
      "metadata": {
        "id": "mfQp_XvN47M_"
      },
      "execution_count": 18,
      "outputs": []
    },
    {
      "cell_type": "code",
      "source": [
        "idf = inverse_doc_freq(df, len(docs))"
      ],
      "metadata": {
        "id": "J81VVD_OAT3F"
      },
      "execution_count": 19,
      "outputs": []
    },
    {
      "cell_type": "code",
      "source": [
        "print('idf:', idf)"
      ],
      "metadata": {
        "colab": {
          "base_uri": "https://localhost:8080/"
        },
        "id": "A3zWZyIv2gID",
        "outputId": "46773544-ed16-4a81-e8fa-5ac764325e59"
      },
      "execution_count": 20,
      "outputs": [
        {
          "output_type": "stream",
          "name": "stdout",
          "text": [
            "idf: {'ukraine': 0.0, 'ammunition': 0.17609125905568124, 'depot': 0.17609125905568124, 'reportedly': 0.17609125905568124, 'hit': 0.17609125905568124, 'wave': 0.17609125905568124, 'russian': 0.17609125905568124, 'missile': 0.17609125905568124, 'attack': 0.17609125905568124, 'strike': 0.17609125905568124, 'injured': 0.17609125905568124, 'civilian': 0.47712125471966244, 'apparently': 0.47712125471966244, 'damaged': 0.47712125471966244, 'railway': 0.47712125471966244, 'infrastructure': 0.47712125471966244, 'south': 0.47712125471966244, 'eastern': 0.17609125905568124, 'hour': 0.47712125471966244, 'explosion': 0.47712125471966244, 'inside': 0.17609125905568124, 'russia': 0.0, 'derailed': 0.47712125471966244, 'freight': 0.47712125471966244, 'train': 0.47712125471966244, 'the': 0.0, 'side': 0.17609125905568124, 'border': 0.47712125471966244, 'monday': 0.0, 'aimed': 0.47712125471966244, 'disrupt': 0.47712125471966244, 'military': 0.17609125905568124, 'logistics': 0.47712125471966244, 'significant': 0.17609125905568124, 'ukrainian': 0.0, 'counteroffensive': 0.47712125471966244, 'occupying': 0.47712125471966244, 'troop': 0.17609125905568124, 'expected': 0.47712125471966244, 'start': 0.47712125471966244, 'shortly': 0.17609125905568124, 'east': 0.47712125471966244, 'city': 0.0, 'pavlohrad': 0.47712125471966244, 'part': 0.47712125471966244, 'second': 0.17609125905568124, 'three': 0.17609125905568124, 'day': 0.17609125905568124, 'friday': 0.47712125471966244, 'people': 0.17609125905568124, 'killed': 0.17609125905568124, 'apartment': 0.47712125471966244, 'block': 0.47712125471966244, 'central': 0.47712125471966244, 'uman': 0.47712125471966244, 'woman': 0.47712125471966244, 'daughter': 0.47712125471966244, 'died': 0.47712125471966244, 'dnipro': 0.47712125471966244, 'with': 0.47712125471966244, 'kyiv': 0.17609125905568124, 'ally': 0.17609125905568124, 'saying': 0.17609125905568124, 'equipment': 0.47712125471966244, 'newly': 0.47712125471966244, 'trained': 0.47712125471966244, 'promised': 0.47712125471966244, 'next': 0.47712125471966244, 'campaign': 0.17609125905568124, 'place': 0.47712125471966244, 'moscow': 0.17609125905568124, 'revived': 0.47712125471966244, 'winter': 0.47712125471966244, 'tactic': 0.47712125471966244, 'attempting': 0.47712125471966244, 'orchestrate': 0.47712125471966244, 'bombing': 0.47712125471966244, 'far': 0.17609125905568124, 'behind': 0.47712125471966244, 'frontlines': 0.17609125905568124, 'it': 0.17609125905568124, 'launched': 0.47712125471966244, 'cruise': 0.47712125471966244, 'early': 0.47712125471966244, 'morning': 0.47712125471966244, 'although': 0.47712125471966244, 'intercepted': 0.47712125471966244, 'air': 0.47712125471966244, 'defence': 0.47712125471966244, 'including': 0.17609125905568124, 'one': 0.47712125471966244, 'support': 0.47712125471966244, 'western': 0.47712125471966244, 'helped': 0.47712125471966244, 'improve': 0.47712125471966244, 'protection': 0.47712125471966244, 'main': 0.47712125471966244, 'site': 0.17609125905568124, 'at': 0.47712125471966244, 'video': 0.47712125471966244, 'posted': 0.47712125471966244, 'social': 0.47712125471966244, 'medium': 0.47712125471966244, 'showed': 0.47712125471966244, 'caused': 0.47712125471966244, 'blaze': 0.47712125471966244, 'secondary': 0.47712125471966244, 'detonation': 0.47712125471966244, 'among': 0.47712125471966244, 'building': 0.47712125471966244, 'destroyed': 0.47712125471966244, 'industrial': 0.47712125471966244, 'zone': 0.47712125471966244, 'home': 0.47712125471966244, 'according': 0.47712125471966244, 'mykola': 0.47712125471966244, 'lukashuk': 0.47712125471966244, 'head': 0.47712125471966244, 'regional': 0.47712125471966244, 'council': 0.17609125905568124, 'two': 0.17609125905568124, 'seriously': 0.47712125471966244, 'official': 0.17609125905568124, 'tass': 0.47712125471966244, 'state': 0.47712125471966244, 'news': 0.47712125471966244, 'agency': 0.47712125471966244, 'claimed': 0.17609125905568124, 'hampering': 0.47712125471966244, 'preparation': 0.47712125471966244, 'objective': 0.47712125471966244, 'achieved': 0.47712125471966244, 'ministry': 0.47712125471966244, 'said': 0.0, 'statement': 0.47712125471966244, 'work': 0.47712125471966244, 'enterprise': 0.47712125471966244, 'making': 0.17609125905568124, 'weapon': 0.47712125471966244, 'disrupted': 0.47712125471966244, 'source': 0.47712125471966244, 'location': 0.47712125471966244, 'plant': 0.47712125471966244, 'produced': 0.47712125471966244, 'solid': 0.47712125471966244, 'fuel': 0.47712125471966244, 'soviet': 0.47712125471966244, 'era': 0.47712125471966244, 'rocket': 0.47712125471966244, 'motor': 0.47712125471966244, 'number': 0.17609125905568124, 'expired': 0.47712125471966244, 'awaiting': 0.47712125471966244, 'decommissioning': 0.47712125471966244, 'claim': 0.47712125471966244, 'could': 0.0, 'immediately': 0.47712125471966244, 'verified': 0.47712125471966244, 'local': 0.47712125471966244, 'resident': 0.47712125471966244, 'carry': 0.47712125471966244, 'casket': 0.47712125471966244, 'child': 0.47712125471966244, 'town': 0.0, 'when': 0.47712125471966244, 'target': 0.47712125471966244, 'ordinary': 0.47712125471966244, 'mean': 0.47712125471966244, 'safe': 0.47712125471966244, 'read': 0.17609125905568124, 'size': 0.47712125471966244, 'fire': 0.47712125471966244, 'suggests': 0.47712125471966244, 'may': 0.47712125471966244, 'important': 0.47712125471966244, 'arm': 0.47712125471966244, 'incident': 0.17609125905568124, 'come': 0.17609125905568124, 'recent': 0.47712125471966244, 'oil': 0.47712125471966244, 'storage': 0.47712125471966244, 'facility': 0.47712125471966244, 'sevastopol': 0.47712125471966244, 'crimea': 0.47712125471966244, 'around': 0.47712125471966244, 'invader': 0.47712125471966244, 'attacked': 0.47712125471966244, 'strategic': 0.17609125905568124, 'aviation': 0.47712125471966244, 'plane': 0.47712125471966244, 'post': 0.47712125471966244, 'telegram': 0.47712125471966244, 'channel': 0.47712125471966244, 'valerii': 0.47712125471966244, 'zaluzhnyi': 0.47712125471966244, 'commander': 0.17609125905568124, 'chief': 0.47712125471966244, 'armed': 0.17609125905568124, 'force': 0.17609125905568124, 'system': 0.47712125471966244, 'called': 0.47712125471966244, 'action': 0.17609125905568124, 'shield': 0.47712125471966244, 'region': 0.47712125471966244, 'reported': 0.47712125471966244, 'blast': 0.47712125471966244, 'dnipropetrovsk': 0.47712125471966244, 'sumy': 0.47712125471966244, 'senior': 0.47712125471966244, 'suggested': 0.47712125471966244, 'imminent': 0.47712125471966244, 'critical': 0.47712125471966244, 'test': 0.17609125905568124, 'whether': 0.47712125471966244, 'dislodged': 0.47712125471966244, 'land': 0.47712125471966244, 'seized': 0.47712125471966244, 'last': 0.17609125905568124, 'year': 0.17609125905568124, 'nearly': 0.47712125471966244, 'fifth': 0.47712125471966244, 'territory': 0.17609125905568124, 'if': 0.17609125905568124, 'global': 0.47712125471966244, 'sense': 0.47712125471966244, 'high': 0.17609125905568124, 'percentage': 0.47712125471966244, 'mode': 0.47712125471966244, 'ready': 0.47712125471966244, 'minister': 0.17609125905568124, 'oleksii': 0.47712125471966244, 'reznikov': 0.47712125471966244, 'press': 0.47712125471966244, 'conference': 0.47712125471966244, 'then': 0.47712125471966244, 'question': 0.47712125471966244, 'launch': 0.47712125471966244, 'general': 0.47712125471966244, 'staff': 0.47712125471966244, 'command': 0.47712125471966244, 'as': 0.17609125905568124, 'soon': 0.47712125471966244, 'god': 0.47712125471966244, 'weather': 0.47712125471966244, 'decision': 0.47712125471966244, 'on': 0.47712125471966244, 'bryansk': 0.47712125471966244, 'governor': 0.47712125471966244, 'an': 0.47712125471966244, 'unidentified': 0.47712125471966244, 'explosive': 0.47712125471966244, 'device': 0.47712125471966244, 'went': 0.47712125471966244, 'result': 0.47712125471966244, 'locomotive': 0.47712125471966244, 'alexander': 0.47712125471966244, 'bogomaz': 0.47712125471966244, 'adding': 0.47712125471966244, 'casualty': 0.17609125905568124, 'authority': 0.47712125471966244, 'transporting': 0.47712125471966244, 'material': 0.47712125471966244, 'images': 0.47712125471966244, 'shared': 0.47712125471966244, 'several': 0.47712125471966244, 'tank': 0.47712125471966244, 'carriage': 0.47712125471966244, 'laying': 0.47712125471966244, 'smoke': 0.47712125471966244, 'rising': 0.47712125471966244, 'clear': 0.47712125471966244, 'responsible': 0.47712125471966244, 'happened': 0.47712125471966244, 'le': 0.47712125471966244, 'mile': 0.47712125471966244, 'there': 0.47712125471966244, 'increase': 0.47712125471966244, 'rail': 0.47712125471966244, 'month': 0.17609125905568124, 'since': 0.47712125471966244, 'vladimir': 0.47712125471966244, 'putin': 0.17609125905568124, 'ordered': 0.47712125471966244, 'full': 0.47712125471966244, 'scale': 0.47712125471966244, 'invasion': 0.47712125471966244, 'arrested': 0.17609125905568124, 'least': 0.47712125471966244, 'russians': 0.17609125905568124, 'suspicion': 0.47712125471966244, 'sabotage': 0.47712125471966244, 'autumn': 0.47712125471966244, 'independent': 0.47712125471966244, 'website': 0.47712125471966244, 'mediazona': 0.47712125471966244, 'separately': 0.47712125471966244, 'leningrad': 0.47712125471966244, 'near': 0.17609125905568124, 'st': 0.47712125471966244, 'petersburg': 0.47712125471966244, 'power': 0.47712125471966244, 'line': 0.17609125905568124, 'blown': 0.47712125471966244, 'overnight': 0.47712125471966244, 'found': 0.17609125905568124, 'more': 0.47712125471966244, 'soldier': 0.47712125471966244, 'five': 0.47712125471966244, 'us': 0.47712125471966244, 'say': 0.17609125905568124, 'fighting': 0.47712125471966244, 'acceleration': 0.47712125471966244, 'already': 0.47712125471966244, 'heavy': 0.47712125471966244, 'loss': 0.47712125471966244, 'intelligence': 0.47712125471966244, 'estimate': 0.47712125471966244, 'most': 0.47712125471966244, 'brutal': 0.47712125471966244, 'trench': 0.47712125471966244, 'warfare': 0.47712125471966244, 'small': 0.17609125905568124, 'bakhmut': 0.47712125471966244, 'repeatedly': 0.47712125471966244, 'brink': 0.47712125471966244, 'capturing': 0.47712125471966244, 'white': 0.47712125471966244, 'house': 0.47712125471966244, 'national': 0.47712125471966244, 'security': 0.47712125471966244, 'spokesperson': 0.17609125905568124, 'john': 0.47712125471966244, 'kirby': 0.47712125471966244, 'revealed': 0.47712125471966244, 'new': 0.47712125471966244, 'seen': 0.47712125471966244, 'residential': 0.47712125471966244, 'area': 0.47712125471966244, 'amid': 0.47712125471966244, 'pavlohrod': 0.47712125471966244, 'attempt': 0.47712125471966244, 'offensive': 0.47712125471966244, 'donbas': 0.47712125471966244, 'largely': 0.47712125471966244, 'failed': 0.47712125471966244, 'unable': 0.47712125471966244, 'seize': 0.47712125471966244, 'really': 0.47712125471966244, 'strategically': 0.47712125471966244, 'even': 0.47712125471966244, 'bloody': 0.47712125471966244, 'first': 0.47712125471966244, 'war': 0.47712125471966244, 'overshadow': 0.47712125471966244, 'bloodiest': 0.47712125471966244, 'allied': 0.47712125471966244, 'battle': 0.47712125471966244, 'world': 0.47712125471966244, 'added': 0.17609125905568124, 'that': 0.47712125471966244, 'includes': 0.47712125471966244, 'guadalcanal': 0.47712125471966244, 'major': 0.47712125471966244, 'japan': 0.47712125471966244, 'also': 0.47712125471966244, 'lasted': 0.47712125471966244, 'time': 0.17609125905568124, 'united': 0.47712125471966244, 'states': 0.47712125471966244, 'faced': 0.47712125471966244, 'ii': 0.47712125471966244, 'ap': 0.47712125471966244, 'quoted': 0.47712125471966244, 'detail': 0.47712125471966244, 'calculated': 0.47712125471966244, 'death': 0.47712125471966244, 'half': 0.47712125471966244, 'wagner': 0.47712125471966244, 'mercenary': 0.47712125471966244, 'group': 0.47712125471966244, 'rather': 0.47712125471966244, 'they': 0.47712125471966244, 'sent': 0.47712125471966244, 'without': 0.47712125471966244, 'proper': 0.47712125471966244, 'training': 0.47712125471966244, 'leadership': 0.47712125471966244, 'founded': 0.47712125471966244, 'close': 0.47712125471966244, 'aide': 0.47712125471966244, 'recruited': 0.47712125471966244, 'heavily': 0.47712125471966244, 'prison': 0.47712125471966244, 'offering': 0.47712125471966244, 'convict': 0.47712125471966244, 'survive': 0.47712125471966244, 'six': 0.47712125471966244, 'amnesty': 0.47712125471966244, 'figure': 0.47712125471966244, 'underline': 0.47712125471966244, 'deadly': 0.47712125471966244, 'gamble': 0.47712125471966244, 'accept': 0.47712125471966244, 'still': 0.47712125471966244, 'holding': 0.47712125471966244, 'corner': 0.47712125471966244, 'col': 0.47712125471966244, 'gen': 0.47712125471966244, 'oleksandr': 0.47712125471966244, 'syrskyi': 0.47712125471966244, 'ground': 0.47712125471966244, 'situation': 0.47712125471966244, 'quite': 0.47712125471966244, 'difficult': 0.47712125471966244, 'counterattacking': 0.47712125471966244, 'control': 0.47712125471966244, 'road': 0.47712125471966244, 'west': 0.17609125905568124, 'serf': 0.47712125471966244, 'vital': 0.47712125471966244, 'supply': 0.47712125471966244, 'finally': 0.47712125471966244, 'fall': 0.17609125905568124, 'might': 0.47712125471966244, 'give': 0.47712125471966244, 'route': 0.47712125471966244, 'towards': 0.47712125471966244, 'bigger': 0.47712125471966244, 'kramatorsk': 0.47712125471966244, 'but': 0.47712125471966244, 'bitter': 0.47712125471966244, 'push': 0.47712125471966244, 'shelled': 0.47712125471966244, 'ruin': 0.47712125471966244, 'provincial': 0.47712125471966244, 'feel': 0.47712125471966244, 'symbolic': 0.47712125471966244, 'this': 0.47712125471966244, 'attempted': 0.47712125471966244, 'effort': 0.47712125471966244, 'particularly': 0.47712125471966244, 'terribly': 0.47712125471966244, 'cost': 0.47712125471966244, 'exhausted': 0.47712125471966244, 'stockpile': 0.47712125471966244, 'after': 0.47712125471966244, 'retreated': 0.47712125471966244, 'pushed': 0.47712125471966244, 'southern': 0.47712125471966244, 'kherson': 0.47712125471966244, 'away': 0.47712125471966244, 'kharkiv': 0.47712125471966244, 'became': 0.47712125471966244, 'focus': 0.47712125471966244, 'mounting': 0.47712125471966244, 'intense': 0.47712125471966244, 'propaganda': 0.47712125471966244, 'advance': 0.47712125471966244, 'given': 0.47712125471966244, 'political': 0.47712125471966244, 'impetus': 0.47712125471966244, 'drive': 0.47712125471966244, 'in': 0.47712125471966244, 'november': 0.47712125471966244, 'estimated': 0.47712125471966244, 'eight': 0.47712125471966244, 'similar': 0.47712125471966244, 'level': 0.47712125471966244, 'reached': 0.47712125471966244, 'december': 0.47712125471966244, 'april': 0.47712125471966244, 'dead': 0.47712125471966244, 'declined': 0.47712125471966244, 'publicly': 0.47712125471966244, 'sensitive': 0.47712125471966244, 'information': 0.47712125471966244, 'undermine': 0.47712125471966244, 'leaked': 0.47712125471966244, 'secret': 0.47712125471966244, 'briefing': 0.47712125471966244, 'document': 0.17609125905568124, 'toll': 0.47712125471966244, 'february': 0.47712125471966244, 'dutch': 0.47712125471966244, 'police': 0.47712125471966244, 'arrest': 0.47712125471966244, 'fake': 0.47712125471966244, 'boris': 0.47712125471966244, 'johnson': 0.47712125471966244, 'suspected': 0.47712125471966244, 'drink': 0.47712125471966244, 'driving': 0.47712125471966244, 'man': 0.47712125471966244, 'connection': 0.47712125471966244, 'surprised': 0.47712125471966244, 'find': 0.47712125471966244, 'name': 0.47712125471966244, 'licence': 0.47712125471966244, 'driver': 0.47712125471966244, 'complete': 0.47712125471966244, 'former': 0.47712125471966244, 'british': 0.47712125471966244, 'prime': 0.47712125471966244, 'picture': 0.47712125471966244, 'correct': 0.47712125471966244, 'birthdate': 0.47712125471966244, 'purportedly': 0.47712125471966244, 'issued': 0.47712125471966244, 'valid': 0.47712125471966244, 'end': 0.47712125471966244, 'a': 0.47712125471966244, 'thijs': 0.47712125471966244, 'damstra': 0.47712125471966244, 'officer': 0.47712125471966244, 'investigated': 0.47712125471966244, 'midnight': 0.47712125471966244, 'sunday': 0.47712125471966244, 'car': 0.47712125471966244, 'crashed': 0.47712125471966244, 'pole': 0.47712125471966244, 'emma': 0.47712125471966244, 'bridge': 0.47712125471966244, 'northern': 0.47712125471966244, 'groningen': 0.47712125471966244, 'abandoned': 0.47712125471966244, 'later': 0.47712125471966244, 'told': 0.47712125471966244, 'standing': 0.47712125471966244, 'person': 0.47712125471966244, 'identify': 0.47712125471966244, 'refused': 0.47712125471966244, 'undertake': 0.47712125471966244, 'breathalyser': 0.47712125471966244, 'old': 0.47712125471966244, 'zuidhorn': 0.47712125471966244, 'searched': 0.47712125471966244, 'belonging': 0.47712125471966244, 'instagram': 0.47712125471966244, 'account': 0.47712125471966244, 'unfortunately': 0.47712125471966244, 'forgery': 0.47712125471966244, 'forged': 0.47712125471966244, 'made': 0.47712125471966244, 'kysia': 0.47712125471966244, 'hekster': 0.47712125471966244, 'correspondent': 0.47712125471966244, 'public': 0.47712125471966244, 'broadcaster': 0.47712125471966244, 'nos': 0.47712125471966244, 'tweet': 0.47712125471966244, 'published': 0.47712125471966244, 'easily': 0.47712125471966244, 'bought': 0.47712125471966244, 'tourist': 0.47712125471966244, 'shop': 0.47712125471966244, 'i': 0.47712125471966244, 'aware': 0.47712125471966244, 'real': 0.47712125471966244, 'mr': 0.47712125471966244, 'netherlands': 0.47712125471966244}\n"
          ]
        }
      ]
    },
    {
      "cell_type": "markdown",
      "source": [
        "### TF-IDF"
      ],
      "metadata": {
        "id": "RjbWcPrwQnf6"
      }
    },
    {
      "cell_type": "markdown",
      "source": [
        "\\begin{align}\n",
        "    w_{t,d} = tf \\cdot idf\n",
        "\\end{align}"
      ],
      "metadata": {
        "id": "I5vbnVTY3FLs"
      }
    },
    {
      "cell_type": "code",
      "source": [
        "def tf_idf(tf, idf):\n",
        "    return {t: tf[t] * idf[t] for t in tf}"
      ],
      "metadata": {
        "id": "b0uHh3T_CLM4"
      },
      "execution_count": 21,
      "outputs": []
    },
    {
      "cell_type": "code",
      "source": [
        "w_td = [tf_idf(tf, idf) for tf in w_td]"
      ],
      "metadata": {
        "id": "YZp5gtM_EKMY"
      },
      "execution_count": 22,
      "outputs": []
    },
    {
      "cell_type": "code",
      "source": [
        "print('w_td:')\n",
        "for tf in w_td:\n",
        "    print(tf)"
      ],
      "metadata": {
        "colab": {
          "base_uri": "https://localhost:8080/"
        },
        "id": "uuNkxjkb5IwV",
        "outputId": "2f06d99e-2b21-4172-b693-4c5d590e16b1"
      },
      "execution_count": 23,
      "outputs": [
        {
          "output_type": "stream",
          "name": "stdout",
          "text": [
            "w_td:\n",
            "{'ukraine': 0.0, 'ammunition': 0.28210876095567466, 'depot': 0.28210876095567466, 'reportedly': 0.17609125905568124, 'hit': 0.29917376716136573, 'wave': 0.22910001000567795, 'russian': 0.3521825181113625, 'missile': 0.33511751190567135, 'attack': 0.31311689247148966, 'strike': 0.29917376716136573, 'injured': 0.22910001000567795, 'civilian': 0.47712125471966244, 'apparently': 0.6207490639591157, 'damaged': 0.6207490639591157, 'railway': 0.7047659464249274, 'infrastructure': 0.6207490639591157, 'south': 0.6207490639591157, 'eastern': 0.17609125905568124, 'hour': 0.6207490639591157, 'explosion': 0.6207490639591157, 'inside': 0.17609125905568124, 'russia': 0.0, 'derailed': 0.7047659464249274, 'freight': 0.7047659464249274, 'train': 0.7643768731985688, 'the': 0.0, 'side': 0.22910001000567795, 'border': 0.7047659464249274, 'monday': 0.0, 'aimed': 0.6207490639591157, 'disrupt': 0.47712125471966244, 'military': 0.28210876095567466, 'logistics': 0.47712125471966244, 'significant': 0.22910001000567795, 'ukrainian': 0.0, 'counteroffensive': 0.6207490639591157, 'occupying': 0.47712125471966244, 'troop': 0.260108141521493, 'expected': 0.47712125471966244, 'start': 0.47712125471966244, 'shortly': 0.17609125905568124, 'east': 0.47712125471966244, 'city': 0.0, 'pavlohrad': 0.7047659464249274, 'part': 0.47712125471966244, 'second': 0.22910001000567795, 'three': 0.17609125905568124, 'day': 0.22910001000567795, 'friday': 0.6207490639591157, 'people': 0.17609125905568124, 'killed': 0.22910001000567795, 'apartment': 0.6207490639591157, 'block': 0.47712125471966244, 'central': 0.47712125471966244, 'uman': 0.6207490639591157, 'woman': 0.6207490639591157, 'daughter': 0.47712125471966244, 'died': 0.47712125471966244, 'dnipro': 0.6207490639591157, 'with': 0.47712125471966244, 'kyiv': 0.28210876095567466, 'ally': 0.22910001000567795, 'saying': 0.17609125905568124, 'equipment': 0.6207490639591157, 'newly': 0.47712125471966244, 'trained': 0.47712125471966244, 'promised': 0.47712125471966244, 'next': 0.47712125471966244, 'campaign': 0.22910001000567795, 'place': 0.47712125471966244, 'moscow': 0.22910001000567795, 'revived': 0.47712125471966244, 'winter': 0.47712125471966244, 'tactic': 0.47712125471966244, 'attempting': 0.47712125471966244, 'orchestrate': 0.47712125471966244, 'bombing': 0.47712125471966244, 'far': 0.17609125905568124, 'behind': 0.47712125471966244, 'frontlines': 0.17609125905568124, 'it': 0.260108141521493, 'launched': 0.47712125471966244, 'cruise': 0.47712125471966244, 'early': 0.47712125471966244, 'morning': 0.47712125471966244, 'although': 0.6207490639591157, 'intercepted': 0.47712125471966244, 'air': 0.7047659464249274, 'defence': 0.7643768731985688, 'including': 0.17609125905568124, 'one': 0.7643768731985688, 'support': 0.47712125471966244, 'western': 0.47712125471966244, 'helped': 0.47712125471966244, 'improve': 0.47712125471966244, 'protection': 0.47712125471966244, 'main': 0.47712125471966244, 'site': 0.17609125905568124, 'at': 0.47712125471966244, 'video': 0.47712125471966244, 'posted': 0.47712125471966244, 'social': 0.7047659464249274, 'medium': 0.7643768731985688, 'showed': 0.6207490639591157, 'caused': 0.47712125471966244, 'blaze': 0.47712125471966244, 'secondary': 0.47712125471966244, 'detonation': 0.47712125471966244, 'among': 0.47712125471966244, 'building': 0.7047659464249274, 'destroyed': 0.47712125471966244, 'industrial': 0.47712125471966244, 'zone': 0.47712125471966244, 'home': 0.6207490639591157, 'according': 0.6207490639591157, 'mykola': 0.47712125471966244, 'lukashuk': 0.47712125471966244, 'head': 0.47712125471966244, 'regional': 0.47712125471966244, 'council': 0.17609125905568124, 'two': 0.22910001000567795, 'seriously': 0.47712125471966244, 'official': 0.28210876095567466, 'tass': 0.47712125471966244, 'state': 0.47712125471966244, 'news': 0.47712125471966244, 'agency': 0.47712125471966244, 'claimed': 0.17609125905568124, 'hampering': 0.47712125471966244, 'preparation': 0.47712125471966244, 'objective': 0.47712125471966244, 'achieved': 0.47712125471966244, 'ministry': 0.47712125471966244, 'said': 0.0, 'statement': 0.47712125471966244, 'work': 0.47712125471966244, 'enterprise': 0.47712125471966244, 'making': 0.17609125905568124, 'weapon': 0.47712125471966244, 'disrupted': 0.47712125471966244, 'source': 0.47712125471966244, 'location': 0.47712125471966244, 'plant': 0.47712125471966244, 'produced': 0.47712125471966244, 'solid': 0.6207490639591157, 'fuel': 0.7047659464249274, 'soviet': 0.47712125471966244, 'era': 0.47712125471966244, 'rocket': 0.47712125471966244, 'motor': 0.6207490639591157, 'number': 0.17609125905568124, 'expired': 0.47712125471966244, 'awaiting': 0.47712125471966244, 'decommissioning': 0.47712125471966244, 'claim': 0.47712125471966244, 'could': 0.0, 'immediately': 0.6207490639591157, 'verified': 0.47712125471966244, 'local': 0.7047659464249274, 'resident': 0.47712125471966244, 'carry': 0.47712125471966244, 'casket': 0.47712125471966244, 'child': 0.47712125471966244, 'town': 0.0, 'when': 0.47712125471966244, 'target': 0.47712125471966244, 'ordinary': 0.47712125471966244, 'mean': 0.47712125471966244, 'safe': 0.47712125471966244, 'read': 0.17609125905568124, 'size': 0.47712125471966244, 'fire': 0.47712125471966244, 'suggests': 0.47712125471966244, 'may': 0.6207490639591157, 'important': 0.47712125471966244, 'arm': 0.47712125471966244, 'incident': 0.22910001000567795, 'come': 0.17609125905568124, 'recent': 0.6207490639591157, 'oil': 0.47712125471966244, 'storage': 0.47712125471966244, 'facility': 0.47712125471966244, 'sevastopol': 0.47712125471966244, 'crimea': 0.47712125471966244, 'around': 0.47712125471966244, 'invader': 0.47712125471966244, 'attacked': 0.47712125471966244, 'strategic': 0.17609125905568124, 'aviation': 0.47712125471966244, 'plane': 0.47712125471966244, 'post': 0.6207490639591157, 'telegram': 0.6207490639591157, 'channel': 0.47712125471966244, 'valerii': 0.47712125471966244, 'zaluzhnyi': 0.47712125471966244, 'commander': 0.22910001000567795, 'chief': 0.47712125471966244, 'armed': 0.17609125905568124, 'force': 0.17609125905568124, 'system': 0.47712125471966244, 'called': 0.47712125471966244, 'action': 0.17609125905568124, 'shield': 0.47712125471966244, 'region': 0.7643768731985688, 'reported': 0.6207490639591157, 'blast': 0.47712125471966244, 'dnipropetrovsk': 0.47712125471966244, 'sumy': 0.47712125471966244, 'senior': 0.47712125471966244, 'suggested': 0.47712125471966244, 'imminent': 0.47712125471966244, 'critical': 0.47712125471966244, 'test': 0.17609125905568124, 'whether': 0.47712125471966244, 'dislodged': 0.47712125471966244, 'land': 0.47712125471966244, 'seized': 0.47712125471966244, 'last': 0.22910001000567795, 'year': 0.17609125905568124, 'nearly': 0.47712125471966244, 'fifth': 0.47712125471966244, 'territory': 0.17609125905568124, 'if': 0.17609125905568124, 'global': 0.47712125471966244, 'sense': 0.47712125471966244, 'high': 0.17609125905568124, 'percentage': 0.47712125471966244, 'mode': 0.47712125471966244, 'ready': 0.47712125471966244, 'minister': 0.17609125905568124, 'oleksii': 0.47712125471966244, 'reznikov': 0.47712125471966244, 'press': 0.47712125471966244, 'conference': 0.47712125471966244, 'then': 0.47712125471966244, 'question': 0.47712125471966244, 'launch': 0.47712125471966244, 'general': 0.47712125471966244, 'staff': 0.47712125471966244, 'command': 0.47712125471966244, 'as': 0.17609125905568124, 'soon': 0.47712125471966244, 'god': 0.47712125471966244, 'weather': 0.47712125471966244, 'decision': 0.47712125471966244, 'on': 0.47712125471966244, 'bryansk': 0.47712125471966244, 'governor': 0.6207490639591157, 'an': 0.47712125471966244, 'unidentified': 0.47712125471966244, 'explosive': 0.6207490639591157, 'device': 0.6207490639591157, 'went': 0.47712125471966244, 'result': 0.47712125471966244, 'locomotive': 0.47712125471966244, 'alexander': 0.47712125471966244, 'bogomaz': 0.47712125471966244, 'adding': 0.47712125471966244, 'casualty': 0.17609125905568124, 'authority': 0.6207490639591157, 'transporting': 0.47712125471966244, 'material': 0.47712125471966244, 'images': 0.47712125471966244, 'shared': 0.47712125471966244, 'several': 0.47712125471966244, 'tank': 0.47712125471966244, 'carriage': 0.47712125471966244, 'laying': 0.47712125471966244, 'smoke': 0.47712125471966244, 'rising': 0.47712125471966244, 'clear': 0.47712125471966244, 'responsible': 0.47712125471966244, 'happened': 0.47712125471966244, 'le': 0.47712125471966244, 'mile': 0.47712125471966244, 'there': 0.47712125471966244, 'increase': 0.47712125471966244, 'rail': 0.47712125471966244, 'month': 0.17609125905568124, 'since': 0.6207490639591157, 'vladimir': 0.47712125471966244, 'putin': 0.17609125905568124, 'ordered': 0.47712125471966244, 'full': 0.47712125471966244, 'scale': 0.47712125471966244, 'invasion': 0.47712125471966244, 'arrested': 0.17609125905568124, 'least': 0.47712125471966244, 'russians': 0.17609125905568124, 'suspicion': 0.47712125471966244, 'sabotage': 0.47712125471966244, 'autumn': 0.47712125471966244, 'independent': 0.47712125471966244, 'website': 0.47712125471966244, 'mediazona': 0.47712125471966244, 'separately': 0.47712125471966244, 'leningrad': 0.47712125471966244, 'near': 0.22910001000567795, 'st': 0.47712125471966244, 'petersburg': 0.47712125471966244, 'power': 0.47712125471966244, 'line': 0.22910001000567795, 'blown': 0.47712125471966244, 'overnight': 0.47712125471966244, 'found': 0.17609125905568124, 'more': 0.0, 'soldier': 0.0, 'five': 0.0, 'us': 0.0, 'say': 0.0, 'fighting': 0.0, 'acceleration': 0.0, 'already': 0.0, 'heavy': 0.0, 'loss': 0.0, 'intelligence': 0.0, 'estimate': 0.0, 'most': 0.0, 'brutal': 0.0, 'trench': 0.0, 'warfare': 0.0, 'small': 0.0, 'bakhmut': 0.0, 'repeatedly': 0.0, 'brink': 0.0, 'capturing': 0.0, 'white': 0.0, 'house': 0.0, 'national': 0.0, 'security': 0.0, 'spokesperson': 0.0, 'john': 0.0, 'kirby': 0.0, 'revealed': 0.0, 'new': 0.0, 'seen': 0.0, 'residential': 0.0, 'area': 0.0, 'amid': 0.0, 'pavlohrod': 0.0, 'attempt': 0.0, 'offensive': 0.0, 'donbas': 0.0, 'largely': 0.0, 'failed': 0.0, 'unable': 0.0, 'seize': 0.0, 'really': 0.0, 'strategically': 0.0, 'even': 0.0, 'bloody': 0.0, 'first': 0.0, 'war': 0.0, 'overshadow': 0.0, 'bloodiest': 0.0, 'allied': 0.0, 'battle': 0.0, 'world': 0.0, 'added': 0.0, 'that': 0.0, 'includes': 0.0, 'guadalcanal': 0.0, 'major': 0.0, 'japan': 0.0, 'also': 0.0, 'lasted': 0.0, 'time': 0.0, 'united': 0.0, 'states': 0.0, 'faced': 0.0, 'ii': 0.0, 'ap': 0.0, 'quoted': 0.0, 'detail': 0.0, 'calculated': 0.0, 'death': 0.0, 'half': 0.0, 'wagner': 0.0, 'mercenary': 0.0, 'group': 0.0, 'rather': 0.0, 'they': 0.0, 'sent': 0.0, 'without': 0.0, 'proper': 0.0, 'training': 0.0, 'leadership': 0.0, 'founded': 0.0, 'close': 0.0, 'aide': 0.0, 'recruited': 0.0, 'heavily': 0.0, 'prison': 0.0, 'offering': 0.0, 'convict': 0.0, 'survive': 0.0, 'six': 0.0, 'amnesty': 0.0, 'figure': 0.0, 'underline': 0.0, 'deadly': 0.0, 'gamble': 0.0, 'accept': 0.0, 'still': 0.0, 'holding': 0.0, 'corner': 0.0, 'col': 0.0, 'gen': 0.0, 'oleksandr': 0.0, 'syrskyi': 0.0, 'ground': 0.0, 'situation': 0.0, 'quite': 0.0, 'difficult': 0.0, 'counterattacking': 0.0, 'control': 0.0, 'road': 0.0, 'west': 0.0, 'serf': 0.0, 'vital': 0.0, 'supply': 0.0, 'finally': 0.0, 'fall': 0.0, 'might': 0.0, 'give': 0.0, 'route': 0.0, 'towards': 0.0, 'bigger': 0.0, 'kramatorsk': 0.0, 'but': 0.0, 'bitter': 0.0, 'push': 0.0, 'shelled': 0.0, 'ruin': 0.0, 'provincial': 0.0, 'feel': 0.0, 'symbolic': 0.0, 'this': 0.0, 'attempted': 0.0, 'effort': 0.0, 'particularly': 0.0, 'terribly': 0.0, 'cost': 0.0, 'exhausted': 0.0, 'stockpile': 0.0, 'after': 0.0, 'retreated': 0.0, 'pushed': 0.0, 'southern': 0.0, 'kherson': 0.0, 'away': 0.0, 'kharkiv': 0.0, 'became': 0.0, 'focus': 0.0, 'mounting': 0.0, 'intense': 0.0, 'propaganda': 0.0, 'advance': 0.0, 'given': 0.0, 'political': 0.0, 'impetus': 0.0, 'drive': 0.0, 'in': 0.0, 'november': 0.0, 'estimated': 0.0, 'eight': 0.0, 'similar': 0.0, 'level': 0.0, 'reached': 0.0, 'december': 0.0, 'april': 0.0, 'dead': 0.0, 'declined': 0.0, 'publicly': 0.0, 'sensitive': 0.0, 'information': 0.0, 'undermine': 0.0, 'leaked': 0.0, 'secret': 0.0, 'briefing': 0.0, 'document': 0.0, 'toll': 0.0, 'february': 0.0, 'dutch': 0.0, 'police': 0.0, 'arrest': 0.0, 'fake': 0.0, 'boris': 0.0, 'johnson': 0.0, 'suspected': 0.0, 'drink': 0.0, 'driving': 0.0, 'man': 0.0, 'connection': 0.0, 'surprised': 0.0, 'find': 0.0, 'name': 0.0, 'licence': 0.0, 'driver': 0.0, 'complete': 0.0, 'former': 0.0, 'british': 0.0, 'prime': 0.0, 'picture': 0.0, 'correct': 0.0, 'birthdate': 0.0, 'purportedly': 0.0, 'issued': 0.0, 'valid': 0.0, 'end': 0.0, 'a': 0.0, 'thijs': 0.0, 'damstra': 0.0, 'officer': 0.0, 'investigated': 0.0, 'midnight': 0.0, 'sunday': 0.0, 'car': 0.0, 'crashed': 0.0, 'pole': 0.0, 'emma': 0.0, 'bridge': 0.0, 'northern': 0.0, 'groningen': 0.0, 'abandoned': 0.0, 'later': 0.0, 'told': 0.0, 'standing': 0.0, 'person': 0.0, 'identify': 0.0, 'refused': 0.0, 'undertake': 0.0, 'breathalyser': 0.0, 'old': 0.0, 'zuidhorn': 0.0, 'searched': 0.0, 'belonging': 0.0, 'instagram': 0.0, 'account': 0.0, 'unfortunately': 0.0, 'forgery': 0.0, 'forged': 0.0, 'made': 0.0, 'kysia': 0.0, 'hekster': 0.0, 'correspondent': 0.0, 'public': 0.0, 'broadcaster': 0.0, 'nos': 0.0, 'tweet': 0.0, 'published': 0.0, 'easily': 0.0, 'bought': 0.0, 'tourist': 0.0, 'shop': 0.0, 'i': 0.0, 'aware': 0.0, 'real': 0.0, 'mr': 0.0, 'netherlands': 0.0}\n",
            "{'ukraine': 0.0, 'ammunition': 0.17609125905568124, 'depot': 0.17609125905568124, 'reportedly': 0.17609125905568124, 'hit': 0.22910001000567795, 'wave': 0.17609125905568124, 'russian': 0.3521825181113625, 'missile': 0.17609125905568124, 'attack': 0.22910001000567795, 'strike': 0.17609125905568124, 'injured': 0.260108141521493, 'civilian': 0.0, 'apparently': 0.0, 'damaged': 0.0, 'railway': 0.0, 'infrastructure': 0.0, 'south': 0.0, 'eastern': 0.22910001000567795, 'hour': 0.0, 'explosion': 0.0, 'inside': 0.0, 'russia': 0.0, 'derailed': 0.0, 'freight': 0.0, 'train': 0.0, 'the': 0.0, 'side': 0.17609125905568124, 'border': 0.0, 'monday': 0.0, 'aimed': 0.0, 'disrupt': 0.0, 'military': 0.31311689247148966, 'logistics': 0.0, 'significant': 0.17609125905568124, 'ukrainian': 0.0, 'counteroffensive': 0.0, 'occupying': 0.0, 'troop': 0.260108141521493, 'expected': 0.0, 'start': 0.0, 'shortly': 0.0, 'east': 0.0, 'city': 0.0, 'pavlohrad': 0.0, 'part': 0.0, 'second': 0.17609125905568124, 'three': 0.17609125905568124, 'day': 0.17609125905568124, 'friday': 0.0, 'people': 0.17609125905568124, 'killed': 0.29917376716136573, 'apartment': 0.0, 'block': 0.0, 'central': 0.0, 'uman': 0.0, 'woman': 0.0, 'daughter': 0.0, 'died': 0.0, 'dnipro': 0.0, 'with': 0.0, 'kyiv': 0.17609125905568124, 'ally': 0.17609125905568124, 'saying': 0.22910001000567795, 'equipment': 0.0, 'newly': 0.0, 'trained': 0.0, 'promised': 0.0, 'next': 0.0, 'campaign': 0.260108141521493, 'place': 0.0, 'moscow': 0.22910001000567795, 'revived': 0.0, 'winter': 0.0, 'tactic': 0.0, 'attempting': 0.0, 'orchestrate': 0.0, 'bombing': 0.0, 'far': 0.0, 'behind': 0.0, 'frontlines': 0.17609125905568124, 'it': 0.22910001000567795, 'launched': 0.0, 'cruise': 0.0, 'early': 0.0, 'morning': 0.0, 'although': 0.0, 'intercepted': 0.0, 'air': 0.0, 'defence': 0.0, 'including': 0.17609125905568124, 'one': 0.0, 'support': 0.0, 'western': 0.0, 'helped': 0.0, 'improve': 0.0, 'protection': 0.0, 'main': 0.0, 'site': 0.17609125905568124, 'at': 0.0, 'video': 0.0, 'posted': 0.0, 'social': 0.0, 'medium': 0.0, 'showed': 0.0, 'caused': 0.0, 'blaze': 0.0, 'secondary': 0.0, 'detonation': 0.0, 'among': 0.0, 'building': 0.0, 'destroyed': 0.0, 'industrial': 0.0, 'zone': 0.0, 'home': 0.0, 'according': 0.0, 'mykola': 0.0, 'lukashuk': 0.0, 'head': 0.0, 'regional': 0.0, 'council': 0.17609125905568124, 'two': 0.17609125905568124, 'seriously': 0.0, 'official': 0.22910001000567795, 'tass': 0.0, 'state': 0.0, 'news': 0.0, 'agency': 0.0, 'claimed': 0.17609125905568124, 'hampering': 0.0, 'preparation': 0.0, 'objective': 0.0, 'achieved': 0.0, 'ministry': 0.0, 'said': 0.0, 'statement': 0.0, 'work': 0.0, 'enterprise': 0.0, 'making': 0.17609125905568124, 'weapon': 0.0, 'disrupted': 0.0, 'source': 0.0, 'location': 0.0, 'plant': 0.0, 'produced': 0.0, 'solid': 0.0, 'fuel': 0.0, 'soviet': 0.0, 'era': 0.0, 'rocket': 0.0, 'motor': 0.0, 'number': 0.17609125905568124, 'expired': 0.0, 'awaiting': 0.0, 'decommissioning': 0.0, 'claim': 0.0, 'could': 0.0, 'immediately': 0.0, 'verified': 0.0, 'local': 0.0, 'resident': 0.0, 'carry': 0.0, 'casket': 0.0, 'child': 0.0, 'town': 0.0, 'when': 0.0, 'target': 0.0, 'ordinary': 0.0, 'mean': 0.0, 'safe': 0.0, 'read': 0.17609125905568124, 'size': 0.0, 'fire': 0.0, 'suggests': 0.0, 'may': 0.0, 'important': 0.0, 'arm': 0.0, 'incident': 0.0, 'come': 0.17609125905568124, 'recent': 0.0, 'oil': 0.0, 'storage': 0.0, 'facility': 0.0, 'sevastopol': 0.0, 'crimea': 0.0, 'around': 0.0, 'invader': 0.0, 'attacked': 0.0, 'strategic': 0.17609125905568124, 'aviation': 0.0, 'plane': 0.0, 'post': 0.0, 'telegram': 0.0, 'channel': 0.0, 'valerii': 0.0, 'zaluzhnyi': 0.0, 'commander': 0.17609125905568124, 'chief': 0.0, 'armed': 0.17609125905568124, 'force': 0.28210876095567466, 'system': 0.0, 'called': 0.0, 'action': 0.17609125905568124, 'shield': 0.0, 'region': 0.0, 'reported': 0.0, 'blast': 0.0, 'dnipropetrovsk': 0.0, 'sumy': 0.0, 'senior': 0.0, 'suggested': 0.0, 'imminent': 0.0, 'critical': 0.0, 'test': 0.0, 'whether': 0.0, 'dislodged': 0.0, 'land': 0.0, 'seized': 0.0, 'last': 0.17609125905568124, 'year': 0.0, 'nearly': 0.0, 'fifth': 0.0, 'territory': 0.17609125905568124, 'if': 0.17609125905568124, 'global': 0.0, 'sense': 0.0, 'high': 0.17609125905568124, 'percentage': 0.0, 'mode': 0.0, 'ready': 0.0, 'minister': 0.0, 'oleksii': 0.0, 'reznikov': 0.0, 'press': 0.0, 'conference': 0.0, 'then': 0.0, 'question': 0.0, 'launch': 0.0, 'general': 0.0, 'staff': 0.0, 'command': 0.0, 'as': 0.0, 'soon': 0.0, 'god': 0.0, 'weather': 0.0, 'decision': 0.0, 'on': 0.0, 'bryansk': 0.0, 'governor': 0.0, 'an': 0.0, 'unidentified': 0.0, 'explosive': 0.0, 'device': 0.0, 'went': 0.0, 'result': 0.0, 'locomotive': 0.0, 'alexander': 0.0, 'bogomaz': 0.0, 'adding': 0.0, 'casualty': 0.260108141521493, 'authority': 0.0, 'transporting': 0.0, 'material': 0.0, 'images': 0.0, 'shared': 0.0, 'several': 0.0, 'tank': 0.0, 'carriage': 0.0, 'laying': 0.0, 'smoke': 0.0, 'rising': 0.0, 'clear': 0.0, 'responsible': 0.0, 'happened': 0.0, 'le': 0.0, 'mile': 0.0, 'there': 0.0, 'increase': 0.0, 'rail': 0.0, 'month': 0.31311689247148966, 'since': 0.0, 'vladimir': 0.0, 'putin': 0.22910001000567795, 'ordered': 0.0, 'full': 0.0, 'scale': 0.0, 'invasion': 0.0, 'arrested': 0.0, 'least': 0.0, 'russians': 0.17609125905568124, 'suspicion': 0.0, 'sabotage': 0.0, 'autumn': 0.0, 'independent': 0.0, 'website': 0.0, 'mediazona': 0.0, 'separately': 0.0, 'leningrad': 0.0, 'near': 0.0, 'st': 0.0, 'petersburg': 0.0, 'power': 0.0, 'line': 0.17609125905568124, 'blown': 0.0, 'overnight': 0.0, 'found': 0.0, 'more': 0.6207490639591157, 'soldier': 0.6207490639591157, 'five': 0.7047659464249274, 'us': 0.8483937556643806, 'say': 0.17609125905568124, 'fighting': 0.7643768731985688, 'acceleration': 0.6207490639591157, 'already': 0.47712125471966244, 'heavy': 0.6207490639591157, 'loss': 0.7643768731985688, 'intelligence': 0.47712125471966244, 'estimate': 0.7047659464249274, 'most': 0.47712125471966244, 'brutal': 0.47712125471966244, 'trench': 0.47712125471966244, 'warfare': 0.47712125471966244, 'small': 0.17609125905568124, 'bakhmut': 0.8483937556643806, 'repeatedly': 0.47712125471966244, 'brink': 0.47712125471966244, 'capturing': 0.47712125471966244, 'white': 0.47712125471966244, 'house': 0.47712125471966244, 'national': 0.47712125471966244, 'security': 0.47712125471966244, 'spokesperson': 0.17609125905568124, 'john': 0.47712125471966244, 'kirby': 0.8483937556643806, 'revealed': 0.47712125471966244, 'new': 0.47712125471966244, 'seen': 0.47712125471966244, 'residential': 0.47712125471966244, 'area': 0.47712125471966244, 'amid': 0.47712125471966244, 'pavlohrod': 0.47712125471966244, 'attempt': 0.47712125471966244, 'offensive': 0.6207490639591157, 'donbas': 0.47712125471966244, 'largely': 0.47712125471966244, 'failed': 0.47712125471966244, 'unable': 0.47712125471966244, 'seize': 0.6207490639591157, 'really': 0.47712125471966244, 'strategically': 0.47712125471966244, 'even': 0.47712125471966244, 'bloody': 0.6207490639591157, 'first': 0.7047659464249274, 'war': 0.7643768731985688, 'overshadow': 0.47712125471966244, 'bloodiest': 0.47712125471966244, 'allied': 0.6207490639591157, 'battle': 0.6207490639591157, 'world': 0.6207490639591157, 'added': 0.22910001000567795, 'that': 0.47712125471966244, 'includes': 0.47712125471966244, 'guadalcanal': 0.6207490639591157, 'major': 0.47712125471966244, 'japan': 0.47712125471966244, 'also': 0.47712125471966244, 'lasted': 0.47712125471966244, 'time': 0.17609125905568124, 'united': 0.47712125471966244, 'states': 0.47712125471966244, 'faced': 0.47712125471966244, 'ii': 0.47712125471966244, 'ap': 0.47712125471966244, 'quoted': 0.47712125471966244, 'detail': 0.47712125471966244, 'calculated': 0.47712125471966244, 'death': 0.47712125471966244, 'half': 0.47712125471966244, 'wagner': 0.47712125471966244, 'mercenary': 0.47712125471966244, 'group': 0.6207490639591157, 'rather': 0.47712125471966244, 'they': 0.47712125471966244, 'sent': 0.47712125471966244, 'without': 0.47712125471966244, 'proper': 0.47712125471966244, 'training': 0.47712125471966244, 'leadership': 0.47712125471966244, 'founded': 0.47712125471966244, 'close': 0.47712125471966244, 'aide': 0.47712125471966244, 'recruited': 0.47712125471966244, 'heavily': 0.47712125471966244, 'prison': 0.47712125471966244, 'offering': 0.47712125471966244, 'convict': 0.47712125471966244, 'survive': 0.47712125471966244, 'six': 0.47712125471966244, 'amnesty': 0.47712125471966244, 'figure': 0.47712125471966244, 'underline': 0.47712125471966244, 'deadly': 0.47712125471966244, 'gamble': 0.47712125471966244, 'accept': 0.47712125471966244, 'still': 0.6207490639591157, 'holding': 0.47712125471966244, 'corner': 0.47712125471966244, 'col': 0.47712125471966244, 'gen': 0.47712125471966244, 'oleksandr': 0.47712125471966244, 'syrskyi': 0.47712125471966244, 'ground': 0.6207490639591157, 'situation': 0.47712125471966244, 'quite': 0.47712125471966244, 'difficult': 0.47712125471966244, 'counterattacking': 0.47712125471966244, 'control': 0.47712125471966244, 'road': 0.47712125471966244, 'west': 0.22910001000567795, 'serf': 0.47712125471966244, 'vital': 0.47712125471966244, 'supply': 0.47712125471966244, 'finally': 0.47712125471966244, 'fall': 0.17609125905568124, 'might': 0.47712125471966244, 'give': 0.47712125471966244, 'route': 0.47712125471966244, 'towards': 0.47712125471966244, 'bigger': 0.47712125471966244, 'kramatorsk': 0.47712125471966244, 'but': 0.47712125471966244, 'bitter': 0.47712125471966244, 'push': 0.47712125471966244, 'shelled': 0.47712125471966244, 'ruin': 0.47712125471966244, 'provincial': 0.47712125471966244, 'feel': 0.47712125471966244, 'symbolic': 0.47712125471966244, 'this': 0.47712125471966244, 'attempted': 0.47712125471966244, 'effort': 0.6207490639591157, 'particularly': 0.47712125471966244, 'terribly': 0.6207490639591157, 'cost': 0.47712125471966244, 'exhausted': 0.47712125471966244, 'stockpile': 0.47712125471966244, 'after': 0.47712125471966244, 'retreated': 0.47712125471966244, 'pushed': 0.47712125471966244, 'southern': 0.47712125471966244, 'kherson': 0.47712125471966244, 'away': 0.47712125471966244, 'kharkiv': 0.47712125471966244, 'became': 0.47712125471966244, 'focus': 0.47712125471966244, 'mounting': 0.47712125471966244, 'intense': 0.47712125471966244, 'propaganda': 0.47712125471966244, 'advance': 0.47712125471966244, 'given': 0.47712125471966244, 'political': 0.47712125471966244, 'impetus': 0.47712125471966244, 'drive': 0.47712125471966244, 'in': 0.47712125471966244, 'november': 0.47712125471966244, 'estimated': 0.6207490639591157, 'eight': 0.47712125471966244, 'similar': 0.47712125471966244, 'level': 0.47712125471966244, 'reached': 0.6207490639591157, 'december': 0.47712125471966244, 'april': 0.47712125471966244, 'dead': 0.47712125471966244, 'declined': 0.47712125471966244, 'publicly': 0.47712125471966244, 'sensitive': 0.47712125471966244, 'information': 0.47712125471966244, 'undermine': 0.47712125471966244, 'leaked': 0.47712125471966244, 'secret': 0.47712125471966244, 'briefing': 0.47712125471966244, 'document': 0.17609125905568124, 'toll': 0.47712125471966244, 'february': 0.47712125471966244, 'dutch': 0.0, 'police': 0.0, 'arrest': 0.0, 'fake': 0.0, 'boris': 0.0, 'johnson': 0.0, 'suspected': 0.0, 'drink': 0.0, 'driving': 0.0, 'man': 0.0, 'connection': 0.0, 'surprised': 0.0, 'find': 0.0, 'name': 0.0, 'licence': 0.0, 'driver': 0.0, 'complete': 0.0, 'former': 0.0, 'british': 0.0, 'prime': 0.0, 'picture': 0.0, 'correct': 0.0, 'birthdate': 0.0, 'purportedly': 0.0, 'issued': 0.0, 'valid': 0.0, 'end': 0.0, 'a': 0.0, 'thijs': 0.0, 'damstra': 0.0, 'officer': 0.0, 'investigated': 0.0, 'midnight': 0.0, 'sunday': 0.0, 'car': 0.0, 'crashed': 0.0, 'pole': 0.0, 'emma': 0.0, 'bridge': 0.0, 'northern': 0.0, 'groningen': 0.0, 'abandoned': 0.0, 'later': 0.0, 'told': 0.0, 'standing': 0.0, 'person': 0.0, 'identify': 0.0, 'refused': 0.0, 'undertake': 0.0, 'breathalyser': 0.0, 'old': 0.0, 'zuidhorn': 0.0, 'searched': 0.0, 'belonging': 0.0, 'instagram': 0.0, 'account': 0.0, 'unfortunately': 0.0, 'forgery': 0.0, 'forged': 0.0, 'made': 0.0, 'kysia': 0.0, 'hekster': 0.0, 'correspondent': 0.0, 'public': 0.0, 'broadcaster': 0.0, 'nos': 0.0, 'tweet': 0.0, 'published': 0.0, 'easily': 0.0, 'bought': 0.0, 'tourist': 0.0, 'shop': 0.0, 'i': 0.0, 'aware': 0.0, 'real': 0.0, 'mr': 0.0, 'netherlands': 0.0}\n",
            "{'ukraine': 0.0, 'ammunition': 0.0, 'depot': 0.0, 'reportedly': 0.0, 'hit': 0.0, 'wave': 0.0, 'russian': 0.0, 'missile': 0.0, 'attack': 0.0, 'strike': 0.0, 'injured': 0.0, 'civilian': 0.0, 'apparently': 0.0, 'damaged': 0.0, 'railway': 0.0, 'infrastructure': 0.0, 'south': 0.0, 'eastern': 0.0, 'hour': 0.0, 'explosion': 0.0, 'inside': 0.17609125905568124, 'russia': 0.0, 'derailed': 0.0, 'freight': 0.0, 'train': 0.0, 'the': 0.0, 'side': 0.0, 'border': 0.0, 'monday': 0.0, 'aimed': 0.0, 'disrupt': 0.0, 'military': 0.0, 'logistics': 0.0, 'significant': 0.0, 'ukrainian': 0.0, 'counteroffensive': 0.0, 'occupying': 0.0, 'troop': 0.0, 'expected': 0.0, 'start': 0.0, 'shortly': 0.17609125905568124, 'east': 0.0, 'city': 0.0, 'pavlohrad': 0.0, 'part': 0.0, 'second': 0.0, 'three': 0.0, 'day': 0.0, 'friday': 0.0, 'people': 0.0, 'killed': 0.0, 'apartment': 0.0, 'block': 0.0, 'central': 0.0, 'uman': 0.0, 'woman': 0.0, 'daughter': 0.0, 'died': 0.0, 'dnipro': 0.0, 'with': 0.0, 'kyiv': 0.0, 'ally': 0.0, 'saying': 0.0, 'equipment': 0.0, 'newly': 0.0, 'trained': 0.0, 'promised': 0.0, 'next': 0.0, 'campaign': 0.0, 'place': 0.0, 'moscow': 0.0, 'revived': 0.0, 'winter': 0.0, 'tactic': 0.0, 'attempting': 0.0, 'orchestrate': 0.0, 'bombing': 0.0, 'far': 0.17609125905568124, 'behind': 0.0, 'frontlines': 0.0, 'it': 0.0, 'launched': 0.0, 'cruise': 0.0, 'early': 0.0, 'morning': 0.0, 'although': 0.0, 'intercepted': 0.0, 'air': 0.0, 'defence': 0.0, 'including': 0.0, 'one': 0.0, 'support': 0.0, 'western': 0.0, 'helped': 0.0, 'improve': 0.0, 'protection': 0.0, 'main': 0.0, 'site': 0.0, 'at': 0.0, 'video': 0.0, 'posted': 0.0, 'social': 0.0, 'medium': 0.0, 'showed': 0.0, 'caused': 0.0, 'blaze': 0.0, 'secondary': 0.0, 'detonation': 0.0, 'among': 0.0, 'building': 0.0, 'destroyed': 0.0, 'industrial': 0.0, 'zone': 0.0, 'home': 0.0, 'according': 0.0, 'mykola': 0.0, 'lukashuk': 0.0, 'head': 0.0, 'regional': 0.0, 'council': 0.0, 'two': 0.0, 'seriously': 0.0, 'official': 0.0, 'tass': 0.0, 'state': 0.0, 'news': 0.0, 'agency': 0.0, 'claimed': 0.0, 'hampering': 0.0, 'preparation': 0.0, 'objective': 0.0, 'achieved': 0.0, 'ministry': 0.0, 'said': 0.0, 'statement': 0.0, 'work': 0.0, 'enterprise': 0.0, 'making': 0.0, 'weapon': 0.0, 'disrupted': 0.0, 'source': 0.0, 'location': 0.0, 'plant': 0.0, 'produced': 0.0, 'solid': 0.0, 'fuel': 0.0, 'soviet': 0.0, 'era': 0.0, 'rocket': 0.0, 'motor': 0.0, 'number': 0.0, 'expired': 0.0, 'awaiting': 0.0, 'decommissioning': 0.0, 'claim': 0.0, 'could': 0.0, 'immediately': 0.0, 'verified': 0.0, 'local': 0.0, 'resident': 0.0, 'carry': 0.0, 'casket': 0.0, 'child': 0.0, 'town': 0.0, 'when': 0.0, 'target': 0.0, 'ordinary': 0.0, 'mean': 0.0, 'safe': 0.0, 'read': 0.0, 'size': 0.0, 'fire': 0.0, 'suggests': 0.0, 'may': 0.0, 'important': 0.0, 'arm': 0.0, 'incident': 0.22910001000567795, 'come': 0.0, 'recent': 0.0, 'oil': 0.0, 'storage': 0.0, 'facility': 0.0, 'sevastopol': 0.0, 'crimea': 0.0, 'around': 0.0, 'invader': 0.0, 'attacked': 0.0, 'strategic': 0.0, 'aviation': 0.0, 'plane': 0.0, 'post': 0.0, 'telegram': 0.0, 'channel': 0.0, 'valerii': 0.0, 'zaluzhnyi': 0.0, 'commander': 0.0, 'chief': 0.0, 'armed': 0.0, 'force': 0.0, 'system': 0.0, 'called': 0.0, 'action': 0.0, 'shield': 0.0, 'region': 0.0, 'reported': 0.0, 'blast': 0.0, 'dnipropetrovsk': 0.0, 'sumy': 0.0, 'senior': 0.0, 'suggested': 0.0, 'imminent': 0.0, 'critical': 0.0, 'test': 0.17609125905568124, 'whether': 0.0, 'dislodged': 0.0, 'land': 0.0, 'seized': 0.0, 'last': 0.0, 'year': 0.22910001000567795, 'nearly': 0.0, 'fifth': 0.0, 'territory': 0.0, 'if': 0.0, 'global': 0.0, 'sense': 0.0, 'high': 0.0, 'percentage': 0.0, 'mode': 0.0, 'ready': 0.0, 'minister': 0.17609125905568124, 'oleksii': 0.0, 'reznikov': 0.0, 'press': 0.0, 'conference': 0.0, 'then': 0.0, 'question': 0.0, 'launch': 0.0, 'general': 0.0, 'staff': 0.0, 'command': 0.0, 'as': 0.17609125905568124, 'soon': 0.0, 'god': 0.0, 'weather': 0.0, 'decision': 0.0, 'on': 0.0, 'bryansk': 0.0, 'governor': 0.0, 'an': 0.0, 'unidentified': 0.0, 'explosive': 0.0, 'device': 0.0, 'went': 0.0, 'result': 0.0, 'locomotive': 0.0, 'alexander': 0.0, 'bogomaz': 0.0, 'adding': 0.0, 'casualty': 0.0, 'authority': 0.0, 'transporting': 0.0, 'material': 0.0, 'images': 0.0, 'shared': 0.0, 'several': 0.0, 'tank': 0.0, 'carriage': 0.0, 'laying': 0.0, 'smoke': 0.0, 'rising': 0.0, 'clear': 0.0, 'responsible': 0.0, 'happened': 0.0, 'le': 0.0, 'mile': 0.0, 'there': 0.0, 'increase': 0.0, 'rail': 0.0, 'month': 0.0, 'since': 0.0, 'vladimir': 0.0, 'putin': 0.0, 'ordered': 0.0, 'full': 0.0, 'scale': 0.0, 'invasion': 0.0, 'arrested': 0.22910001000567795, 'least': 0.0, 'russians': 0.0, 'suspicion': 0.0, 'sabotage': 0.0, 'autumn': 0.0, 'independent': 0.0, 'website': 0.0, 'mediazona': 0.0, 'separately': 0.0, 'leningrad': 0.0, 'near': 0.17609125905568124, 'st': 0.0, 'petersburg': 0.0, 'power': 0.0, 'line': 0.0, 'blown': 0.0, 'overnight': 0.0, 'found': 0.17609125905568124, 'more': 0.0, 'soldier': 0.0, 'five': 0.0, 'us': 0.0, 'say': 0.17609125905568124, 'fighting': 0.0, 'acceleration': 0.0, 'already': 0.0, 'heavy': 0.0, 'loss': 0.0, 'intelligence': 0.0, 'estimate': 0.0, 'most': 0.0, 'brutal': 0.0, 'trench': 0.0, 'warfare': 0.0, 'small': 0.17609125905568124, 'bakhmut': 0.0, 'repeatedly': 0.0, 'brink': 0.0, 'capturing': 0.0, 'white': 0.0, 'house': 0.0, 'national': 0.0, 'security': 0.0, 'spokesperson': 0.17609125905568124, 'john': 0.0, 'kirby': 0.0, 'revealed': 0.0, 'new': 0.0, 'seen': 0.0, 'residential': 0.0, 'area': 0.0, 'amid': 0.0, 'pavlohrod': 0.0, 'attempt': 0.0, 'offensive': 0.0, 'donbas': 0.0, 'largely': 0.0, 'failed': 0.0, 'unable': 0.0, 'seize': 0.0, 'really': 0.0, 'strategically': 0.0, 'even': 0.0, 'bloody': 0.0, 'first': 0.0, 'war': 0.0, 'overshadow': 0.0, 'bloodiest': 0.0, 'allied': 0.0, 'battle': 0.0, 'world': 0.0, 'added': 0.17609125905568124, 'that': 0.0, 'includes': 0.0, 'guadalcanal': 0.0, 'major': 0.0, 'japan': 0.0, 'also': 0.0, 'lasted': 0.0, 'time': 0.17609125905568124, 'united': 0.0, 'states': 0.0, 'faced': 0.0, 'ii': 0.0, 'ap': 0.0, 'quoted': 0.0, 'detail': 0.0, 'calculated': 0.0, 'death': 0.0, 'half': 0.0, 'wagner': 0.0, 'mercenary': 0.0, 'group': 0.0, 'rather': 0.0, 'they': 0.0, 'sent': 0.0, 'without': 0.0, 'proper': 0.0, 'training': 0.0, 'leadership': 0.0, 'founded': 0.0, 'close': 0.0, 'aide': 0.0, 'recruited': 0.0, 'heavily': 0.0, 'prison': 0.0, 'offering': 0.0, 'convict': 0.0, 'survive': 0.0, 'six': 0.0, 'amnesty': 0.0, 'figure': 0.0, 'underline': 0.0, 'deadly': 0.0, 'gamble': 0.0, 'accept': 0.0, 'still': 0.0, 'holding': 0.0, 'corner': 0.0, 'col': 0.0, 'gen': 0.0, 'oleksandr': 0.0, 'syrskyi': 0.0, 'ground': 0.0, 'situation': 0.0, 'quite': 0.0, 'difficult': 0.0, 'counterattacking': 0.0, 'control': 0.0, 'road': 0.0, 'west': 0.17609125905568124, 'serf': 0.0, 'vital': 0.0, 'supply': 0.0, 'finally': 0.0, 'fall': 0.17609125905568124, 'might': 0.0, 'give': 0.0, 'route': 0.0, 'towards': 0.0, 'bigger': 0.0, 'kramatorsk': 0.0, 'but': 0.0, 'bitter': 0.0, 'push': 0.0, 'shelled': 0.0, 'ruin': 0.0, 'provincial': 0.0, 'feel': 0.0, 'symbolic': 0.0, 'this': 0.0, 'attempted': 0.0, 'effort': 0.0, 'particularly': 0.0, 'terribly': 0.0, 'cost': 0.0, 'exhausted': 0.0, 'stockpile': 0.0, 'after': 0.0, 'retreated': 0.0, 'pushed': 0.0, 'southern': 0.0, 'kherson': 0.0, 'away': 0.0, 'kharkiv': 0.0, 'became': 0.0, 'focus': 0.0, 'mounting': 0.0, 'intense': 0.0, 'propaganda': 0.0, 'advance': 0.0, 'given': 0.0, 'political': 0.0, 'impetus': 0.0, 'drive': 0.0, 'in': 0.0, 'november': 0.0, 'estimated': 0.0, 'eight': 0.0, 'similar': 0.0, 'level': 0.0, 'reached': 0.0, 'december': 0.0, 'april': 0.0, 'dead': 0.0, 'declined': 0.0, 'publicly': 0.0, 'sensitive': 0.0, 'information': 0.0, 'undermine': 0.0, 'leaked': 0.0, 'secret': 0.0, 'briefing': 0.0, 'document': 0.17609125905568124, 'toll': 0.0, 'february': 0.0, 'dutch': 0.6207490639591157, 'police': 0.908004682438022, 'arrest': 0.47712125471966244, 'fake': 0.7643768731985688, 'boris': 0.7643768731985688, 'johnson': 0.7643768731985688, 'suspected': 0.47712125471966244, 'drink': 0.6207490639591157, 'driving': 0.7643768731985688, 'man': 0.6207490639591157, 'connection': 0.47712125471966244, 'surprised': 0.47712125471966244, 'find': 0.47712125471966244, 'name': 0.47712125471966244, 'licence': 0.7643768731985688, 'driver': 0.7047659464249274, 'complete': 0.47712125471966244, 'former': 0.6207490639591157, 'british': 0.47712125471966244, 'prime': 0.47712125471966244, 'picture': 0.47712125471966244, 'correct': 0.47712125471966244, 'birthdate': 0.47712125471966244, 'purportedly': 0.47712125471966244, 'issued': 0.47712125471966244, 'valid': 0.47712125471966244, 'end': 0.47712125471966244, 'a': 0.47712125471966244, 'thijs': 0.47712125471966244, 'damstra': 0.7643768731985688, 'officer': 0.47712125471966244, 'investigated': 0.47712125471966244, 'midnight': 0.47712125471966244, 'sunday': 0.47712125471966244, 'car': 0.7047659464249274, 'crashed': 0.47712125471966244, 'pole': 0.47712125471966244, 'emma': 0.47712125471966244, 'bridge': 0.6207490639591157, 'northern': 0.47712125471966244, 'groningen': 0.7047659464249274, 'abandoned': 0.47712125471966244, 'later': 0.47712125471966244, 'told': 0.47712125471966244, 'standing': 0.47712125471966244, 'person': 0.6207490639591157, 'identify': 0.47712125471966244, 'refused': 0.47712125471966244, 'undertake': 0.47712125471966244, 'breathalyser': 0.47712125471966244, 'old': 0.47712125471966244, 'zuidhorn': 0.47712125471966244, 'searched': 0.47712125471966244, 'belonging': 0.47712125471966244, 'instagram': 0.47712125471966244, 'account': 0.47712125471966244, 'unfortunately': 0.47712125471966244, 'forgery': 0.47712125471966244, 'forged': 0.47712125471966244, 'made': 0.47712125471966244, 'kysia': 0.47712125471966244, 'hekster': 0.47712125471966244, 'correspondent': 0.47712125471966244, 'public': 0.47712125471966244, 'broadcaster': 0.47712125471966244, 'nos': 0.6207490639591157, 'tweet': 0.47712125471966244, 'published': 0.47712125471966244, 'easily': 0.47712125471966244, 'bought': 0.47712125471966244, 'tourist': 0.47712125471966244, 'shop': 0.47712125471966244, 'i': 0.47712125471966244, 'aware': 0.47712125471966244, 'real': 0.47712125471966244, 'mr': 0.47712125471966244, 'netherlands': 0.47712125471966244}\n"
          ]
        }
      ]
    },
    {
      "cell_type": "code",
      "source": [
        "freq = {t: [] for t in w_td[0]}\n",
        "for t in freq:\n",
        "    for tf in w_td:\n",
        "        freq[t].append(tf[t])\n",
        "freq"
      ],
      "metadata": {
        "colab": {
          "base_uri": "https://localhost:8080/"
        },
        "id": "Mkpav0Uk9pWr",
        "outputId": "b8d8eff9-7044-4152-dc76-c42f11471a4e"
      },
      "execution_count": 24,
      "outputs": [
        {
          "output_type": "execute_result",
          "data": {
            "text/plain": [
              "{'ukraine': [0.0, 0.0, 0.0],\n",
              " 'ammunition': [0.28210876095567466, 0.17609125905568124, 0.0],\n",
              " 'depot': [0.28210876095567466, 0.17609125905568124, 0.0],\n",
              " 'reportedly': [0.17609125905568124, 0.17609125905568124, 0.0],\n",
              " 'hit': [0.29917376716136573, 0.22910001000567795, 0.0],\n",
              " 'wave': [0.22910001000567795, 0.17609125905568124, 0.0],\n",
              " 'russian': [0.3521825181113625, 0.3521825181113625, 0.0],\n",
              " 'missile': [0.33511751190567135, 0.17609125905568124, 0.0],\n",
              " 'attack': [0.31311689247148966, 0.22910001000567795, 0.0],\n",
              " 'strike': [0.29917376716136573, 0.17609125905568124, 0.0],\n",
              " 'injured': [0.22910001000567795, 0.260108141521493, 0.0],\n",
              " 'civilian': [0.47712125471966244, 0.0, 0.0],\n",
              " 'apparently': [0.6207490639591157, 0.0, 0.0],\n",
              " 'damaged': [0.6207490639591157, 0.0, 0.0],\n",
              " 'railway': [0.7047659464249274, 0.0, 0.0],\n",
              " 'infrastructure': [0.6207490639591157, 0.0, 0.0],\n",
              " 'south': [0.6207490639591157, 0.0, 0.0],\n",
              " 'eastern': [0.17609125905568124, 0.22910001000567795, 0.0],\n",
              " 'hour': [0.6207490639591157, 0.0, 0.0],\n",
              " 'explosion': [0.6207490639591157, 0.0, 0.0],\n",
              " 'inside': [0.17609125905568124, 0.0, 0.17609125905568124],\n",
              " 'russia': [0.0, 0.0, 0.0],\n",
              " 'derailed': [0.7047659464249274, 0.0, 0.0],\n",
              " 'freight': [0.7047659464249274, 0.0, 0.0],\n",
              " 'train': [0.7643768731985688, 0.0, 0.0],\n",
              " 'the': [0.0, 0.0, 0.0],\n",
              " 'side': [0.22910001000567795, 0.17609125905568124, 0.0],\n",
              " 'border': [0.7047659464249274, 0.0, 0.0],\n",
              " 'monday': [0.0, 0.0, 0.0],\n",
              " 'aimed': [0.6207490639591157, 0.0, 0.0],\n",
              " 'disrupt': [0.47712125471966244, 0.0, 0.0],\n",
              " 'military': [0.28210876095567466, 0.31311689247148966, 0.0],\n",
              " 'logistics': [0.47712125471966244, 0.0, 0.0],\n",
              " 'significant': [0.22910001000567795, 0.17609125905568124, 0.0],\n",
              " 'ukrainian': [0.0, 0.0, 0.0],\n",
              " 'counteroffensive': [0.6207490639591157, 0.0, 0.0],\n",
              " 'occupying': [0.47712125471966244, 0.0, 0.0],\n",
              " 'troop': [0.260108141521493, 0.260108141521493, 0.0],\n",
              " 'expected': [0.47712125471966244, 0.0, 0.0],\n",
              " 'start': [0.47712125471966244, 0.0, 0.0],\n",
              " 'shortly': [0.17609125905568124, 0.0, 0.17609125905568124],\n",
              " 'east': [0.47712125471966244, 0.0, 0.0],\n",
              " 'city': [0.0, 0.0, 0.0],\n",
              " 'pavlohrad': [0.7047659464249274, 0.0, 0.0],\n",
              " 'part': [0.47712125471966244, 0.0, 0.0],\n",
              " 'second': [0.22910001000567795, 0.17609125905568124, 0.0],\n",
              " 'three': [0.17609125905568124, 0.17609125905568124, 0.0],\n",
              " 'day': [0.22910001000567795, 0.17609125905568124, 0.0],\n",
              " 'friday': [0.6207490639591157, 0.0, 0.0],\n",
              " 'people': [0.17609125905568124, 0.17609125905568124, 0.0],\n",
              " 'killed': [0.22910001000567795, 0.29917376716136573, 0.0],\n",
              " 'apartment': [0.6207490639591157, 0.0, 0.0],\n",
              " 'block': [0.47712125471966244, 0.0, 0.0],\n",
              " 'central': [0.47712125471966244, 0.0, 0.0],\n",
              " 'uman': [0.6207490639591157, 0.0, 0.0],\n",
              " 'woman': [0.6207490639591157, 0.0, 0.0],\n",
              " 'daughter': [0.47712125471966244, 0.0, 0.0],\n",
              " 'died': [0.47712125471966244, 0.0, 0.0],\n",
              " 'dnipro': [0.6207490639591157, 0.0, 0.0],\n",
              " 'with': [0.47712125471966244, 0.0, 0.0],\n",
              " 'kyiv': [0.28210876095567466, 0.17609125905568124, 0.0],\n",
              " 'ally': [0.22910001000567795, 0.17609125905568124, 0.0],\n",
              " 'saying': [0.17609125905568124, 0.22910001000567795, 0.0],\n",
              " 'equipment': [0.6207490639591157, 0.0, 0.0],\n",
              " 'newly': [0.47712125471966244, 0.0, 0.0],\n",
              " 'trained': [0.47712125471966244, 0.0, 0.0],\n",
              " 'promised': [0.47712125471966244, 0.0, 0.0],\n",
              " 'next': [0.47712125471966244, 0.0, 0.0],\n",
              " 'campaign': [0.22910001000567795, 0.260108141521493, 0.0],\n",
              " 'place': [0.47712125471966244, 0.0, 0.0],\n",
              " 'moscow': [0.22910001000567795, 0.22910001000567795, 0.0],\n",
              " 'revived': [0.47712125471966244, 0.0, 0.0],\n",
              " 'winter': [0.47712125471966244, 0.0, 0.0],\n",
              " 'tactic': [0.47712125471966244, 0.0, 0.0],\n",
              " 'attempting': [0.47712125471966244, 0.0, 0.0],\n",
              " 'orchestrate': [0.47712125471966244, 0.0, 0.0],\n",
              " 'bombing': [0.47712125471966244, 0.0, 0.0],\n",
              " 'far': [0.17609125905568124, 0.0, 0.17609125905568124],\n",
              " 'behind': [0.47712125471966244, 0.0, 0.0],\n",
              " 'frontlines': [0.17609125905568124, 0.17609125905568124, 0.0],\n",
              " 'it': [0.260108141521493, 0.22910001000567795, 0.0],\n",
              " 'launched': [0.47712125471966244, 0.0, 0.0],\n",
              " 'cruise': [0.47712125471966244, 0.0, 0.0],\n",
              " 'early': [0.47712125471966244, 0.0, 0.0],\n",
              " 'morning': [0.47712125471966244, 0.0, 0.0],\n",
              " 'although': [0.6207490639591157, 0.0, 0.0],\n",
              " 'intercepted': [0.47712125471966244, 0.0, 0.0],\n",
              " 'air': [0.7047659464249274, 0.0, 0.0],\n",
              " 'defence': [0.7643768731985688, 0.0, 0.0],\n",
              " 'including': [0.17609125905568124, 0.17609125905568124, 0.0],\n",
              " 'one': [0.7643768731985688, 0.0, 0.0],\n",
              " 'support': [0.47712125471966244, 0.0, 0.0],\n",
              " 'western': [0.47712125471966244, 0.0, 0.0],\n",
              " 'helped': [0.47712125471966244, 0.0, 0.0],\n",
              " 'improve': [0.47712125471966244, 0.0, 0.0],\n",
              " 'protection': [0.47712125471966244, 0.0, 0.0],\n",
              " 'main': [0.47712125471966244, 0.0, 0.0],\n",
              " 'site': [0.17609125905568124, 0.17609125905568124, 0.0],\n",
              " 'at': [0.47712125471966244, 0.0, 0.0],\n",
              " 'video': [0.47712125471966244, 0.0, 0.0],\n",
              " 'posted': [0.47712125471966244, 0.0, 0.0],\n",
              " 'social': [0.7047659464249274, 0.0, 0.0],\n",
              " 'medium': [0.7643768731985688, 0.0, 0.0],\n",
              " 'showed': [0.6207490639591157, 0.0, 0.0],\n",
              " 'caused': [0.47712125471966244, 0.0, 0.0],\n",
              " 'blaze': [0.47712125471966244, 0.0, 0.0],\n",
              " 'secondary': [0.47712125471966244, 0.0, 0.0],\n",
              " 'detonation': [0.47712125471966244, 0.0, 0.0],\n",
              " 'among': [0.47712125471966244, 0.0, 0.0],\n",
              " 'building': [0.7047659464249274, 0.0, 0.0],\n",
              " 'destroyed': [0.47712125471966244, 0.0, 0.0],\n",
              " 'industrial': [0.47712125471966244, 0.0, 0.0],\n",
              " 'zone': [0.47712125471966244, 0.0, 0.0],\n",
              " 'home': [0.6207490639591157, 0.0, 0.0],\n",
              " 'according': [0.6207490639591157, 0.0, 0.0],\n",
              " 'mykola': [0.47712125471966244, 0.0, 0.0],\n",
              " 'lukashuk': [0.47712125471966244, 0.0, 0.0],\n",
              " 'head': [0.47712125471966244, 0.0, 0.0],\n",
              " 'regional': [0.47712125471966244, 0.0, 0.0],\n",
              " 'council': [0.17609125905568124, 0.17609125905568124, 0.0],\n",
              " 'two': [0.22910001000567795, 0.17609125905568124, 0.0],\n",
              " 'seriously': [0.47712125471966244, 0.0, 0.0],\n",
              " 'official': [0.28210876095567466, 0.22910001000567795, 0.0],\n",
              " 'tass': [0.47712125471966244, 0.0, 0.0],\n",
              " 'state': [0.47712125471966244, 0.0, 0.0],\n",
              " 'news': [0.47712125471966244, 0.0, 0.0],\n",
              " 'agency': [0.47712125471966244, 0.0, 0.0],\n",
              " 'claimed': [0.17609125905568124, 0.17609125905568124, 0.0],\n",
              " 'hampering': [0.47712125471966244, 0.0, 0.0],\n",
              " 'preparation': [0.47712125471966244, 0.0, 0.0],\n",
              " 'objective': [0.47712125471966244, 0.0, 0.0],\n",
              " 'achieved': [0.47712125471966244, 0.0, 0.0],\n",
              " 'ministry': [0.47712125471966244, 0.0, 0.0],\n",
              " 'said': [0.0, 0.0, 0.0],\n",
              " 'statement': [0.47712125471966244, 0.0, 0.0],\n",
              " 'work': [0.47712125471966244, 0.0, 0.0],\n",
              " 'enterprise': [0.47712125471966244, 0.0, 0.0],\n",
              " 'making': [0.17609125905568124, 0.17609125905568124, 0.0],\n",
              " 'weapon': [0.47712125471966244, 0.0, 0.0],\n",
              " 'disrupted': [0.47712125471966244, 0.0, 0.0],\n",
              " 'source': [0.47712125471966244, 0.0, 0.0],\n",
              " 'location': [0.47712125471966244, 0.0, 0.0],\n",
              " 'plant': [0.47712125471966244, 0.0, 0.0],\n",
              " 'produced': [0.47712125471966244, 0.0, 0.0],\n",
              " 'solid': [0.6207490639591157, 0.0, 0.0],\n",
              " 'fuel': [0.7047659464249274, 0.0, 0.0],\n",
              " 'soviet': [0.47712125471966244, 0.0, 0.0],\n",
              " 'era': [0.47712125471966244, 0.0, 0.0],\n",
              " 'rocket': [0.47712125471966244, 0.0, 0.0],\n",
              " 'motor': [0.6207490639591157, 0.0, 0.0],\n",
              " 'number': [0.17609125905568124, 0.17609125905568124, 0.0],\n",
              " 'expired': [0.47712125471966244, 0.0, 0.0],\n",
              " 'awaiting': [0.47712125471966244, 0.0, 0.0],\n",
              " 'decommissioning': [0.47712125471966244, 0.0, 0.0],\n",
              " 'claim': [0.47712125471966244, 0.0, 0.0],\n",
              " 'could': [0.0, 0.0, 0.0],\n",
              " 'immediately': [0.6207490639591157, 0.0, 0.0],\n",
              " 'verified': [0.47712125471966244, 0.0, 0.0],\n",
              " 'local': [0.7047659464249274, 0.0, 0.0],\n",
              " 'resident': [0.47712125471966244, 0.0, 0.0],\n",
              " 'carry': [0.47712125471966244, 0.0, 0.0],\n",
              " 'casket': [0.47712125471966244, 0.0, 0.0],\n",
              " 'child': [0.47712125471966244, 0.0, 0.0],\n",
              " 'town': [0.0, 0.0, 0.0],\n",
              " 'when': [0.47712125471966244, 0.0, 0.0],\n",
              " 'target': [0.47712125471966244, 0.0, 0.0],\n",
              " 'ordinary': [0.47712125471966244, 0.0, 0.0],\n",
              " 'mean': [0.47712125471966244, 0.0, 0.0],\n",
              " 'safe': [0.47712125471966244, 0.0, 0.0],\n",
              " 'read': [0.17609125905568124, 0.17609125905568124, 0.0],\n",
              " 'size': [0.47712125471966244, 0.0, 0.0],\n",
              " 'fire': [0.47712125471966244, 0.0, 0.0],\n",
              " 'suggests': [0.47712125471966244, 0.0, 0.0],\n",
              " 'may': [0.6207490639591157, 0.0, 0.0],\n",
              " 'important': [0.47712125471966244, 0.0, 0.0],\n",
              " 'arm': [0.47712125471966244, 0.0, 0.0],\n",
              " 'incident': [0.22910001000567795, 0.0, 0.22910001000567795],\n",
              " 'come': [0.17609125905568124, 0.17609125905568124, 0.0],\n",
              " 'recent': [0.6207490639591157, 0.0, 0.0],\n",
              " 'oil': [0.47712125471966244, 0.0, 0.0],\n",
              " 'storage': [0.47712125471966244, 0.0, 0.0],\n",
              " 'facility': [0.47712125471966244, 0.0, 0.0],\n",
              " 'sevastopol': [0.47712125471966244, 0.0, 0.0],\n",
              " 'crimea': [0.47712125471966244, 0.0, 0.0],\n",
              " 'around': [0.47712125471966244, 0.0, 0.0],\n",
              " 'invader': [0.47712125471966244, 0.0, 0.0],\n",
              " 'attacked': [0.47712125471966244, 0.0, 0.0],\n",
              " 'strategic': [0.17609125905568124, 0.17609125905568124, 0.0],\n",
              " 'aviation': [0.47712125471966244, 0.0, 0.0],\n",
              " 'plane': [0.47712125471966244, 0.0, 0.0],\n",
              " 'post': [0.6207490639591157, 0.0, 0.0],\n",
              " 'telegram': [0.6207490639591157, 0.0, 0.0],\n",
              " 'channel': [0.47712125471966244, 0.0, 0.0],\n",
              " 'valerii': [0.47712125471966244, 0.0, 0.0],\n",
              " 'zaluzhnyi': [0.47712125471966244, 0.0, 0.0],\n",
              " 'commander': [0.22910001000567795, 0.17609125905568124, 0.0],\n",
              " 'chief': [0.47712125471966244, 0.0, 0.0],\n",
              " 'armed': [0.17609125905568124, 0.17609125905568124, 0.0],\n",
              " 'force': [0.17609125905568124, 0.28210876095567466, 0.0],\n",
              " 'system': [0.47712125471966244, 0.0, 0.0],\n",
              " 'called': [0.47712125471966244, 0.0, 0.0],\n",
              " 'action': [0.17609125905568124, 0.17609125905568124, 0.0],\n",
              " 'shield': [0.47712125471966244, 0.0, 0.0],\n",
              " 'region': [0.7643768731985688, 0.0, 0.0],\n",
              " 'reported': [0.6207490639591157, 0.0, 0.0],\n",
              " 'blast': [0.47712125471966244, 0.0, 0.0],\n",
              " 'dnipropetrovsk': [0.47712125471966244, 0.0, 0.0],\n",
              " 'sumy': [0.47712125471966244, 0.0, 0.0],\n",
              " 'senior': [0.47712125471966244, 0.0, 0.0],\n",
              " 'suggested': [0.47712125471966244, 0.0, 0.0],\n",
              " 'imminent': [0.47712125471966244, 0.0, 0.0],\n",
              " 'critical': [0.47712125471966244, 0.0, 0.0],\n",
              " 'test': [0.17609125905568124, 0.0, 0.17609125905568124],\n",
              " 'whether': [0.47712125471966244, 0.0, 0.0],\n",
              " 'dislodged': [0.47712125471966244, 0.0, 0.0],\n",
              " 'land': [0.47712125471966244, 0.0, 0.0],\n",
              " 'seized': [0.47712125471966244, 0.0, 0.0],\n",
              " 'last': [0.22910001000567795, 0.17609125905568124, 0.0],\n",
              " 'year': [0.17609125905568124, 0.0, 0.22910001000567795],\n",
              " 'nearly': [0.47712125471966244, 0.0, 0.0],\n",
              " 'fifth': [0.47712125471966244, 0.0, 0.0],\n",
              " 'territory': [0.17609125905568124, 0.17609125905568124, 0.0],\n",
              " 'if': [0.17609125905568124, 0.17609125905568124, 0.0],\n",
              " 'global': [0.47712125471966244, 0.0, 0.0],\n",
              " 'sense': [0.47712125471966244, 0.0, 0.0],\n",
              " 'high': [0.17609125905568124, 0.17609125905568124, 0.0],\n",
              " 'percentage': [0.47712125471966244, 0.0, 0.0],\n",
              " 'mode': [0.47712125471966244, 0.0, 0.0],\n",
              " 'ready': [0.47712125471966244, 0.0, 0.0],\n",
              " 'minister': [0.17609125905568124, 0.0, 0.17609125905568124],\n",
              " 'oleksii': [0.47712125471966244, 0.0, 0.0],\n",
              " 'reznikov': [0.47712125471966244, 0.0, 0.0],\n",
              " 'press': [0.47712125471966244, 0.0, 0.0],\n",
              " 'conference': [0.47712125471966244, 0.0, 0.0],\n",
              " 'then': [0.47712125471966244, 0.0, 0.0],\n",
              " 'question': [0.47712125471966244, 0.0, 0.0],\n",
              " 'launch': [0.47712125471966244, 0.0, 0.0],\n",
              " 'general': [0.47712125471966244, 0.0, 0.0],\n",
              " 'staff': [0.47712125471966244, 0.0, 0.0],\n",
              " 'command': [0.47712125471966244, 0.0, 0.0],\n",
              " 'as': [0.17609125905568124, 0.0, 0.17609125905568124],\n",
              " 'soon': [0.47712125471966244, 0.0, 0.0],\n",
              " 'god': [0.47712125471966244, 0.0, 0.0],\n",
              " 'weather': [0.47712125471966244, 0.0, 0.0],\n",
              " 'decision': [0.47712125471966244, 0.0, 0.0],\n",
              " 'on': [0.47712125471966244, 0.0, 0.0],\n",
              " 'bryansk': [0.47712125471966244, 0.0, 0.0],\n",
              " 'governor': [0.6207490639591157, 0.0, 0.0],\n",
              " 'an': [0.47712125471966244, 0.0, 0.0],\n",
              " 'unidentified': [0.47712125471966244, 0.0, 0.0],\n",
              " 'explosive': [0.6207490639591157, 0.0, 0.0],\n",
              " 'device': [0.6207490639591157, 0.0, 0.0],\n",
              " 'went': [0.47712125471966244, 0.0, 0.0],\n",
              " 'result': [0.47712125471966244, 0.0, 0.0],\n",
              " 'locomotive': [0.47712125471966244, 0.0, 0.0],\n",
              " 'alexander': [0.47712125471966244, 0.0, 0.0],\n",
              " 'bogomaz': [0.47712125471966244, 0.0, 0.0],\n",
              " 'adding': [0.47712125471966244, 0.0, 0.0],\n",
              " 'casualty': [0.17609125905568124, 0.260108141521493, 0.0],\n",
              " 'authority': [0.6207490639591157, 0.0, 0.0],\n",
              " 'transporting': [0.47712125471966244, 0.0, 0.0],\n",
              " 'material': [0.47712125471966244, 0.0, 0.0],\n",
              " 'images': [0.47712125471966244, 0.0, 0.0],\n",
              " 'shared': [0.47712125471966244, 0.0, 0.0],\n",
              " 'several': [0.47712125471966244, 0.0, 0.0],\n",
              " 'tank': [0.47712125471966244, 0.0, 0.0],\n",
              " 'carriage': [0.47712125471966244, 0.0, 0.0],\n",
              " 'laying': [0.47712125471966244, 0.0, 0.0],\n",
              " 'smoke': [0.47712125471966244, 0.0, 0.0],\n",
              " 'rising': [0.47712125471966244, 0.0, 0.0],\n",
              " 'clear': [0.47712125471966244, 0.0, 0.0],\n",
              " 'responsible': [0.47712125471966244, 0.0, 0.0],\n",
              " 'happened': [0.47712125471966244, 0.0, 0.0],\n",
              " 'le': [0.47712125471966244, 0.0, 0.0],\n",
              " 'mile': [0.47712125471966244, 0.0, 0.0],\n",
              " 'there': [0.47712125471966244, 0.0, 0.0],\n",
              " 'increase': [0.47712125471966244, 0.0, 0.0],\n",
              " 'rail': [0.47712125471966244, 0.0, 0.0],\n",
              " 'month': [0.17609125905568124, 0.31311689247148966, 0.0],\n",
              " 'since': [0.6207490639591157, 0.0, 0.0],\n",
              " 'vladimir': [0.47712125471966244, 0.0, 0.0],\n",
              " 'putin': [0.17609125905568124, 0.22910001000567795, 0.0],\n",
              " 'ordered': [0.47712125471966244, 0.0, 0.0],\n",
              " 'full': [0.47712125471966244, 0.0, 0.0],\n",
              " 'scale': [0.47712125471966244, 0.0, 0.0],\n",
              " 'invasion': [0.47712125471966244, 0.0, 0.0],\n",
              " 'arrested': [0.17609125905568124, 0.0, 0.22910001000567795],\n",
              " 'least': [0.47712125471966244, 0.0, 0.0],\n",
              " 'russians': [0.17609125905568124, 0.17609125905568124, 0.0],\n",
              " 'suspicion': [0.47712125471966244, 0.0, 0.0],\n",
              " 'sabotage': [0.47712125471966244, 0.0, 0.0],\n",
              " 'autumn': [0.47712125471966244, 0.0, 0.0],\n",
              " 'independent': [0.47712125471966244, 0.0, 0.0],\n",
              " 'website': [0.47712125471966244, 0.0, 0.0],\n",
              " 'mediazona': [0.47712125471966244, 0.0, 0.0],\n",
              " 'separately': [0.47712125471966244, 0.0, 0.0],\n",
              " 'leningrad': [0.47712125471966244, 0.0, 0.0],\n",
              " 'near': [0.22910001000567795, 0.0, 0.17609125905568124],\n",
              " 'st': [0.47712125471966244, 0.0, 0.0],\n",
              " 'petersburg': [0.47712125471966244, 0.0, 0.0],\n",
              " 'power': [0.47712125471966244, 0.0, 0.0],\n",
              " 'line': [0.22910001000567795, 0.17609125905568124, 0.0],\n",
              " 'blown': [0.47712125471966244, 0.0, 0.0],\n",
              " 'overnight': [0.47712125471966244, 0.0, 0.0],\n",
              " 'found': [0.17609125905568124, 0.0, 0.17609125905568124],\n",
              " 'more': [0.0, 0.6207490639591157, 0.0],\n",
              " 'soldier': [0.0, 0.6207490639591157, 0.0],\n",
              " 'five': [0.0, 0.7047659464249274, 0.0],\n",
              " 'us': [0.0, 0.8483937556643806, 0.0],\n",
              " 'say': [0.0, 0.17609125905568124, 0.17609125905568124],\n",
              " 'fighting': [0.0, 0.7643768731985688, 0.0],\n",
              " 'acceleration': [0.0, 0.6207490639591157, 0.0],\n",
              " 'already': [0.0, 0.47712125471966244, 0.0],\n",
              " 'heavy': [0.0, 0.6207490639591157, 0.0],\n",
              " 'loss': [0.0, 0.7643768731985688, 0.0],\n",
              " 'intelligence': [0.0, 0.47712125471966244, 0.0],\n",
              " 'estimate': [0.0, 0.7047659464249274, 0.0],\n",
              " 'most': [0.0, 0.47712125471966244, 0.0],\n",
              " 'brutal': [0.0, 0.47712125471966244, 0.0],\n",
              " 'trench': [0.0, 0.47712125471966244, 0.0],\n",
              " 'warfare': [0.0, 0.47712125471966244, 0.0],\n",
              " 'small': [0.0, 0.17609125905568124, 0.17609125905568124],\n",
              " 'bakhmut': [0.0, 0.8483937556643806, 0.0],\n",
              " 'repeatedly': [0.0, 0.47712125471966244, 0.0],\n",
              " 'brink': [0.0, 0.47712125471966244, 0.0],\n",
              " 'capturing': [0.0, 0.47712125471966244, 0.0],\n",
              " 'white': [0.0, 0.47712125471966244, 0.0],\n",
              " 'house': [0.0, 0.47712125471966244, 0.0],\n",
              " 'national': [0.0, 0.47712125471966244, 0.0],\n",
              " 'security': [0.0, 0.47712125471966244, 0.0],\n",
              " 'spokesperson': [0.0, 0.17609125905568124, 0.17609125905568124],\n",
              " 'john': [0.0, 0.47712125471966244, 0.0],\n",
              " 'kirby': [0.0, 0.8483937556643806, 0.0],\n",
              " 'revealed': [0.0, 0.47712125471966244, 0.0],\n",
              " 'new': [0.0, 0.47712125471966244, 0.0],\n",
              " 'seen': [0.0, 0.47712125471966244, 0.0],\n",
              " 'residential': [0.0, 0.47712125471966244, 0.0],\n",
              " 'area': [0.0, 0.47712125471966244, 0.0],\n",
              " 'amid': [0.0, 0.47712125471966244, 0.0],\n",
              " 'pavlohrod': [0.0, 0.47712125471966244, 0.0],\n",
              " 'attempt': [0.0, 0.47712125471966244, 0.0],\n",
              " 'offensive': [0.0, 0.6207490639591157, 0.0],\n",
              " 'donbas': [0.0, 0.47712125471966244, 0.0],\n",
              " 'largely': [0.0, 0.47712125471966244, 0.0],\n",
              " 'failed': [0.0, 0.47712125471966244, 0.0],\n",
              " 'unable': [0.0, 0.47712125471966244, 0.0],\n",
              " 'seize': [0.0, 0.6207490639591157, 0.0],\n",
              " 'really': [0.0, 0.47712125471966244, 0.0],\n",
              " 'strategically': [0.0, 0.47712125471966244, 0.0],\n",
              " 'even': [0.0, 0.47712125471966244, 0.0],\n",
              " 'bloody': [0.0, 0.6207490639591157, 0.0],\n",
              " 'first': [0.0, 0.7047659464249274, 0.0],\n",
              " 'war': [0.0, 0.7643768731985688, 0.0],\n",
              " 'overshadow': [0.0, 0.47712125471966244, 0.0],\n",
              " 'bloodiest': [0.0, 0.47712125471966244, 0.0],\n",
              " 'allied': [0.0, 0.6207490639591157, 0.0],\n",
              " 'battle': [0.0, 0.6207490639591157, 0.0],\n",
              " 'world': [0.0, 0.6207490639591157, 0.0],\n",
              " 'added': [0.0, 0.22910001000567795, 0.17609125905568124],\n",
              " 'that': [0.0, 0.47712125471966244, 0.0],\n",
              " 'includes': [0.0, 0.47712125471966244, 0.0],\n",
              " 'guadalcanal': [0.0, 0.6207490639591157, 0.0],\n",
              " 'major': [0.0, 0.47712125471966244, 0.0],\n",
              " 'japan': [0.0, 0.47712125471966244, 0.0],\n",
              " 'also': [0.0, 0.47712125471966244, 0.0],\n",
              " 'lasted': [0.0, 0.47712125471966244, 0.0],\n",
              " 'time': [0.0, 0.17609125905568124, 0.17609125905568124],\n",
              " 'united': [0.0, 0.47712125471966244, 0.0],\n",
              " 'states': [0.0, 0.47712125471966244, 0.0],\n",
              " 'faced': [0.0, 0.47712125471966244, 0.0],\n",
              " 'ii': [0.0, 0.47712125471966244, 0.0],\n",
              " 'ap': [0.0, 0.47712125471966244, 0.0],\n",
              " 'quoted': [0.0, 0.47712125471966244, 0.0],\n",
              " 'detail': [0.0, 0.47712125471966244, 0.0],\n",
              " 'calculated': [0.0, 0.47712125471966244, 0.0],\n",
              " 'death': [0.0, 0.47712125471966244, 0.0],\n",
              " 'half': [0.0, 0.47712125471966244, 0.0],\n",
              " 'wagner': [0.0, 0.47712125471966244, 0.0],\n",
              " 'mercenary': [0.0, 0.47712125471966244, 0.0],\n",
              " 'group': [0.0, 0.6207490639591157, 0.0],\n",
              " 'rather': [0.0, 0.47712125471966244, 0.0],\n",
              " 'they': [0.0, 0.47712125471966244, 0.0],\n",
              " 'sent': [0.0, 0.47712125471966244, 0.0],\n",
              " 'without': [0.0, 0.47712125471966244, 0.0],\n",
              " 'proper': [0.0, 0.47712125471966244, 0.0],\n",
              " 'training': [0.0, 0.47712125471966244, 0.0],\n",
              " 'leadership': [0.0, 0.47712125471966244, 0.0],\n",
              " 'founded': [0.0, 0.47712125471966244, 0.0],\n",
              " 'close': [0.0, 0.47712125471966244, 0.0],\n",
              " 'aide': [0.0, 0.47712125471966244, 0.0],\n",
              " 'recruited': [0.0, 0.47712125471966244, 0.0],\n",
              " 'heavily': [0.0, 0.47712125471966244, 0.0],\n",
              " 'prison': [0.0, 0.47712125471966244, 0.0],\n",
              " 'offering': [0.0, 0.47712125471966244, 0.0],\n",
              " 'convict': [0.0, 0.47712125471966244, 0.0],\n",
              " 'survive': [0.0, 0.47712125471966244, 0.0],\n",
              " 'six': [0.0, 0.47712125471966244, 0.0],\n",
              " 'amnesty': [0.0, 0.47712125471966244, 0.0],\n",
              " 'figure': [0.0, 0.47712125471966244, 0.0],\n",
              " 'underline': [0.0, 0.47712125471966244, 0.0],\n",
              " 'deadly': [0.0, 0.47712125471966244, 0.0],\n",
              " 'gamble': [0.0, 0.47712125471966244, 0.0],\n",
              " 'accept': [0.0, 0.47712125471966244, 0.0],\n",
              " 'still': [0.0, 0.6207490639591157, 0.0],\n",
              " 'holding': [0.0, 0.47712125471966244, 0.0],\n",
              " 'corner': [0.0, 0.47712125471966244, 0.0],\n",
              " 'col': [0.0, 0.47712125471966244, 0.0],\n",
              " 'gen': [0.0, 0.47712125471966244, 0.0],\n",
              " 'oleksandr': [0.0, 0.47712125471966244, 0.0],\n",
              " 'syrskyi': [0.0, 0.47712125471966244, 0.0],\n",
              " 'ground': [0.0, 0.6207490639591157, 0.0],\n",
              " 'situation': [0.0, 0.47712125471966244, 0.0],\n",
              " 'quite': [0.0, 0.47712125471966244, 0.0],\n",
              " 'difficult': [0.0, 0.47712125471966244, 0.0],\n",
              " 'counterattacking': [0.0, 0.47712125471966244, 0.0],\n",
              " 'control': [0.0, 0.47712125471966244, 0.0],\n",
              " 'road': [0.0, 0.47712125471966244, 0.0],\n",
              " 'west': [0.0, 0.22910001000567795, 0.17609125905568124],\n",
              " 'serf': [0.0, 0.47712125471966244, 0.0],\n",
              " 'vital': [0.0, 0.47712125471966244, 0.0],\n",
              " 'supply': [0.0, 0.47712125471966244, 0.0],\n",
              " 'finally': [0.0, 0.47712125471966244, 0.0],\n",
              " 'fall': [0.0, 0.17609125905568124, 0.17609125905568124],\n",
              " 'might': [0.0, 0.47712125471966244, 0.0],\n",
              " 'give': [0.0, 0.47712125471966244, 0.0],\n",
              " 'route': [0.0, 0.47712125471966244, 0.0],\n",
              " 'towards': [0.0, 0.47712125471966244, 0.0],\n",
              " 'bigger': [0.0, 0.47712125471966244, 0.0],\n",
              " 'kramatorsk': [0.0, 0.47712125471966244, 0.0],\n",
              " 'but': [0.0, 0.47712125471966244, 0.0],\n",
              " 'bitter': [0.0, 0.47712125471966244, 0.0],\n",
              " 'push': [0.0, 0.47712125471966244, 0.0],\n",
              " 'shelled': [0.0, 0.47712125471966244, 0.0],\n",
              " 'ruin': [0.0, 0.47712125471966244, 0.0],\n",
              " 'provincial': [0.0, 0.47712125471966244, 0.0],\n",
              " 'feel': [0.0, 0.47712125471966244, 0.0],\n",
              " 'symbolic': [0.0, 0.47712125471966244, 0.0],\n",
              " 'this': [0.0, 0.47712125471966244, 0.0],\n",
              " 'attempted': [0.0, 0.47712125471966244, 0.0],\n",
              " 'effort': [0.0, 0.6207490639591157, 0.0],\n",
              " 'particularly': [0.0, 0.47712125471966244, 0.0],\n",
              " 'terribly': [0.0, 0.6207490639591157, 0.0],\n",
              " 'cost': [0.0, 0.47712125471966244, 0.0],\n",
              " 'exhausted': [0.0, 0.47712125471966244, 0.0],\n",
              " 'stockpile': [0.0, 0.47712125471966244, 0.0],\n",
              " 'after': [0.0, 0.47712125471966244, 0.0],\n",
              " 'retreated': [0.0, 0.47712125471966244, 0.0],\n",
              " 'pushed': [0.0, 0.47712125471966244, 0.0],\n",
              " 'southern': [0.0, 0.47712125471966244, 0.0],\n",
              " 'kherson': [0.0, 0.47712125471966244, 0.0],\n",
              " 'away': [0.0, 0.47712125471966244, 0.0],\n",
              " 'kharkiv': [0.0, 0.47712125471966244, 0.0],\n",
              " 'became': [0.0, 0.47712125471966244, 0.0],\n",
              " 'focus': [0.0, 0.47712125471966244, 0.0],\n",
              " 'mounting': [0.0, 0.47712125471966244, 0.0],\n",
              " 'intense': [0.0, 0.47712125471966244, 0.0],\n",
              " 'propaganda': [0.0, 0.47712125471966244, 0.0],\n",
              " 'advance': [0.0, 0.47712125471966244, 0.0],\n",
              " 'given': [0.0, 0.47712125471966244, 0.0],\n",
              " 'political': [0.0, 0.47712125471966244, 0.0],\n",
              " 'impetus': [0.0, 0.47712125471966244, 0.0],\n",
              " 'drive': [0.0, 0.47712125471966244, 0.0],\n",
              " 'in': [0.0, 0.47712125471966244, 0.0],\n",
              " 'november': [0.0, 0.47712125471966244, 0.0],\n",
              " 'estimated': [0.0, 0.6207490639591157, 0.0],\n",
              " 'eight': [0.0, 0.47712125471966244, 0.0],\n",
              " 'similar': [0.0, 0.47712125471966244, 0.0],\n",
              " 'level': [0.0, 0.47712125471966244, 0.0],\n",
              " 'reached': [0.0, 0.6207490639591157, 0.0],\n",
              " 'december': [0.0, 0.47712125471966244, 0.0],\n",
              " 'april': [0.0, 0.47712125471966244, 0.0],\n",
              " 'dead': [0.0, 0.47712125471966244, 0.0],\n",
              " 'declined': [0.0, 0.47712125471966244, 0.0],\n",
              " 'publicly': [0.0, 0.47712125471966244, 0.0],\n",
              " 'sensitive': [0.0, 0.47712125471966244, 0.0],\n",
              " 'information': [0.0, 0.47712125471966244, 0.0],\n",
              " 'undermine': [0.0, 0.47712125471966244, 0.0],\n",
              " 'leaked': [0.0, 0.47712125471966244, 0.0],\n",
              " 'secret': [0.0, 0.47712125471966244, 0.0],\n",
              " 'briefing': [0.0, 0.47712125471966244, 0.0],\n",
              " 'document': [0.0, 0.17609125905568124, 0.17609125905568124],\n",
              " 'toll': [0.0, 0.47712125471966244, 0.0],\n",
              " 'february': [0.0, 0.47712125471966244, 0.0],\n",
              " 'dutch': [0.0, 0.0, 0.6207490639591157],\n",
              " 'police': [0.0, 0.0, 0.908004682438022],\n",
              " 'arrest': [0.0, 0.0, 0.47712125471966244],\n",
              " 'fake': [0.0, 0.0, 0.7643768731985688],\n",
              " 'boris': [0.0, 0.0, 0.7643768731985688],\n",
              " 'johnson': [0.0, 0.0, 0.7643768731985688],\n",
              " 'suspected': [0.0, 0.0, 0.47712125471966244],\n",
              " 'drink': [0.0, 0.0, 0.6207490639591157],\n",
              " 'driving': [0.0, 0.0, 0.7643768731985688],\n",
              " 'man': [0.0, 0.0, 0.6207490639591157],\n",
              " 'connection': [0.0, 0.0, 0.47712125471966244],\n",
              " 'surprised': [0.0, 0.0, 0.47712125471966244],\n",
              " 'find': [0.0, 0.0, 0.47712125471966244],\n",
              " 'name': [0.0, 0.0, 0.47712125471966244],\n",
              " 'licence': [0.0, 0.0, 0.7643768731985688],\n",
              " 'driver': [0.0, 0.0, 0.7047659464249274],\n",
              " 'complete': [0.0, 0.0, 0.47712125471966244],\n",
              " 'former': [0.0, 0.0, 0.6207490639591157],\n",
              " 'british': [0.0, 0.0, 0.47712125471966244],\n",
              " 'prime': [0.0, 0.0, 0.47712125471966244],\n",
              " 'picture': [0.0, 0.0, 0.47712125471966244],\n",
              " 'correct': [0.0, 0.0, 0.47712125471966244],\n",
              " 'birthdate': [0.0, 0.0, 0.47712125471966244],\n",
              " 'purportedly': [0.0, 0.0, 0.47712125471966244],\n",
              " 'issued': [0.0, 0.0, 0.47712125471966244],\n",
              " 'valid': [0.0, 0.0, 0.47712125471966244],\n",
              " 'end': [0.0, 0.0, 0.47712125471966244],\n",
              " 'a': [0.0, 0.0, 0.47712125471966244],\n",
              " 'thijs': [0.0, 0.0, 0.47712125471966244],\n",
              " 'damstra': [0.0, 0.0, 0.7643768731985688],\n",
              " 'officer': [0.0, 0.0, 0.47712125471966244],\n",
              " 'investigated': [0.0, 0.0, 0.47712125471966244],\n",
              " 'midnight': [0.0, 0.0, 0.47712125471966244],\n",
              " 'sunday': [0.0, 0.0, 0.47712125471966244],\n",
              " 'car': [0.0, 0.0, 0.7047659464249274],\n",
              " 'crashed': [0.0, 0.0, 0.47712125471966244],\n",
              " 'pole': [0.0, 0.0, 0.47712125471966244],\n",
              " 'emma': [0.0, 0.0, 0.47712125471966244],\n",
              " 'bridge': [0.0, 0.0, 0.6207490639591157],\n",
              " 'northern': [0.0, 0.0, 0.47712125471966244],\n",
              " 'groningen': [0.0, 0.0, 0.7047659464249274],\n",
              " 'abandoned': [0.0, 0.0, 0.47712125471966244],\n",
              " 'later': [0.0, 0.0, 0.47712125471966244],\n",
              " 'told': [0.0, 0.0, 0.47712125471966244],\n",
              " 'standing': [0.0, 0.0, 0.47712125471966244],\n",
              " 'person': [0.0, 0.0, 0.6207490639591157],\n",
              " 'identify': [0.0, 0.0, 0.47712125471966244],\n",
              " 'refused': [0.0, 0.0, 0.47712125471966244],\n",
              " 'undertake': [0.0, 0.0, 0.47712125471966244],\n",
              " 'breathalyser': [0.0, 0.0, 0.47712125471966244],\n",
              " 'old': [0.0, 0.0, 0.47712125471966244],\n",
              " 'zuidhorn': [0.0, 0.0, 0.47712125471966244],\n",
              " 'searched': [0.0, 0.0, 0.47712125471966244],\n",
              " 'belonging': [0.0, 0.0, 0.47712125471966244],\n",
              " 'instagram': [0.0, 0.0, 0.47712125471966244],\n",
              " 'account': [0.0, 0.0, 0.47712125471966244],\n",
              " 'unfortunately': [0.0, 0.0, 0.47712125471966244],\n",
              " 'forgery': [0.0, 0.0, 0.47712125471966244],\n",
              " 'forged': [0.0, 0.0, 0.47712125471966244],\n",
              " 'made': [0.0, 0.0, 0.47712125471966244],\n",
              " 'kysia': [0.0, 0.0, 0.47712125471966244],\n",
              " 'hekster': [0.0, 0.0, 0.47712125471966244],\n",
              " 'correspondent': [0.0, 0.0, 0.47712125471966244],\n",
              " 'public': [0.0, 0.0, 0.47712125471966244],\n",
              " 'broadcaster': [0.0, 0.0, 0.47712125471966244],\n",
              " 'nos': [0.0, 0.0, 0.6207490639591157],\n",
              " 'tweet': [0.0, 0.0, 0.47712125471966244],\n",
              " 'published': [0.0, 0.0, 0.47712125471966244],\n",
              " 'easily': [0.0, 0.0, 0.47712125471966244],\n",
              " 'bought': [0.0, 0.0, 0.47712125471966244],\n",
              " 'tourist': [0.0, 0.0, 0.47712125471966244],\n",
              " 'shop': [0.0, 0.0, 0.47712125471966244],\n",
              " 'i': [0.0, 0.0, 0.47712125471966244],\n",
              " 'aware': [0.0, 0.0, 0.47712125471966244],\n",
              " 'real': [0.0, 0.0, 0.47712125471966244],\n",
              " 'mr': [0.0, 0.0, 0.47712125471966244],\n",
              " 'netherlands': [0.0, 0.0, 0.47712125471966244]}"
            ]
          },
          "metadata": {},
          "execution_count": 24
        }
      ]
    }
  ]
}